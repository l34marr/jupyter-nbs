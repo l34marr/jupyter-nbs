{
 "cells": [
  {
   "cell_type": "markdown",
   "metadata": {},
   "source": [
    "# File Input Output 檔案讀寫\n",
    "* open() 內建函式用來開啟檔案, 會回傳 File Object\n",
    "* open() 參數可以指定 Write 或 Read Mode, 預設值是 Read Mode\n",
    "* File Object 可以是 Text 或 Binary 型式, 預設值是 Text 型式, 也就是 TextIOWrapper 型別\n",
    "* Text 文字檔案本質是 List of String, 最後是 EOF (End of File) 符號\n",
    "* write(), writeline(), writelines() 是寫檔的 Method, read(), readline(), readlines() 是讀檔的 Method\n",
    "* close() Method 用來關閉檔案\n",
    "* 文字檔案的情境下, 還可以用參數 encoding 來指定編碼格式, 例如 utf8\n",
    "![file](img/file-object.png)"
   ]
  },
  {
   "cell_type": "code",
   "execution_count": null,
   "metadata": {},
   "outputs": [],
   "source": [
    "# 以 Write Mode 開啟檔案\n",
    "f = open(\"sample/myfile.html\", \"w\")\n",
    "f.write(\"<h1>Hello Python</h1>\\n\")\n",
    "f.close()"
   ]
  },
  {
   "cell_type": "code",
   "execution_count": null,
   "metadata": {},
   "outputs": [],
   "source": [
    "# 以 Append Mode 開啟檔案\n",
    "f = open(\"sample/myfile.html\", \"a\")\n",
    "import datetime\n",
    "now = datetime.datetime.now()\n",
    "lines = []\n",
    "\n",
    "for var in ['year', 'month', 'day']:\n",
    "    lines.append(\"<dt>%s</dt><dd>%s</dd>\\n\" % (var, eval('now.'+var)))\n",
    "\n",
    "f.writelines(lines)\n",
    "f.close()"
   ]
  },
  {
   "cell_type": "markdown",
   "metadata": {},
   "source": [
    "# with Statement\n",
    "* 格式範例: with open('myfile') as f:\n",
    "* 系統會自動處理 close() 工作\n",
    "* 提醒: 記得要縮排"
   ]
  },
  {
   "cell_type": "code",
   "execution_count": null,
   "metadata": {},
   "outputs": [],
   "source": [
    "with open(\"sample/myfile.html\", \"r\") as f:\n",
    "    lines = f.read()\n",
    "    print(lines)"
   ]
  },
  {
   "cell_type": "code",
   "execution_count": null,
   "metadata": {},
   "outputs": [],
   "source": [
    "# CSV File Headers\n",
    "filename = 'myfile.csv'\n",
    "with open(filename) as f:\n",
    "    reader = csv.reader(f)\n",
    "    header_row = next(reader)\n",
    "    print(header_row)\n",
    "\n",
    "    for index, column_header in enumerate(header_row):\n",
    "        print(index, column_header)"
   ]
  },
  {
   "cell_type": "markdown",
   "metadata": {},
   "source": [
    "# Exception Handling - Try, Except and Finally\n",
    "* 用來處理錯誤訊息的程式結構\n",
    "* 發生 IOError 的常見情境: 1) 檔案不存在 2) 權限不足 3) 硬碟空間不足"
   ]
  },
  {
   "cell_type": "code",
   "execution_count": null,
   "metadata": {},
   "outputs": [],
   "source": [
    "import sys\n",
    "\n",
    "try:\n",
    "    f = open(\"myfile.txt\", encoding='utf-8')\n",
    "    # when successful, perform file operations\n",
    "    s = f.readline()\n",
    "    i = int(s.strip())\n",
    "\n",
    "except IOError:\n",
    "    # codes for IOError\n",
    "\n",
    "except ValueError:\n",
    "    print(\"Could Not Convert Data to Integer.\")\n",
    "    \n",
    "# make sure the file is closed even if an exception occurs\n",
    "finally:\n",
    "    f.close()"
   ]
  },
  {
   "cell_type": "markdown",
   "metadata": {},
   "source": [
    "# Pickle: Object Serialization\n",
    "* 把 Python 執行中的資料狀態記錄成檔案, 稱為 Pickling, 相反的動作則是從檔案回復 Python 之前的執行狀態, 稱為 Unpackling"
   ]
  },
  {
   "cell_type": "markdown",
   "metadata": {},
   "source": [
    "# Shelve: Indexed Databases of Objects\n",
    "* 輕量型的資料庫, 能夠記錄 Python 執行中的資料狀態"
   ]
  },
  {
   "cell_type": "markdown",
   "metadata": {},
   "source": [
    "# urllib 模組\n",
    "* 存取網站檔案的傳統工具\n",
    "* 使用時要[注意版本](https://pythonprogramming.net/urllib-tutorial-python-3/)"
   ]
  },
  {
   "cell_type": "code",
   "execution_count": null,
   "metadata": {},
   "outputs": [],
   "source": [
    "import urllib.request"
   ]
  },
  {
   "cell_type": "code",
   "execution_count": null,
   "metadata": {},
   "outputs": [],
   "source": [
    "# GET 操作範例\n",
    "sdata = urllib.request.urlopen('https://www.google.com/')"
   ]
  },
  {
   "cell_type": "code",
   "execution_count": null,
   "metadata": {},
   "outputs": [],
   "source": [
    "print(sdata.read())"
   ]
  },
  {
   "cell_type": "code",
   "execution_count": null,
   "metadata": {},
   "outputs": [],
   "source": [
    "# POST 操作範例\n",
    "import urllib.parse\n",
    "\n",
    "url = 'https://www.google.com/search'\n",
    "values = {'q': 'health open data'}"
   ]
  },
  {
   "cell_type": "code",
   "execution_count": null,
   "metadata": {},
   "outputs": [],
   "source": [
    "data = urllib.parse.urlencode(values)\n",
    "# data 必須是 bytes 格式\n",
    "data = data.encoding('utf-8')\n",
    "req = urllib.request.Request(url, data)\n",
    "resp = urllib.request.urlopen(req)\n",
    "respData = resp.read()\n",
    "\n",
    "print(respData)"
   ]
  },
  {
   "cell_type": "code",
   "execution_count": null,
   "metadata": {},
   "outputs": [],
   "source": [
    "# 上述範例如果遇到 405 訊息, 可以改試\n",
    "try:\n",
    "    url = 'https://www.google.com/search?q=health'\n",
    "\n",
    "    # now, with the below headers, we defined ourselves as a simpleton who is\n",
    "    # still using internet explorer.\n",
    "    headers = {}\n",
    "    headers['User-Agent'] = \"Mozilla/5.0 (X11; Linux i686) AppleWebKit/537.17 (KHTML, like Gecko) Chrome/24.0.1312.27 Safari/537.17\"\n",
    "    req = urllib.request.Request(url, headers = headers)\n",
    "    resp = urllib.request.urlopen(req)\n",
    "    respData = resp.read()\n",
    "\n",
    "    saveFile = open('withHeaders.txt','w')\n",
    "    saveFile.write(str(respData))\n",
    "    saveFile.close()\n",
    "\n",
    "except Exception as e:\n",
    "    print(str(e))"
   ]
  },
  {
   "cell_type": "markdown",
   "metadata": {},
   "source": [
    "其他檔案類型範例: [讀取聲音檔](https://www.facebook.com/groups/pythontw/permalink/10158837309793438)"
   ]
  }
 ],
 "metadata": {
  "kernelspec": {
   "display_name": "Python 3",
   "language": "python",
   "name": "python3"
  },
  "language_info": {
   "codemirror_mode": {
    "name": "ipython",
    "version": 3
   },
   "file_extension": ".py",
   "mimetype": "text/x-python",
   "name": "python",
   "nbconvert_exporter": "python",
   "pygments_lexer": "ipython3",
   "version": "3.7.4"
  }
 },
 "nbformat": 4,
 "nbformat_minor": 2
}
