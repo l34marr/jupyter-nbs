{
 "cells": [
  {
   "cell_type": "markdown",
   "metadata": {},
   "source": [
    "# Pandas 操作入門\n",
    "* Pandas 底層以 NumPy 為基礎, 搭配 Matplotlib, SciPy 提供數據分析的功能\n",
    "* DataFrame 是 Pandas 常見的資料結構, 可以處理 [Excel](http://pbpython.com/excel-pandas-comp.html) 試算表類型的資料"
   ]
  },
  {
   "cell_type": "markdown",
   "metadata": {},
   "source": [
    "# 最常見的起手式指令"
   ]
  },
  {
   "cell_type": "code",
   "execution_count": null,
   "metadata": {
    "collapsed": true
   },
   "outputs": [],
   "source": [
    "import pandas as pd\n",
    "import numpy as np"
   ]
  },
  {
   "cell_type": "markdown",
   "metadata": {},
   "source": [
    "# NumPy 基本操作\n",
    "* NumPy 支援 Array 型別和常見的科學計算功能, 內部運算採 C 語言最佳化的實作, 讓 NumPy 同時享有易讀和效能的兩大優勢\n",
    "* 參考文件: [Python Numpy Array Tutorial](https://www.datacamp.com/community/tutorials/python-numpy-tutorial)"
   ]
  },
  {
   "cell_type": "markdown",
   "metadata": {},
   "source": [
    "## 最簡單的 Array 建立方式\n",
    "* 注意: 資料型態要一致, 才能建立多維 Array"
   ]
  },
  {
   "cell_type": "code",
   "execution_count": null,
   "metadata": {
    "collapsed": true
   },
   "outputs": [],
   "source": [
    "# 一維\n",
    "ar1 = np.array([0, 1, 2, 3])\n",
    "\n",
    "# 二維\n",
    "ar2 = np.array([[0, 3, 5], [2, 8, 7]])"
   ]
  },
  {
   "cell_type": "markdown",
   "metadata": {},
   "source": [
    "## 讀取屬性值\n",
    "* dtype: data type\n",
    "* ndim: the number of dimensions\n",
    "* shape: the dimensions of the array"
   ]
  },
  {
   "cell_type": "code",
   "execution_count": null,
   "metadata": {},
   "outputs": [],
   "source": [
    "print(ar1.dtype)\n",
    "print(ar2.ndim)\n",
    "print(ar2.shape)"
   ]
  },
  {
   "cell_type": "markdown",
   "metadata": {},
   "source": [
    "## 讀取 Column"
   ]
  },
  {
   "cell_type": "code",
   "execution_count": null,
   "metadata": {
    "collapsed": true
   },
   "outputs": [],
   "source": [
    "# 讀取第1欄資料\n",
    "ar2[:,0]"
   ]
  },
  {
   "cell_type": "markdown",
   "metadata": {},
   "source": [
    "## Arrary 基本運算\n",
    "![Broadcast Example](https://i.stack.imgur.com/kzNxo.gif)\n",
    "* 採取 Element-wise 針對每個元素進行運算方式, 或是 Broadcast 運算方式, 也就是元素維度一致或是其中一個 Array 是一維\n",
    "* [sort()](https://www.tutorialspoint.com/numpy/numpy_sort_search_counting_functions.htm) [sort by column](https://stackoverflow.com/questions/2828059/sorting-arrays-in-numpy-by-column)"
   ]
  },
  {
   "cell_type": "code",
   "execution_count": null,
   "metadata": {
    "collapsed": true
   },
   "outputs": [],
   "source": [
    "ar1 + 10"
   ]
  },
  {
   "cell_type": "code",
   "execution_count": null,
   "metadata": {
    "collapsed": true
   },
   "outputs": [],
   "source": [
    "ar1 * 5"
   ]
  },
  {
   "cell_type": "code",
   "execution_count": null,
   "metadata": {
    "collapsed": true
   },
   "outputs": [],
   "source": [
    "ar1 + 10 - ar1 * 5"
   ]
  },
  {
   "cell_type": "code",
   "execution_count": null,
   "metadata": {
    "collapsed": true
   },
   "outputs": [],
   "source": [
    "ar1 * np.array([10**0, 10**1, 10**2, 10**3])"
   ]
  },
  {
   "cell_type": "code",
   "execution_count": null,
   "metadata": {
    "collapsed": true
   },
   "outputs": [],
   "source": [
    "# Transpose\n",
    "ar2.T"
   ]
  },
  {
   "cell_type": "code",
   "execution_count": null,
   "metadata": {
    "collapsed": true
   },
   "outputs": [],
   "source": [
    "arA = np.arange(0, 6)\n",
    "arB = np.array([0, 1, 2, 3, 4, 5])\n",
    "np.array_equal(arA, arB)"
   ]
  },
  {
   "cell_type": "code",
   "execution_count": null,
   "metadata": {
    "collapsed": true
   },
   "outputs": [],
   "source": [
    "# 與上述 array_equal() 範例同義\n",
    "np.all(arA == arB)"
   ]
  },
  {
   "cell_type": "code",
   "execution_count": null,
   "metadata": {
    "collapsed": true
   },
   "outputs": [],
   "source": [
    "# 取得隨機值\n",
    "np.random.seed(10)\n",
    "arR = np.random.randint(0, 10, size=(4,5))\n",
    "arR"
   ]
  },
  {
   "cell_type": "code",
   "execution_count": null,
   "metadata": {
    "collapsed": true
   },
   "outputs": [],
   "source": [
    "arR.mean()"
   ]
  },
  {
   "cell_type": "code",
   "execution_count": null,
   "metadata": {
    "collapsed": true
   },
   "outputs": [],
   "source": [
    "arR.std()"
   ]
  },
  {
   "cell_type": "code",
   "execution_count": null,
   "metadata": {
    "collapsed": true
   },
   "outputs": [],
   "source": [
    "arR.var(axis=0)"
   ]
  },
  {
   "cell_type": "code",
   "execution_count": null,
   "metadata": {
    "collapsed": true
   },
   "outputs": [],
   "source": [
    "arR.cumsum()"
   ]
  },
  {
   "cell_type": "markdown",
   "metadata": {},
   "source": [
    "## 利用 arange() 建立 Array\n",
    "* 格式: arange(start, end, step)"
   ]
  },
  {
   "cell_type": "code",
   "execution_count": null,
   "metadata": {
    "collapsed": true
   },
   "outputs": [],
   "source": [
    "ar3 = np.arange(1, 16)\n",
    "ar3"
   ]
  },
  {
   "cell_type": "code",
   "execution_count": null,
   "metadata": {
    "collapsed": true
   },
   "outputs": [],
   "source": [
    "ar3[0], ar3[-1]"
   ]
  },
  {
   "cell_type": "code",
   "execution_count": null,
   "metadata": {
    "collapsed": true
   },
   "outputs": [],
   "source": [
    "# 切片運算格式: [start:end:step]\n",
    "ar3[0:-3:2]"
   ]
  },
  {
   "cell_type": "code",
   "execution_count": null,
   "metadata": {
    "collapsed": true
   },
   "outputs": [],
   "source": [
    "# Reshaping\n",
    "ar3.reshape(3, 5)"
   ]
  },
  {
   "cell_type": "code",
   "execution_count": null,
   "metadata": {
    "collapsed": true
   },
   "outputs": [],
   "source": [
    "# Resizing\n",
    "ar3.resize((18,))\n",
    "\n",
    "# 如果遇到 ValueError: ... Use the resize function 則改用下列語法\n",
    "# np.resize(ar3, (18,))"
   ]
  },
  {
   "cell_type": "code",
   "execution_count": null,
   "metadata": {
    "collapsed": true
   },
   "outputs": [],
   "source": [
    "# 計算時間\n",
    "ar1000 = np.arange(1000)\n",
    "%timeit ar1000 ** 3"
   ]
  },
  {
   "cell_type": "markdown",
   "metadata": {},
   "source": [
    "# Mask: 是否符合篩選條件的 Bool Array"
   ]
  },
  {
   "cell_type": "code",
   "execution_count": null,
   "metadata": {
    "collapsed": true
   },
   "outputs": [],
   "source": [
    "# 建立偶數的 Mask\n",
    "evenMask = (ar3 % 2 == 0)\n",
    "print(evenMask)"
   ]
  },
  {
   "cell_type": "code",
   "execution_count": null,
   "metadata": {
    "collapsed": true
   },
   "outputs": [],
   "source": [
    "evenNums = ar3[evenMask]\n",
    "print(evenNums)"
   ]
  },
  {
   "cell_type": "markdown",
   "metadata": {},
   "source": [
    "## 認識 View 與 Copy 的不同\n",
    "* [View](http://scipy-cookbook.readthedocs.io/items/ViewsVsCopies.html) 又可分為 Slice View 和 Dtype View, 但 Slice View 是常見範例\n",
    "* [View 之間的 Shape 改變的話, 並不會一樣](https://www.tutorialspoint.com/numpy/numpy_copies_and_views.htm)"
   ]
  },
  {
   "cell_type": "code",
   "execution_count": null,
   "metadata": {
    "collapsed": true
   },
   "outputs": [],
   "source": [
    "arView = ar3[::2]\n",
    "arView"
   ]
  },
  {
   "cell_type": "code",
   "execution_count": null,
   "metadata": {
    "collapsed": true
   },
   "outputs": [],
   "source": [
    "arView[1] = -1\n",
    "ar3"
   ]
  },
  {
   "cell_type": "code",
   "execution_count": null,
   "metadata": {
    "collapsed": true
   },
   "outputs": [],
   "source": [
    "# Deep Copy 的範例\n",
    "arCopy = ar3[::2].copy()"
   ]
  },
  {
   "cell_type": "markdown",
   "metadata": {},
   "source": [
    "# Pandas 資料型別\n",
    "* 入門階段 Series 和 DataFrame 是最常見的資料型別\n",
    "* DataFrame 由 Series 組成\n",
    "<img src=\"http://bookdata.readthedocs.io/en/latest/_images/base_01_pandas_5_0.png\" />"
   ]
  },
  {
   "cell_type": "markdown",
   "metadata": {},
   "source": [
    "## 利用 List 建立 Series"
   ]
  },
  {
   "cell_type": "code",
   "execution_count": null,
   "metadata": {
    "collapsed": true
   },
   "outputs": [],
   "source": [
    "# List of Float (溫度記錄)\n",
    "s1 = pd.Series([8.3, 7.0, 9.5, 11.7, 13.1, 14.8])"
   ]
  },
  {
   "cell_type": "markdown",
   "metadata": {},
   "source": [
    "## Series 由 Index 和 Value 組成\n",
    "* 為了運算效能, 會自動讓 Value 使用一致的 Data Type (dtype) 來儲存"
   ]
  },
  {
   "cell_type": "code",
   "execution_count": null,
   "metadata": {
    "collapsed": true
   },
   "outputs": [],
   "source": [
    "print(s1.index)\n",
    "print(s1.values)\n",
    "print(s1.dtype)"
   ]
  },
  {
   "cell_type": "markdown",
   "metadata": {},
   "source": [
    "# 觀察 Series 的長相\n",
    "* 第1欄是 Index\n",
    "* 第2欄是 Value\n",
    "* 最下方是 Data Type"
   ]
  },
  {
   "cell_type": "code",
   "execution_count": null,
   "metadata": {
    "collapsed": true
   },
   "outputs": [],
   "source": [
    "s1"
   ]
  },
  {
   "cell_type": "markdown",
   "metadata": {},
   "source": [
    "# 利用月份名稱當作 Index"
   ]
  },
  {
   "cell_type": "code",
   "execution_count": null,
   "metadata": {
    "collapsed": true
   },
   "outputs": [],
   "source": [
    "import calendar as cal\n",
    "\n",
    "monthNames = [cal.month_name[i] for i in np.arange(1, 13)]\n",
    "monthNames"
   ]
  },
  {
   "cell_type": "code",
   "execution_count": null,
   "metadata": {
    "collapsed": true
   },
   "outputs": [],
   "source": [
    "s_month = pd.Series(np.arange(1, 13), index=monthNames)\n",
    "s_month"
   ]
  },
  {
   "cell_type": "markdown",
   "metadata": {},
   "source": [
    "# 建立 DataFrame 的四種方式\n",
    "<img src=\"http://pbpython.com/images/pandas-dataframe-shadow.png\" />"
   ]
  },
  {
   "cell_type": "markdown",
   "metadata": {},
   "source": [
    "## 利用 2個 Series 的 Dictionary 來建立 DataFrame"
   ]
  },
  {
   "cell_type": "code",
   "execution_count": null,
   "metadata": {
    "collapsed": true
   },
   "outputs": [],
   "source": [
    "# 累積雨量記錄, 缺值可用 np.nan (Not a Number) 來代表\n",
    "s2 = pd.Series([10.0,33.4,107.4,330.5,np.nan,1986.6])\n",
    "dataset = {'TP': s1, 'AP': s2}\n",
    "df = pd.DataFrame.from_dict(dataset)\n",
    "df"
   ]
  },
  {
   "cell_type": "code",
   "execution_count": null,
   "metadata": {
    "collapsed": true
   },
   "outputs": [],
   "source": [
    "# 顯示 axis dimensions 資訊\n",
    "df.shape"
   ]
  },
  {
   "cell_type": "code",
   "execution_count": null,
   "metadata": {
    "collapsed": true
   },
   "outputs": [],
   "source": [
    "# 顯示摘要統計資訊\n",
    "df.describe()"
   ]
  },
  {
   "cell_type": "markdown",
   "metadata": {},
   "source": [
    "## 選取 Column\n",
    "* 可用 .ColumnName 或 ['ColumnName']\n",
    "* 如果有空白字元只能用 ['Column Name']"
   ]
  },
  {
   "cell_type": "code",
   "execution_count": null,
   "metadata": {
    "collapsed": true
   },
   "outputs": [],
   "source": [
    "# 顯示所有 Column 名稱\n",
    "df.columns"
   ]
  },
  {
   "cell_type": "code",
   "execution_count": null,
   "metadata": {
    "collapsed": true
   },
   "outputs": [],
   "source": [
    "# df. 支援 Tab Completion\n",
    "df.AP\n"
   ]
  },
  {
   "cell_type": "markdown",
   "metadata": {},
   "source": [
    "# 建立 100筆隨機數值的 DataFrame"
   ]
  },
  {
   "cell_type": "code",
   "execution_count": null,
   "metadata": {
    "collapsed": true
   },
   "outputs": [],
   "source": [
    "d = {'Cost': np.random.normal(100, 5, 100),\n",
    "     'Profit': np.random.normal(50, 5, 100),\n",
    "     'CatA': np.random.choice(['a', 'b', 'c'], 100),\n",
    "     'CatB': np.random.choice(['e', 'f', 'g'], 100)}\n",
    "df = pd.DataFrame(d)"
   ]
  },
  {
   "cell_type": "markdown",
   "metadata": {},
   "source": [
    "## 顯示或選取特定 Row"
   ]
  },
  {
   "cell_type": "code",
   "execution_count": null,
   "metadata": {
    "collapsed": true
   },
   "outputs": [],
   "source": [
    "# 顯示前五列\n",
    "df.head()"
   ]
  },
  {
   "cell_type": "code",
   "execution_count": null,
   "metadata": {
    "collapsed": true
   },
   "outputs": [],
   "source": [
    "# 顯示末三列\n",
    "df.tail(3)"
   ]
  },
  {
   "cell_type": "code",
   "execution_count": null,
   "metadata": {
    "collapsed": true
   },
   "outputs": [],
   "source": [
    "# 顯示前三列\n",
    "df[:3]"
   ]
  },
  {
   "cell_type": "markdown",
   "metadata": {},
   "source": [
    "## 選取多個 Column"
   ]
  },
  {
   "cell_type": "code",
   "execution_count": null,
   "metadata": {
    "collapsed": true
   },
   "outputs": [],
   "source": [
    "# 查詢特定 Column 不同的元素數有哪幾個\n",
    "df['CatA'].unique()"
   ]
  },
  {
   "cell_type": "code",
   "execution_count": null,
   "metadata": {
    "collapsed": true
   },
   "outputs": [],
   "source": [
    "# 選取其中的兩個 Column\n",
    "df[['Cost', 'Profit']]"
   ]
  },
  {
   "cell_type": "code",
   "execution_count": null,
   "metadata": {
    "collapsed": true
   },
   "outputs": [],
   "source": [
    "df[df.CatA == 'a'][:5]"
   ]
  },
  {
   "cell_type": "code",
   "execution_count": null,
   "metadata": {
    "collapsed": true
   },
   "outputs": [],
   "source": [
    "type(df.CatA)"
   ]
  },
  {
   "cell_type": "code",
   "execution_count": null,
   "metadata": {
    "collapsed": true
   },
   "outputs": [],
   "source": [
    "# 依據篩選條件建立新 Column\n",
    "df['count_a'] = df['CatA'].apply(lambda x: x.count('a'))"
   ]
  },
  {
   "cell_type": "code",
   "execution_count": null,
   "metadata": {
    "collapsed": true
   },
   "outputs": [],
   "source": [
    "# 建立 a or e 的 a and e 的資料集\n",
    "a_e = ['a', 'e']\n",
    "CatA_a_e = df[df.CatA.isin(a_e)]\n",
    "only_a_e = CatA_a_e[CatA_a_e.CatB.isin(a_e)]\n",
    "only_a_e[:5]"
   ]
  },
  {
   "cell_type": "code",
   "execution_count": null,
   "metadata": {
    "collapsed": true
   },
   "outputs": [],
   "source": [
    "# 同上, 但利用 logical_and 函式\n",
    "mask = np.logical_and(df.CatA=='a', df.CatB=='e')\n",
    "df[mask][:5]"
   ]
  },
  {
   "cell_type": "markdown",
   "metadata": {},
   "source": [
    "## 排序運算\n",
    "* 使用 sort_values() 函式, 如果參數是 ['c1', 'c2' ...] 可以依次排序"
   ]
  },
  {
   "cell_type": "code",
   "execution_count": null,
   "metadata": {
    "collapsed": true
   },
   "outputs": [],
   "source": [
    "sorted = df.sort_values('Profit', ascending=False)\n",
    "sorted.head()"
   ]
  },
  {
   "cell_type": "code",
   "execution_count": null,
   "metadata": {
    "collapsed": true
   },
   "outputs": [],
   "source": [
    "df['Profit'].sort_values(ascending=False)"
   ]
  },
  {
   "cell_type": "markdown",
   "metadata": {},
   "source": [
    "## 上述運算結果與下列同義"
   ]
  },
  {
   "cell_type": "code",
   "execution_count": null,
   "metadata": {},
   "outputs": [],
   "source": [
    "df['Profit'].max()"
   ]
  },
  {
   "cell_type": "markdown",
   "metadata": {},
   "source": [
    "## 加總次數\n",
    "* 使用 value_counts() 函式"
   ]
  },
  {
   "cell_type": "code",
   "execution_count": null,
   "metadata": {},
   "outputs": [],
   "source": [
    "pd.value_counts(df['CatA'])"
   ]
  },
  {
   "cell_type": "markdown",
   "metadata": {},
   "source": [
    "# 寫入檔案\n",
    "* pandas.DataFrame.to_csv 寫入 CSV 檔案: encoding 預設值在 Python2 是 ascii, 在 Python3 是 utf-8, sep 預設值是 ','\n",
    "* pandas.DataFrame.to_excel 寫入 Excel 檔案: sheet_name 預設值是 'Sheet1'"
   ]
  },
  {
   "cell_type": "code",
   "execution_count": null,
   "metadata": {
    "collapsed": true
   },
   "outputs": [],
   "source": [
    "# 常見的寫入參數: index=False 代表要取消最前面的編號欄\n",
    "sorted.to_csv('sorted.csv', encoding='utf-8', index=False)"
   ]
  },
  {
   "cell_type": "code",
   "execution_count": null,
   "metadata": {},
   "outputs": [],
   "source": [
    "# 如果使用存在的 ExcelWriter 物件, 可以將不同的 DataFrame 存到同一個 Workbook\n",
    "writer = pd.ExcelWriter('output.xlsx')\n",
    "df.to_excel(writer, 'Sheet1')\n",
    "# df2.to_excel(writer, 'Sheet2')\n",
    "writer.save()"
   ]
  },
  {
   "cell_type": "markdown",
   "metadata": {},
   "source": [
    "# 範例: 成績表 Grade Sheet\n",
    "* 主要欄位包括: 學號, 課號, 成績"
   ]
  },
  {
   "cell_type": "code",
   "execution_count": null,
   "metadata": {},
   "outputs": [],
   "source": [
    "gs1 = pd.read_csv('sample/cgu-201810.csv')\n",
    "\n",
    "# 這樣會遇到什麼問題嗎?"
   ]
  },
  {
   "cell_type": "code",
   "execution_count": null,
   "metadata": {},
   "outputs": [],
   "source": [
    "# 檢視 gs1 的內容\n",
    "gs1"
   ]
  },
  {
   "cell_type": "code",
   "execution_count": null,
   "metadata": {},
   "outputs": [],
   "source": [
    "gs2 = pd.read_csv('sample/cgu-201810.csv', encoding='big5')"
   ]
  },
  {
   "cell_type": "code",
   "execution_count": null,
   "metadata": {},
   "outputs": [],
   "source": [
    "# 檢視 gs2 的內容\n",
    "gs2"
   ]
  },
  {
   "cell_type": "code",
   "execution_count": null,
   "metadata": {},
   "outputs": [],
   "source": [
    "gs2.describe()"
   ]
  },
  {
   "cell_type": "code",
   "execution_count": null,
   "metadata": {},
   "outputs": [],
   "source": [
    "gs2.describe(include=float)"
   ]
  },
  {
   "cell_type": "code",
   "execution_count": null,
   "metadata": {},
   "outputs": [],
   "source": [
    "gs2.修課成績.mean()"
   ]
  },
  {
   "cell_type": "code",
   "execution_count": null,
   "metadata": {},
   "outputs": [],
   "source": [
    "gs2['學號*'].unique()"
   ]
  },
  {
   "cell_type": "code",
   "execution_count": null,
   "metadata": {},
   "outputs": [],
   "source": [
    "len(gs2['學號*'].unique())"
   ]
  },
  {
   "cell_type": "code",
   "execution_count": null,
   "metadata": {},
   "outputs": [],
   "source": [
    "gs2.groupby('學號*').size()\n",
    "# 第一個欄位是學號 第二個數值是學號的選課數量"
   ]
  },
  {
   "cell_type": "code",
   "execution_count": null,
   "metadata": {},
   "outputs": [],
   "source": [
    "gs2.groupby('學號*').get_group('B5013247')"
   ]
  },
  {
   "cell_type": "code",
   "execution_count": null,
   "metadata": {},
   "outputs": [],
   "source": [
    "gs2.groupby('系所*').size()"
   ]
  },
  {
   "cell_type": "code",
   "execution_count": null,
   "metadata": {},
   "outputs": [],
   "source": [
    "gs2.groupby('修課永久課號*').size()"
   ]
  },
  {
   "cell_type": "code",
   "execution_count": null,
   "metadata": {},
   "outputs": [],
   "source": [
    "gs2.groupby('居住地').groups"
   ]
  },
  {
   "cell_type": "code",
   "execution_count": null,
   "metadata": {},
   "outputs": [],
   "source": [
    "len(gs2.groupby('居住地').groups)"
   ]
  },
  {
   "cell_type": "code",
   "execution_count": null,
   "metadata": {},
   "outputs": [],
   "source": [
    "gs2.groupby('居住地').get_group('臺南市')"
   ]
  },
  {
   "cell_type": "code",
   "execution_count": null,
   "metadata": {},
   "outputs": [],
   "source": [
    "gs2.groupby(['居住地','入學管道','修課年級']).mean()"
   ]
  },
  {
   "cell_type": "markdown",
   "metadata": {},
   "source": [
    "# 範例: 好評影片集\n",
    "* IMDB Ratings 資料網址: http://bit.ly/imdbtatings\n",
    "* 找出播映時間超過 200分鐘的影片"
   ]
  },
  {
   "cell_type": "code",
   "execution_count": null,
   "metadata": {
    "collapsed": true
   },
   "outputs": [],
   "source": [
    "# 讀取 DataSet 內容\n",
    "movies = pd.read_csv('http://bit.ly/imdbratings')\n",
    "movies[:5]"
   ]
  },
  {
   "cell_type": "code",
   "execution_count": null,
   "metadata": {
    "collapsed": true
   },
   "outputs": [],
   "source": [
    "# 利用 For Loop 建立遮罩\n",
    "mask = []\n",
    "for length in movies.duration:\n",
    "    if length >= 200:\n",
    "        mask.append(True)\n",
    "    else:\n",
    "        mask.append(False)\n",
    "\n",
    "mask[:5]"
   ]
  },
  {
   "cell_type": "code",
   "execution_count": null,
   "metadata": {
    "collapsed": true
   },
   "outputs": [],
   "source": [
    "is_long = pd.Series(mask)\n",
    "is_long[:5]"
   ]
  },
  {
   "cell_type": "code",
   "execution_count": null,
   "metadata": {
    "collapsed": true
   },
   "outputs": [],
   "source": [
    "# 另一種方式: 不用 For Loop 也能建立遮罩\n",
    "is_long2 = movies.duration >= 200\n",
    "is_long2[:5]"
   ]
  },
  {
   "cell_type": "code",
   "execution_count": null,
   "metadata": {
    "collapsed": true
   },
   "outputs": [],
   "source": [
    "movies[is_long2]"
   ]
  },
  {
   "cell_type": "code",
   "execution_count": null,
   "metadata": {
    "collapsed": true
   },
   "outputs": [],
   "source": [
    "movies[movies.duration >= 200]"
   ]
  },
  {
   "cell_type": "markdown",
   "metadata": {},
   "source": [
    "## 篩選多個類型條件\n",
    "And Or 運算在 Pandas 裡使用 & | 符號"
   ]
  },
  {
   "cell_type": "code",
   "execution_count": null,
   "metadata": {
    "collapsed": true
   },
   "outputs": [],
   "source": [
    "movies[(movies.duration >= 200) & (movies.genre == 'Drama')]"
   ]
  },
  {
   "cell_type": "code",
   "execution_count": null,
   "metadata": {
    "collapsed": true
   },
   "outputs": [],
   "source": [
    "movies[(movies.genre == 'Crime') | (movies.genre == 'Drama') | (movies.genre == 'Action')]"
   ]
  },
  {
   "cell_type": "code",
   "execution_count": null,
   "metadata": {
    "collapsed": true
   },
   "outputs": [],
   "source": [
    "mymask = movies.genre.isin(['Crime', 'Drama', 'Action'])\n",
    "mymask"
   ]
  },
  {
   "cell_type": "markdown",
   "metadata": {},
   "source": [
    "## 還可以試 ~ 運算\n",
    "* https://stackoverflow.com/questions/19960077/how-to-implement-in-and-not-in-for-pandas-dataframe"
   ]
  },
  {
   "cell_type": "code",
   "execution_count": null,
   "metadata": {
    "collapsed": true
   },
   "outputs": [],
   "source": [
    "movies[movies.genre.isin(['Crime', 'Drama', 'Action'])]"
   ]
  },
  {
   "cell_type": "markdown",
   "metadata": {},
   "source": [
    "# 範例: 奧運記錄資料\n",
    "* [應用歷史記錄進行分析](https://towardsdatascience.com/exploratory-statistical-data-analysis-with-a-real-dataset-using-pandas-208007798b92)\n",
    "* Athlete Events Dataset from Kaggle: https://www.kaggle.com/heesoo37/120-years-of-olympic-history-athletes-and-results#athlete_events.csv"
   ]
  },
  {
   "cell_type": "code",
   "execution_count": null,
   "metadata": {},
   "outputs": [],
   "source": [
    "ae = pd.read_csv('athlete_events.csv')\n",
    "ae.shape"
   ]
  },
  {
   "cell_type": "code",
   "execution_count": null,
   "metadata": {},
   "outputs": [],
   "source": [
    "def NaN_percent(df, column_name):\n",
    "    row_count = df[column_name].shape[0]\n",
    "    empty_values = row_count - df[column_name].count()\n",
    "    return (100.0*empty_values)/row_count"
   ]
  },
  {
   "cell_type": "code",
   "execution_count": null,
   "metadata": {},
   "outputs": [],
   "source": [
    "NaN_percent(ae, 'Height')"
   ]
  },
  {
   "cell_type": "code",
   "execution_count": null,
   "metadata": {},
   "outputs": [],
   "source": [
    "for i in list(ae):\n",
    "    print(i +': ' + str(NaN_percent(ae,i))+'%')"
   ]
  },
  {
   "cell_type": "code",
   "execution_count": null,
   "metadata": {},
   "outputs": [],
   "source": [
    "total_rows = ae.shape[0]\n",
    "unique_athletes = len(ae.Name.unique())\n",
    "medal_winners = len(ae[ae.Medal.fillna('None')!='None'].Name.unique())\n",
    "\n",
    "\"{0} {1} {2}\".format(total_rows, unique_athletes, medal_winners)"
   ]
  },
  {
   "cell_type": "markdown",
   "metadata": {},
   "source": [
    "# 進階篩選工具\n",
    "* loc 依 Label 篩選\n",
    "* iloc 代表 Integer LOC, 依整數索引篩選\n",
    "* ix 允許 Label 與 Integer 混合規則"
   ]
  },
  {
   "cell_type": "code",
   "execution_count": null,
   "metadata": {
    "collapsed": true
   },
   "outputs": [],
   "source": [
    "movies.columns"
   ]
  },
  {
   "cell_type": "markdown",
   "metadata": {},
   "source": [
    "## loc 語法: 先決定 Row (Index Label) 再決定 Column Label\n",
    "* Single Label: 例 3 或 'a'\n",
    "* List of Labels: 例 ['a', 'b', 'c']\n",
    "* Slice of Labels: 例 'a':'c'"
   ]
  },
  {
   "cell_type": "code",
   "execution_count": null,
   "metadata": {
    "collapsed": true
   },
   "outputs": [],
   "source": [
    "movies.loc[[0,1,2,977,978], 'star_rating':'genre']"
   ]
  },
  {
   "cell_type": "markdown",
   "metadata": {},
   "source": [
    "## Drop: 刪除 Row 或 Column\n",
    "* Label / List of Labels\n",
    "* df.index[n] / df.index[[m,n]]\n",
    "<pre>axis=0 代表 Row\n",
    "axis=1 代表 Column\n",
    "inplace=True 代表取代掉舊資料</pre>"
   ]
  },
  {
   "cell_type": "code",
   "execution_count": null,
   "metadata": {
    "collapsed": true
   },
   "outputs": [],
   "source": [
    "movies.drop('content_rating', axis=1)"
   ]
  },
  {
   "cell_type": "markdown",
   "metadata": {},
   "source": [
    "# 字串處理\n",
    "* Series 提供 str 處理工具"
   ]
  },
  {
   "cell_type": "markdown",
   "metadata": {},
   "source": [
    "## 過濾特定字串"
   ]
  },
  {
   "cell_type": "code",
   "execution_count": null,
   "metadata": {
    "collapsed": true
   },
   "outputs": [],
   "source": [
    "movies.title != 'The Godfather'"
   ]
  },
  {
   "cell_type": "markdown",
   "metadata": {},
   "source": [
    "## 過濾特定單字\n",
    "<a href=\"http://stackoverflow.com/questions/34962104/pandas-how-can-i-use-the-apply-function-for-a-single-column\">Series 可以接 apply() 或 map() 兩者有差異嗎?</a>"
   ]
  },
  {
   "cell_type": "code",
   "execution_count": null,
   "metadata": {
    "collapsed": true
   },
   "outputs": [],
   "source": [
    "movies.title.apply(lambda x: False if 'The' in x.split() else True)"
   ]
  },
  {
   "cell_type": "markdown",
   "metadata": {},
   "source": [
    "## 使用 str 過濾特定單字"
   ]
  },
  {
   "cell_type": "code",
   "execution_count": null,
   "metadata": {
    "collapsed": true
   },
   "outputs": [],
   "source": [
    "movies.actors_list.str.contains('Tom')"
   ]
  },
  {
   "cell_type": "markdown",
   "metadata": {},
   "source": [
    "# GroupBy"
   ]
  },
  {
   "cell_type": "code",
   "execution_count": null,
   "metadata": {
    "collapsed": true
   },
   "outputs": [],
   "source": [
    "myGrp = movies.groupby('content_rating')\n",
    "myGrp.groups"
   ]
  },
  {
   "cell_type": "code",
   "execution_count": null,
   "metadata": {
    "collapsed": true
   },
   "outputs": [],
   "source": [
    "len(myGrp.groups)"
   ]
  },
  {
   "cell_type": "code",
   "execution_count": null,
   "metadata": {
    "collapsed": true
   },
   "outputs": [],
   "source": [
    "myGrp.size()"
   ]
  },
  {
   "cell_type": "code",
   "execution_count": null,
   "metadata": {
    "collapsed": true
   },
   "outputs": [],
   "source": [
    "myGrp.size().sort_values(ascending=False)"
   ]
  },
  {
   "cell_type": "markdown",
   "metadata": {},
   "source": [
    "# 時間數列\n",
    "df.set_index('TimeColumn')"
   ]
  },
  {
   "cell_type": "code",
   "execution_count": null,
   "metadata": {},
   "outputs": [],
   "source": []
  },
  {
   "cell_type": "markdown",
   "metadata": {},
   "source": [
    "# GeoPy\n",
    "https://youtu.be/q_OUHA_zqeM?t=2m27s"
   ]
  },
  {
   "cell_type": "code",
   "execution_count": null,
   "metadata": {
    "collapsed": true
   },
   "outputs": [],
   "source": [
    "from geopy.geocoders import Nominatim\n",
    "nom = Nominatim()\n",
    "nom.geocode(\"3995 23rn St, San Francisco, CA 94114\")"
   ]
  },
  {
   "cell_type": "markdown",
   "metadata": {},
   "source": [
    "# 讀取資料使用 Matplotlib 繪圖"
   ]
  },
  {
   "cell_type": "code",
   "execution_count": null,
   "metadata": {},
   "outputs": [],
   "source": [
    "import csv\n",
    "import numpy as np\n",
    "import matplotlib.pyplot as plt\n",
    "\n",
    "def dataset(path, filter_field=None, filter_value=None):\n",
    "    with open(path, 'r') as csvfile:\n",
    "        reader = csv.DictReader(csvfile)\n",
    "        if filter_field:\n",
    "            for row in filter(lambda row:\n",
    "                             row[filter_field]==filter_value, reader):\n",
    "                yield row\n",
    "        else:\n",
    "            for row in reader:\n",
    "                yield row\n",
    "\n",
    "def main(path):\n",
    "    # 美國平均所得\n",
    "    data = [(row[\"Year\"], float(row[\"Average income per tax unit\"]))\n",
    "           for row in dataset(path, \"Country\", \"United States\")]\n",
    "    width = 15\n",
    "    height = 6\n",
    "    ind = np.arange(len(data))\n",
    "    fig = plt.figure(figsize=(width, height))\n",
    "    ax = plt.subplot(111)\n",
    "    ax.bar(ind, list(d[1] for d in data))\n",
    "    ax.set_xticks(np.arange(0, len(data), 4))\n",
    "    ax.set_xticklabels(list(d[0] for d in data)[0::4],\n",
    "                       rotation=45)\n",
    "    ax.set_ylabel(\"Income in USD\")\n",
    "    plt.title(\"U.S. Average Income 1913-2008\")\n",
    "    plt.show()\n",
    "\n",
    "if __name__ == \"__main__\":\n",
    "    main(\"data.csv\")"
   ]
  }
 ],
 "metadata": {
  "kernelspec": {
   "display_name": "Python 3",
   "language": "python",
   "name": "python3"
  },
  "language_info": {
   "codemirror_mode": {
    "name": "ipython",
    "version": 3
   },
   "file_extension": ".py",
   "mimetype": "text/x-python",
   "name": "python",
   "nbconvert_exporter": "python",
   "pygments_lexer": "ipython3",
   "version": "3.6.6"
  }
 },
 "nbformat": 4,
 "nbformat_minor": 2
}
