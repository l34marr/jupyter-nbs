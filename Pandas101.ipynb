{
 "cells": [
  {
   "cell_type": "markdown",
   "metadata": {},
   "source": [
    "# Pandas 簡介\n",
    "* Pandas 常搭配 NumPy 處理陣列與矩陣運算, 透過 SciPy 和 Matplotlib 可以提供數據分析與繪圖的功能\n",
    "* DataFrame 是 Pandas 常見的資料結構, 可以處理 CSV 或 [Excel](http://pbpython.com/excel-pandas-comp.html) 試算表類型的資料\n",
    "* The equivalent to a pandas DataFrame in Arrow is a Table. Both consist of a set of named columns of equal length. While pandas only supports flat columns, the Table also provides nested columns, thus it can represent more data than a DataFrame, so a full conversion is not always possible.\n",
    "![Series vs DataFrame](img/series-dataframe.png)"
   ]
  },
  {
   "cell_type": "markdown",
   "metadata": {},
   "source": [
    "# 最常見的起手式指令"
   ]
  },
  {
   "cell_type": "code",
   "execution_count": null,
   "metadata": {
    "collapsed": true
   },
   "outputs": [],
   "source": [
    "import pandas as pd\n",
    "import numpy as np"
   ]
  },
  {
   "cell_type": "markdown",
   "metadata": {},
   "source": [
    "# NumPy 基本操作\n",
    "* NumPy 名稱是 Numeric Python 的縮寫\n",
    "* NumPy 支援 Array 型別和常見的科學計算功能, 內部運算採 C 語言最佳化的實作, 讓 NumPy 同時享有易讀和效能的兩大優勢\n",
    "* 常見 Array 型別包括一維/二維/三維, 二維的 row 是橫向資料, 以 axis 0 代表, 二維的 column 是縱向資料, 以 axis 1 代表\n",
    "* x.idxmin() x.idxmax() df['X'].ne(0) df.nsmallest(3, 'Points') df.nlargest() https://medium.com/@radecicdario/top-3-pandas-functions-you-dont-know-about-probably-5ae9e1c964c8\n",
    "* 參考文件: [Python Numpy Array Tutorial](https://www.datacamp.com/community/tutorials/python-numpy-tutorial)\n",
    "![NumPy Array](https://miro.medium.com/max/1440/1*Ikn1J6siiiCSk4ivYUhdgw.png)"
   ]
  },
  {
   "cell_type": "markdown",
   "metadata": {},
   "source": [
    "## 最簡單的 Array 建立方式\n",
    "* 注意: 資料型態要一致, 才能建立多維 Array"
   ]
  },
  {
   "cell_type": "code",
   "execution_count": null,
   "metadata": {
    "collapsed": true
   },
   "outputs": [],
   "source": [
    "# 一維\n",
    "ar1 = np.array([1, 2, 3])\n",
    "\n",
    "type(ar1)"
   ]
  },
  {
   "cell_type": "code",
   "execution_count": null,
   "metadata": {},
   "outputs": [],
   "source": [
    "print(ar1[1], ar1[-1])"
   ]
  },
  {
   "cell_type": "code",
   "execution_count": null,
   "metadata": {},
   "outputs": [],
   "source": [
    "# 二維\n",
    "ar2 = np.array([[1, 3, 5], [2, 4, 6]])\n",
    "\n",
    "type(ar2)"
   ]
  },
  {
   "cell_type": "code",
   "execution_count": null,
   "metadata": {},
   "outputs": [],
   "source": [
    "print(ar2[0, 0], ar2[0, 1], ar2[1, 0])"
   ]
  },
  {
   "cell_type": "markdown",
   "metadata": {},
   "source": [
    "## 讀取屬性值\n",
    "* dtype: data type 組成元素的型態\n",
    "* ndim: the number of dimensions 維度\n",
    "* shape: the dimensions of the array 每一個維度的大小\n",
    "* size: the number of elements 總元素數量 (shape 相乘)\n",
    "* itemsize: element size in Bytes 每一個元素的大小 (ex: int16=>16/8=2 Bytes)"
   ]
  },
  {
   "cell_type": "code",
   "execution_count": null,
   "metadata": {},
   "outputs": [],
   "source": [
    "print(ar1.dtype)\n",
    "print(ar2.ndim)"
   ]
  },
  {
   "cell_type": "code",
   "execution_count": null,
   "metadata": {},
   "outputs": [],
   "source": [
    "print(ar2.shape)\n",
    "print(ar2.size)"
   ]
  },
  {
   "cell_type": "code",
   "execution_count": null,
   "metadata": {},
   "outputs": [],
   "source": [
    "print(ar1.itemsize)"
   ]
  },
  {
   "cell_type": "markdown",
   "metadata": {},
   "source": [
    "## 讀取 Column"
   ]
  },
  {
   "cell_type": "code",
   "execution_count": null,
   "metadata": {
    "collapsed": true
   },
   "outputs": [],
   "source": [
    "# 讀取第1欄資料\n",
    "ar2[:,0]"
   ]
  },
  {
   "cell_type": "markdown",
   "metadata": {},
   "source": [
    "## Arrary 基本運算\n",
    "![Broadcast Example](https://i.stack.imgur.com/kzNxo.gif)\n",
    "* 採取 Element-wise 針對每個元素進行運算方式, 或是 Broadcast 運算方式, 也就是元素維度一致或是其中一個 Array 是一維\n",
    "* [sort()](https://www.tutorialspoint.com/numpy/numpy_sort_search_counting_functions.htm) [sort by column](https://stackoverflow.com/questions/2828059/sorting-arrays-in-numpy-by-column)"
   ]
  },
  {
   "cell_type": "code",
   "execution_count": null,
   "metadata": {
    "collapsed": true
   },
   "outputs": [],
   "source": [
    "ar1 + 10"
   ]
  },
  {
   "cell_type": "code",
   "execution_count": null,
   "metadata": {
    "collapsed": true
   },
   "outputs": [],
   "source": [
    "ar1 * 5"
   ]
  },
  {
   "cell_type": "code",
   "execution_count": null,
   "metadata": {
    "collapsed": true
   },
   "outputs": [],
   "source": [
    "ar1 + 10 - ar1 * 5"
   ]
  },
  {
   "cell_type": "code",
   "execution_count": null,
   "metadata": {
    "collapsed": true
   },
   "outputs": [],
   "source": [
    "ar1 * np.array([10**0, 10**1, 10**2, 10**3])"
   ]
  },
  {
   "cell_type": "code",
   "execution_count": null,
   "metadata": {
    "collapsed": true
   },
   "outputs": [],
   "source": [
    "# Transpose\n",
    "ar2.T"
   ]
  },
  {
   "cell_type": "code",
   "execution_count": null,
   "metadata": {},
   "outputs": [],
   "source": [
    "# 建立 全是 0 的陣列\n",
    "arZero = np.zeros((2,2))\n",
    "print(arZero)"
   ]
  },
  {
   "cell_type": "code",
   "execution_count": null,
   "metadata": {},
   "outputs": [],
   "source": [
    "# 建立 全是 1 的陣列\n",
    "arOne = np.ones((1,2))\n",
    "print(arOne)"
   ]
  },
  {
   "cell_type": "code",
   "execution_count": null,
   "metadata": {},
   "outputs": [],
   "source": [
    "# 建立 i x j 元素全為 s 的陣列\n",
    "arFull = np.full((3,3), 7)\n",
    "print(arFull)"
   ]
  },
  {
   "cell_type": "code",
   "execution_count": null,
   "metadata": {},
   "outputs": [],
   "source": [
    "# 建立 i x i 單位陣列\n",
    "arEye = np.eye(3)\n",
    "print(arEye)"
   ]
  },
  {
   "cell_type": "code",
   "execution_count": null,
   "metadata": {},
   "outputs": [],
   "source": [
    "# 取得隨機浮點數\n",
    "arRandom = np.random.random((2,2))\n",
    "print(arRandom)"
   ]
  },
  {
   "cell_type": "code",
   "execution_count": null,
   "metadata": {
    "collapsed": true
   },
   "outputs": [],
   "source": [
    "# 取得隨機整數值\n",
    "np.random.seed(10)\n",
    "arR = np.random.randint(0, 10, size=(4,5))\n",
    "print(arR)"
   ]
  },
  {
   "cell_type": "code",
   "execution_count": null,
   "metadata": {},
   "outputs": [],
   "source": [
    "# 加總每一欄 column\n",
    "print(arR.sum(axis=0))"
   ]
  },
  {
   "cell_type": "code",
   "execution_count": null,
   "metadata": {},
   "outputs": [],
   "source": [
    "# 加總每一列 row\n",
    "print(arR.sum(axis=1))"
   ]
  },
  {
   "cell_type": "code",
   "execution_count": null,
   "metadata": {
    "collapsed": true
   },
   "outputs": [],
   "source": [
    "arR.mean()"
   ]
  },
  {
   "cell_type": "code",
   "execution_count": null,
   "metadata": {
    "collapsed": true
   },
   "outputs": [],
   "source": [
    "arR.std()"
   ]
  },
  {
   "cell_type": "code",
   "execution_count": null,
   "metadata": {
    "collapsed": true
   },
   "outputs": [],
   "source": [
    "arR.var(axis=0)"
   ]
  },
  {
   "cell_type": "code",
   "execution_count": null,
   "metadata": {
    "collapsed": true
   },
   "outputs": [],
   "source": [
    "# 累積和 Cumulative Sum\n",
    "arR.cumsum()"
   ]
  },
  {
   "cell_type": "markdown",
   "metadata": {},
   "source": [
    "## 利用 arange() 建立 Array\n",
    "* 格式: arange(start, end, step)"
   ]
  },
  {
   "cell_type": "code",
   "execution_count": null,
   "metadata": {
    "collapsed": true
   },
   "outputs": [],
   "source": [
    "# Array Range\n",
    "arA = np.arange(0, 6)\n",
    "arB = np.array([0, 1, 2, 3, 4, 5])"
   ]
  },
  {
   "cell_type": "code",
   "execution_count": null,
   "metadata": {},
   "outputs": [],
   "source": [
    "# 陣列比較\n",
    "np.array_equal(arA, arB)"
   ]
  },
  {
   "cell_type": "code",
   "execution_count": null,
   "metadata": {
    "collapsed": true
   },
   "outputs": [],
   "source": [
    "# 與上述 array_equal() 範例同義\n",
    "np.all(arA == arB)"
   ]
  },
  {
   "cell_type": "markdown",
   "metadata": {},
   "source": [
    "# 陣列運算\n",
    "* np.add: 矩陣或陣列相加\n",
    "* np.sqrt: 矩陣內所有元素開平方根\n",
    "* np.exp: 矩陣內所有元素進行 Exponential function(e) 運算"
   ]
  },
  {
   "cell_type": "code",
   "execution_count": null,
   "metadata": {},
   "outputs": [],
   "source": [
    "arAdd = np.add(arA, arB)\n",
    "print(arAdd)"
   ]
  },
  {
   "cell_type": "code",
   "execution_count": null,
   "metadata": {},
   "outputs": [],
   "source": [
    "arSqrt = np.sqrt(arA)\n",
    "print(arSqrt)"
   ]
  },
  {
   "cell_type": "code",
   "execution_count": null,
   "metadata": {},
   "outputs": [],
   "source": [
    "arExp = np.exp(arB)\n",
    "print(arExp)"
   ]
  },
  {
   "cell_type": "markdown",
   "metadata": {},
   "source": [
    "# 陣列索引和切片運算"
   ]
  },
  {
   "cell_type": "code",
   "execution_count": null,
   "metadata": {
    "collapsed": true
   },
   "outputs": [],
   "source": [
    "ar3 = np.arange(1, 16)\n",
    "ar3"
   ]
  },
  {
   "cell_type": "code",
   "execution_count": null,
   "metadata": {
    "collapsed": true
   },
   "outputs": [],
   "source": [
    "ar3[0], ar3[-1]"
   ]
  },
  {
   "cell_type": "code",
   "execution_count": null,
   "metadata": {
    "collapsed": true
   },
   "outputs": [],
   "source": [
    "# 切片運算格式: [start:end:step]\n",
    "ar3[0:-3:2]"
   ]
  },
  {
   "cell_type": "code",
   "execution_count": null,
   "metadata": {
    "collapsed": true
   },
   "outputs": [],
   "source": [
    "# Resizing\n",
    "ar3.resize((18,))\n",
    "\n",
    "# 如果遇到 ValueError: ... Use the resize function 則改用下列語法\n",
    "# np.resize(ar3, (18,))"
   ]
  },
  {
   "cell_type": "markdown",
   "metadata": {},
   "source": [
    "# Reshaping\n",
    "* 格式 ar.reshape(m, n)\n",
    "* 進階方式: [透過 pivot() 來轉換](http://www.datasciencemadesimple.com/reshape-long-wide-pandas-python-pivot-function/)"
   ]
  },
  {
   "cell_type": "code",
   "execution_count": null,
   "metadata": {
    "collapsed": true
   },
   "outputs": [],
   "source": [
    "# 改成 3 row , 5 column\n",
    "ar3.reshape(3, 5)"
   ]
  },
  {
   "cell_type": "code",
   "execution_count": null,
   "metadata": {},
   "outputs": [],
   "source": [
    "ar4 = np.arange(1, 41).reshape(5, 8)\n",
    "\n",
    "# 迴圈裡取出每 row 的內容\n",
    "for row in ar4:\n",
    "    print(row)"
   ]
  },
  {
   "cell_type": "markdown",
   "metadata": {},
   "source": [
    "# 利用函式來建立陣列\n",
    "* 格式: fromfunction(function, shape, **kwargs)"
   ]
  },
  {
   "cell_type": "code",
   "execution_count": null,
   "metadata": {},
   "outputs": [],
   "source": [
    "def myfunc(row, col):\n",
    "    return row*5 + col\n",
    "\n",
    "arFunc = np.fromfunction(myfunc, (5, 5), dtype=int)\n",
    "print(arFunc)\n",
    " \n",
    "print()\n",
    "print(b[0:5, 4])\n",
    " \n",
    "print()\n",
    "print(b[:, 3])"
   ]
  },
  {
   "cell_type": "code",
   "execution_count": null,
   "metadata": {
    "collapsed": true
   },
   "outputs": [],
   "source": [
    "# 計算時間\n",
    "ar1000 = np.arange(1000)\n",
    "%timeit ar1000 ** 3"
   ]
  },
  {
   "cell_type": "markdown",
   "metadata": {},
   "source": [
    "# Mask: 是否符合篩選條件的 Bool Array"
   ]
  },
  {
   "cell_type": "code",
   "execution_count": null,
   "metadata": {
    "collapsed": true
   },
   "outputs": [],
   "source": [
    "# 建立偶數的 Mask\n",
    "evenMask = (ar3 % 2 == 0)\n",
    "print(evenMask)"
   ]
  },
  {
   "cell_type": "code",
   "execution_count": null,
   "metadata": {
    "collapsed": true
   },
   "outputs": [],
   "source": [
    "evenNums = ar3[evenMask]\n",
    "print(evenNums)"
   ]
  },
  {
   "cell_type": "markdown",
   "metadata": {},
   "source": [
    "## 認識 View 與 Copy 的不同\n",
    "* [View](http://scipy-cookbook.readthedocs.io/items/ViewsVsCopies.html) 又可分為 Slice View 和 Dtype View, 但 Slice View 是常見範例\n",
    "* [View 之間的 Shape 改變的話, 並不會一樣](https://www.tutorialspoint.com/numpy/numpy_copies_and_views.htm)\n",
    "\n",
    "http://cs231n.github.io/python-numpy-tutorial/\n",
    "a = np.array([[1,2,3,4], [5,6,7,8], [9,10,11,12]])\n",
    "\n",
    " Use slicing to pull out the subarray consisting of the first 2 rows\n",
    " and columns 1 and 2; b is the following array of shape (2, 2):\n",
    " [[2 3]\n",
    " [6 7]]\n",
    "b = a[:2, 1:3]\n",
    "\n",
    " A slice of an array is a view into the same data, so modifying it will modify the original array.\n",
    "print(a[0, 1])   # Prints \"2\"\n",
    "b[0, 0] = 77     # b[0, 0] is the same piece of data as a[0, 1]\n",
    "print(a[0, 1])   # Prints \"77\""
   ]
  },
  {
   "cell_type": "code",
   "execution_count": null,
   "metadata": {
    "collapsed": true
   },
   "outputs": [],
   "source": [
    "arView = ar3[::2]\n",
    "arView"
   ]
  },
  {
   "cell_type": "code",
   "execution_count": null,
   "metadata": {
    "collapsed": true
   },
   "outputs": [],
   "source": [
    "arView[1] = -1\n",
    "ar3"
   ]
  },
  {
   "cell_type": "code",
   "execution_count": null,
   "metadata": {
    "collapsed": true
   },
   "outputs": [],
   "source": [
    "# Deep Copy 的範例\n",
    "arCopy = ar3[::2].copy()"
   ]
  },
  {
   "cell_type": "markdown",
   "metadata": {},
   "source": [
    "# Pandas 資料型別\n",
    "* 入門階段 Series 和 DataFrame 是最常見的資料型別\n",
    "* DataFrame 由 Series 組成\n",
    "<img src=\"http://bookdata.readthedocs.io/en/latest/_images/base_01_pandas_5_0.png\" />"
   ]
  },
  {
   "cell_type": "markdown",
   "metadata": {},
   "source": [
    "## 利用 List 建立 Series"
   ]
  },
  {
   "cell_type": "code",
   "execution_count": null,
   "metadata": {
    "collapsed": true
   },
   "outputs": [],
   "source": [
    "# List of Float (溫度記錄)\n",
    "s1 = pd.Series([8.3, 7.0, 9.5, 11.7, 13.1, 14.8])"
   ]
  },
  {
   "cell_type": "markdown",
   "metadata": {},
   "source": [
    "## Series 由 Index 和 Value 組成\n",
    "* 為了運算效能, 會自動讓 Value 使用一致的 Data Type (dtype) 來儲存"
   ]
  },
  {
   "cell_type": "code",
   "execution_count": null,
   "metadata": {
    "collapsed": true
   },
   "outputs": [],
   "source": [
    "print(s1.index)\n",
    "print(s1.values)\n",
    "print(s1.dtype)"
   ]
  },
  {
   "cell_type": "markdown",
   "metadata": {},
   "source": [
    "# 觀察 Series 的長相\n",
    "* 第1欄是 Index\n",
    "* 第2欄是 Value\n",
    "* 最下方是 Data Type"
   ]
  },
  {
   "cell_type": "code",
   "execution_count": null,
   "metadata": {
    "collapsed": true
   },
   "outputs": [],
   "source": [
    "s1"
   ]
  },
  {
   "cell_type": "markdown",
   "metadata": {},
   "source": [
    "# 利用月份名稱當作 Index"
   ]
  },
  {
   "cell_type": "code",
   "execution_count": null,
   "metadata": {
    "collapsed": true
   },
   "outputs": [],
   "source": [
    "import calendar as cal\n",
    "\n",
    "monthNames = [cal.month_name[i] for i in np.arange(1, 13)]\n",
    "monthNames"
   ]
  },
  {
   "cell_type": "code",
   "execution_count": null,
   "metadata": {
    "collapsed": true
   },
   "outputs": [],
   "source": [
    "s_month = pd.Series(np.arange(1, 13), index=monthNames)\n",
    "s_month"
   ]
  },
  {
   "cell_type": "markdown",
   "metadata": {},
   "source": [
    "# 建立 DataFrame 的四種方式\n",
    "<img src=\"http://pbpython.com/images/pandas-dataframe-shadow.png\" />"
   ]
  },
  {
   "cell_type": "markdown",
   "metadata": {},
   "source": [
    "## 利用 2個 Series 的 Dictionary 來建立 DataFrame"
   ]
  },
  {
   "cell_type": "code",
   "execution_count": null,
   "metadata": {
    "collapsed": true
   },
   "outputs": [],
   "source": [
    "# 累積雨量記錄, 缺值可用 np.nan (Not a Number) 來代表\n",
    "s2 = pd.Series([10.0,33.4,107.4,330.5,np.nan,1986.6])\n",
    "dataset = {'TP': s1, 'AP': s2}\n",
    "df = pd.DataFrame.from_dict(dataset)\n",
    "df"
   ]
  },
  {
   "cell_type": "code",
   "execution_count": null,
   "metadata": {
    "collapsed": true
   },
   "outputs": [],
   "source": [
    "# 顯示 axis dimensions 資訊\n",
    "df.shape"
   ]
  },
  {
   "cell_type": "code",
   "execution_count": null,
   "metadata": {
    "collapsed": true
   },
   "outputs": [],
   "source": [
    "# 顯示摘要統計資訊\n",
    "df.describe()"
   ]
  },
  {
   "cell_type": "markdown",
   "metadata": {},
   "source": [
    "## 選取 Column\n",
    "* 可用 .ColumnName 或 ['ColumnName']\n",
    "* 如果有空白字元只能用 ['Column Name']"
   ]
  },
  {
   "cell_type": "code",
   "execution_count": null,
   "metadata": {
    "collapsed": true
   },
   "outputs": [],
   "source": [
    "# 顯示所有 Column 名稱\n",
    "df.columns"
   ]
  },
  {
   "cell_type": "code",
   "execution_count": null,
   "metadata": {
    "collapsed": true
   },
   "outputs": [],
   "source": [
    "# df. 支援 Tab Completion\n",
    "df.AP\n"
   ]
  },
  {
   "cell_type": "markdown",
   "metadata": {},
   "source": [
    "# 建立 100筆隨機數值的 DataFrame"
   ]
  },
  {
   "cell_type": "code",
   "execution_count": null,
   "metadata": {
    "collapsed": true
   },
   "outputs": [],
   "source": [
    "d = {'Cost': np.random.normal(100, 5, 100),\n",
    "     'Profit': np.random.normal(50, 5, 100),\n",
    "     'CatA': np.random.choice(['a', 'b', 'c'], 100),\n",
    "     'CatB': np.random.choice(['e', 'f', 'g'], 100)}\n",
    "df = pd.DataFrame(d)"
   ]
  },
  {
   "cell_type": "markdown",
   "metadata": {},
   "source": [
    "## 顯示或選取特定 Row"
   ]
  },
  {
   "cell_type": "code",
   "execution_count": null,
   "metadata": {
    "collapsed": true
   },
   "outputs": [],
   "source": [
    "# 顯示前五列\n",
    "df.head()"
   ]
  },
  {
   "cell_type": "code",
   "execution_count": null,
   "metadata": {
    "collapsed": true
   },
   "outputs": [],
   "source": [
    "# 顯示末三列\n",
    "df.tail(3)"
   ]
  },
  {
   "cell_type": "code",
   "execution_count": null,
   "metadata": {
    "collapsed": true
   },
   "outputs": [],
   "source": [
    "# 顯示前三列\n",
    "df[:3]"
   ]
  },
  {
   "cell_type": "markdown",
   "metadata": {},
   "source": [
    "## 選取多個 Column"
   ]
  },
  {
   "cell_type": "code",
   "execution_count": null,
   "metadata": {
    "collapsed": true
   },
   "outputs": [],
   "source": [
    "# 查詢特定 Column 不同的元素數有哪幾個\n",
    "df['CatA'].unique()"
   ]
  },
  {
   "cell_type": "code",
   "execution_count": null,
   "metadata": {
    "collapsed": true
   },
   "outputs": [],
   "source": [
    "# 選取其中的兩個 Column\n",
    "df[['Cost', 'Profit']]"
   ]
  },
  {
   "cell_type": "code",
   "execution_count": null,
   "metadata": {
    "collapsed": true
   },
   "outputs": [],
   "source": [
    "df[df.CatA == 'a'][:5]"
   ]
  },
  {
   "cell_type": "code",
   "execution_count": null,
   "metadata": {
    "collapsed": true
   },
   "outputs": [],
   "source": [
    "type(df.CatA)"
   ]
  },
  {
   "cell_type": "code",
   "execution_count": null,
   "metadata": {
    "collapsed": true
   },
   "outputs": [],
   "source": [
    "# 依據篩選條件建立新 Column\n",
    "df['count_a'] = df['CatA'].apply(lambda x: x.count('a'))"
   ]
  },
  {
   "cell_type": "code",
   "execution_count": null,
   "metadata": {
    "collapsed": true
   },
   "outputs": [],
   "source": [
    "# 建立 a or e 的 a and e 的資料集\n",
    "a_e = ['a', 'e']\n",
    "CatA_a_e = df[df.CatA.isin(a_e)]\n",
    "only_a_e = CatA_a_e[CatA_a_e.CatB.isin(a_e)]\n",
    "only_a_e[:5]"
   ]
  },
  {
   "cell_type": "code",
   "execution_count": null,
   "metadata": {
    "collapsed": true
   },
   "outputs": [],
   "source": [
    "# 同上, 但利用 logical_and 函式\n",
    "mask = np.logical_and(df.CatA=='a', df.CatB=='e')\n",
    "df[mask][:5]"
   ]
  },
  {
   "cell_type": "markdown",
   "metadata": {},
   "source": [
    "# 欄位更換\n",
    "cols = list(df.columns)\n",
    "df = df[col[1:3] + col[4:6]]\n",
    "https://youtu.be/vmEHCJofslg?t=1519"
   ]
  },
  {
   "cell_type": "markdown",
   "metadata": {},
   "source": [
    "## 排序運算\n",
    "* 使用 sort_values() 函式, 如果參數是 ['c1', 'c2' ...] 可以依次排序"
   ]
  },
  {
   "cell_type": "code",
   "execution_count": null,
   "metadata": {
    "collapsed": true
   },
   "outputs": [],
   "source": [
    "sorted = df.sort_values('Profit', ascending=False)\n",
    "sorted.head()"
   ]
  },
  {
   "cell_type": "code",
   "execution_count": null,
   "metadata": {
    "collapsed": true
   },
   "outputs": [],
   "source": [
    "df['Profit'].sort_values(ascending=False)"
   ]
  },
  {
   "cell_type": "markdown",
   "metadata": {},
   "source": [
    "## 上述運算結果與下列同義"
   ]
  },
  {
   "cell_type": "code",
   "execution_count": null,
   "metadata": {},
   "outputs": [],
   "source": [
    "df['Profit'].max()"
   ]
  },
  {
   "cell_type": "markdown",
   "metadata": {},
   "source": [
    "## 加總次數\n",
    "* 使用 value_counts() 函式"
   ]
  },
  {
   "cell_type": "code",
   "execution_count": null,
   "metadata": {},
   "outputs": [],
   "source": [
    "pd.value_counts(df['CatA'])"
   ]
  },
  {
   "cell_type": "markdown",
   "metadata": {},
   "source": [
    "# 寫入檔案\n",
    "* pandas.DataFrame.to_csv 寫入 CSV 檔案: encoding 預設值在 Python2 是 ascii, 在 Python3 是 utf-8, sep 預設值是 ','\n",
    "* pandas.DataFrame.to_excel 寫入 Excel 檔案: sheet_name 預設值是 'Sheet1'"
   ]
  },
  {
   "cell_type": "code",
   "execution_count": null,
   "metadata": {
    "collapsed": true
   },
   "outputs": [],
   "source": [
    "# 常見的寫入參數: index=False 代表要取消最前面的編號欄\n",
    "sorted.to_csv('sorted.csv', encoding='utf-8', index=False)"
   ]
  },
  {
   "cell_type": "code",
   "execution_count": null,
   "metadata": {},
   "outputs": [],
   "source": [
    "# 如果使用存在的 ExcelWriter 物件, 可以將不同的 DataFrame 存到同一個 Workbook\n",
    "writer = pd.ExcelWriter('output.xlsx')\n",
    "df.to_excel(writer, 'Sheet1')\n",
    "# df2.to_excel(writer, 'Sheet2')\n",
    "writer.save()"
   ]
  },
  {
   "cell_type": "markdown",
   "metadata": {},
   "source": [
    "# 範例: 成績表 Grade Sheet\n",
    "* 主要欄位包括: 學號, 課號, 成績\n",
    "* 本範例展示中文編碼的處理方式"
   ]
  },
  {
   "cell_type": "code",
   "execution_count": null,
   "metadata": {},
   "outputs": [],
   "source": [
    "gs1 = pd.read_csv('sample/cgu-201810.csv')\n",
    "\n",
    "# 這樣會遇到什麼問題嗎?"
   ]
  },
  {
   "cell_type": "code",
   "execution_count": null,
   "metadata": {},
   "outputs": [],
   "source": [
    "# 檢視 gs1 的內容\n",
    "gs1"
   ]
  },
  {
   "cell_type": "code",
   "execution_count": null,
   "metadata": {},
   "outputs": [],
   "source": [
    "gs2 = pd.read_csv('sample/cgu-201810.csv', encoding='big5')"
   ]
  },
  {
   "cell_type": "code",
   "execution_count": null,
   "metadata": {},
   "outputs": [],
   "source": [
    "# 檢視 gs2 的內容\n",
    "gs2"
   ]
  },
  {
   "cell_type": "code",
   "execution_count": null,
   "metadata": {},
   "outputs": [],
   "source": [
    "gs2.describe()"
   ]
  },
  {
   "cell_type": "code",
   "execution_count": null,
   "metadata": {},
   "outputs": [],
   "source": [
    "gs2.describe(include=float)"
   ]
  },
  {
   "cell_type": "code",
   "execution_count": null,
   "metadata": {},
   "outputs": [],
   "source": [
    "gs2.修課成績.mean()"
   ]
  },
  {
   "cell_type": "code",
   "execution_count": null,
   "metadata": {},
   "outputs": [],
   "source": [
    "gs2['學號*'].unique()"
   ]
  },
  {
   "cell_type": "code",
   "execution_count": null,
   "metadata": {},
   "outputs": [],
   "source": [
    "len(gs2['學號*'].unique())"
   ]
  },
  {
   "cell_type": "code",
   "execution_count": null,
   "metadata": {},
   "outputs": [],
   "source": [
    "gs2.groupby('學號*').size()\n",
    "# 第一個欄位是學號 第二個數值是學號的選課數量"
   ]
  },
  {
   "cell_type": "code",
   "execution_count": null,
   "metadata": {},
   "outputs": [],
   "source": [
    "gs2.groupby('學號*').get_group('B5013247')"
   ]
  },
  {
   "cell_type": "code",
   "execution_count": null,
   "metadata": {},
   "outputs": [],
   "source": [
    "gs2.groupby('系所*').size()"
   ]
  },
  {
   "cell_type": "code",
   "execution_count": null,
   "metadata": {},
   "outputs": [],
   "source": [
    "gs2.groupby('修課永久課號*').size()"
   ]
  },
  {
   "cell_type": "code",
   "execution_count": null,
   "metadata": {},
   "outputs": [],
   "source": [
    "gs2.groupby('居住地').groups"
   ]
  },
  {
   "cell_type": "code",
   "execution_count": null,
   "metadata": {},
   "outputs": [],
   "source": [
    "len(gs2.groupby('居住地').groups)"
   ]
  },
  {
   "cell_type": "code",
   "execution_count": null,
   "metadata": {},
   "outputs": [],
   "source": [
    "gs2.groupby('居住地').get_group('臺南市')"
   ]
  },
  {
   "cell_type": "code",
   "execution_count": null,
   "metadata": {},
   "outputs": [],
   "source": [
    "gs2.groupby(['居住地','入學管道','修課年級']).mean()"
   ]
  },
  {
   "cell_type": "markdown",
   "metadata": {},
   "source": [
    "# 範例: 好評影片集\n",
    "* IMDB Ratings 資料網址: http://bit.ly/imdbtatings\n",
    "* 找出播映時間超過 200分鐘的影片"
   ]
  },
  {
   "cell_type": "code",
   "execution_count": null,
   "metadata": {
    "collapsed": true
   },
   "outputs": [],
   "source": [
    "# 讀取 DataSet 內容\n",
    "movies = pd.read_csv('http://bit.ly/imdbratings')\n",
    "movies[:5]"
   ]
  },
  {
   "cell_type": "code",
   "execution_count": null,
   "metadata": {
    "collapsed": true
   },
   "outputs": [],
   "source": [
    "# 利用 For Loop 建立遮罩\n",
    "mask = []\n",
    "for length in movies.duration:\n",
    "    if length >= 200:\n",
    "        mask.append(True)\n",
    "    else:\n",
    "        mask.append(False)\n",
    "\n",
    "mask[:5]"
   ]
  },
  {
   "cell_type": "code",
   "execution_count": null,
   "metadata": {
    "collapsed": true
   },
   "outputs": [],
   "source": [
    "is_long = pd.Series(mask)\n",
    "is_long[:5]"
   ]
  },
  {
   "cell_type": "code",
   "execution_count": null,
   "metadata": {
    "collapsed": true
   },
   "outputs": [],
   "source": [
    "# 另一種方式: 不用 For Loop 也能建立遮罩\n",
    "is_long2 = movies.duration >= 200\n",
    "is_long2[:5]"
   ]
  },
  {
   "cell_type": "code",
   "execution_count": null,
   "metadata": {
    "collapsed": true
   },
   "outputs": [],
   "source": [
    "movies[is_long2]"
   ]
  },
  {
   "cell_type": "code",
   "execution_count": null,
   "metadata": {
    "collapsed": true
   },
   "outputs": [],
   "source": [
    "# 等同於上述結果\n",
    "movies[movies.duration >= 200]"
   ]
  },
  {
   "cell_type": "markdown",
   "metadata": {},
   "source": [
    "## 篩選多個類型條件\n",
    "* And Or 運算在 Pandas 裡使用 & | 符號 (bitwise operator)\n",
    "* 使用 and 或 or 的話 會產生 [True value of a Series is ambiguous](https://stackoverflow.com/questions/36921951/truth-value-of-a-series-is-ambiguous-use-a-empty-a-bool-a-item-a-any-o) 訊息"
   ]
  },
  {
   "cell_type": "code",
   "execution_count": null,
   "metadata": {
    "collapsed": true
   },
   "outputs": [],
   "source": [
    "# And 運算\n",
    "movies[(movies.duration >= 200) & (movies.genre == 'Drama')]"
   ]
  },
  {
   "cell_type": "code",
   "execution_count": null,
   "metadata": {
    "collapsed": true
   },
   "outputs": [],
   "source": [
    "# Or 運算\n",
    "movies[(movies.genre == 'Crime') | (movies.genre == 'Drama') | (movies.genre == 'Action')]"
   ]
  },
  {
   "cell_type": "code",
   "execution_count": null,
   "metadata": {
    "collapsed": true
   },
   "outputs": [],
   "source": [
    "# Is In 運算\n",
    "mymask = movies.genre.isin(['Crime', 'Drama', 'Action'])\n",
    "mymask"
   ]
  },
  {
   "cell_type": "markdown",
   "metadata": {},
   "source": [
    "## 還可以試 ~ 運算\n",
    "* https://stackoverflow.com/questions/19960077/how-to-implement-in-and-not-in-for-pandas-dataframe"
   ]
  },
  {
   "cell_type": "code",
   "execution_count": null,
   "metadata": {
    "collapsed": true
   },
   "outputs": [],
   "source": [
    "movies[movies.genre.isin(['Crime', 'Drama', 'Action'])]"
   ]
  },
  {
   "cell_type": "markdown",
   "metadata": {},
   "source": [
    "# Kaggle 範例資料集\n",
    "* Kaggle 網站致力讓資料科學成為全民運動, 除了提供範例資料集 Dataset 之外, 也舉辦資料分析與預測建模的競賽, 還有針對初學者的[教學文件](https://medium.com/pyradise/kaggle-%E5%95%9F%E5%8B%95%E5%AD%B8%E7%BF%92%E5%B0%88%E6%A1%88-d0a0f981baac)"
   ]
  },
  {
   "cell_type": "markdown",
   "metadata": {},
   "source": [
    "# 範例: 房屋價格資料\n",
    "https://towardsdatascience.com/5-steps-to-amazing-visualizations-with-matplotlib-ca61f0ec5fec"
   ]
  },
  {
   "cell_type": "markdown",
   "metadata": {},
   "source": [
    "# 範例: 奧運記錄資料\n",
    "* [應用歷史記錄進行分析](https://towardsdatascience.com/exploratory-statistical-data-analysis-with-a-real-dataset-using-pandas-208007798b92)\n",
    "* NaN 對 Numpy 是數值上的 not a number 但是在 Pandas 裡面是有特殊意義的 它是代表空值的意思 你可以找 isnull() 或是 notnull() function 去把 NaN 找出來然後填值\n",
    "* Athlete Events Dataset from Kaggle: https://www.kaggle.com/heesoo37/120-years-of-olympic-history-athletes-and-results#athlete_events.csv"
   ]
  },
  {
   "cell_type": "code",
   "execution_count": null,
   "metadata": {},
   "outputs": [],
   "source": [
    "ae = pd.read_csv('athlete_events.csv')\n",
    "ae.shape"
   ]
  },
  {
   "cell_type": "code",
   "execution_count": null,
   "metadata": {},
   "outputs": [],
   "source": [
    "def NaN_percent(df, column_name):\n",
    "    row_count = df[column_name].shape[0]\n",
    "    empty_values = row_count - df[column_name].count()\n",
    "    return (100.0*empty_values)/row_count"
   ]
  },
  {
   "cell_type": "code",
   "execution_count": null,
   "metadata": {},
   "outputs": [],
   "source": [
    "NaN_percent(ae, 'Height')"
   ]
  },
  {
   "cell_type": "code",
   "execution_count": null,
   "metadata": {},
   "outputs": [],
   "source": [
    "for i in list(ae):\n",
    "    print(i +': ' + str(NaN_percent(ae,i))+'%')"
   ]
  },
  {
   "cell_type": "code",
   "execution_count": null,
   "metadata": {},
   "outputs": [],
   "source": [
    "total_rows = ae.shape[0]\n",
    "unique_athletes = len(ae.Name.unique())\n",
    "medal_winners = len(ae[ae.Medal.fillna('None')!='None'].Name.unique())\n",
    "\n",
    "\"{0} {1} {2}\".format(total_rows, unique_athletes, medal_winners)"
   ]
  },
  {
   "cell_type": "code",
   "execution_count": null,
   "metadata": {},
   "outputs": [],
   "source": [
    "# 女性運動員最早出現的年份是?\n",
    "ae[ae.Sex=='F'].Year.min()\n",
    "\n",
    "# 最早獲得金牌的女性運動員名單是?\n",
    "ae[(ae.Sex=='F') & (ae.Medal=='Gold')]"
   ]
  },
  {
   "cell_type": "code",
   "execution_count": null,
   "metadata": {},
   "outputs": [],
   "source": [
    "# 台灣運動員最早出現的年份是?\n",
    "ae[ae.Team=='Chinese Taipei']\n",
    "\n",
    "# 台灣運動員最早得牌的年份是?\n",
    "ae[(ae.NOC=='TPE') & (ae.Medal.fillna('None')!='None')]"
   ]
  },
  {
   "cell_type": "markdown",
   "metadata": {},
   "source": [
    "# 進階篩選工具\n",
    "* loc 依 Label 篩選\n",
    "* iloc 代表 Integer LOC, 依整數索引篩選\n",
    "* ix 允許 Label 與 Integer 混合規則"
   ]
  },
  {
   "cell_type": "code",
   "execution_count": null,
   "metadata": {
    "collapsed": true
   },
   "outputs": [],
   "source": [
    "movies.columns"
   ]
  },
  {
   "cell_type": "markdown",
   "metadata": {},
   "source": [
    "## loc 語法: 先決定 Row (Index Label) 再決定 Column Label\n",
    "* Single Label: 例 3 或 'a'\n",
    "* List of Labels: 例 ['a', 'b', 'c']\n",
    "* Slice of Labels: 例 'a':'c'"
   ]
  },
  {
   "cell_type": "code",
   "execution_count": null,
   "metadata": {
    "collapsed": true
   },
   "outputs": [],
   "source": [
    "movies.loc[[0,1,2,977,978], 'star_rating':'genre']"
   ]
  },
  {
   "cell_type": "markdown",
   "metadata": {},
   "source": [
    "## Drop: 刪除 Row 或 Column\n",
    "* Label / List of Labels\n",
    "* df.index[n] / df.index[[m,n]]\n",
    "<pre>axis=0 代表 Row\n",
    "axis=1 代表 Column\n",
    "inplace=True 代表取代掉舊資料</pre>"
   ]
  },
  {
   "cell_type": "code",
   "execution_count": null,
   "metadata": {
    "collapsed": true
   },
   "outputs": [],
   "source": [
    "movies.drop('content_rating', axis=1)"
   ]
  },
  {
   "cell_type": "markdown",
   "metadata": {},
   "source": [
    "# 字串處理\n",
    "* Series 提供 str 處理工具"
   ]
  },
  {
   "cell_type": "markdown",
   "metadata": {},
   "source": [
    "## 過濾特定字串"
   ]
  },
  {
   "cell_type": "code",
   "execution_count": null,
   "metadata": {
    "collapsed": true
   },
   "outputs": [],
   "source": [
    "movies.title != 'The Godfather'"
   ]
  },
  {
   "cell_type": "markdown",
   "metadata": {},
   "source": [
    "## 過濾特定單字\n",
    "<a href=\"http://stackoverflow.com/questions/34962104/pandas-how-can-i-use-the-apply-function-for-a-single-column\">Series 可以接 apply() 或 map() 兩者有差異嗎?</a>"
   ]
  },
  {
   "cell_type": "code",
   "execution_count": null,
   "metadata": {
    "collapsed": true
   },
   "outputs": [],
   "source": [
    "movies.title.apply(lambda x: False if 'The' in x.split() else True)"
   ]
  },
  {
   "cell_type": "markdown",
   "metadata": {},
   "source": [
    "## 使用 str 過濾特定單字"
   ]
  },
  {
   "cell_type": "code",
   "execution_count": null,
   "metadata": {
    "collapsed": true
   },
   "outputs": [],
   "source": [
    "movies.actors_list.str.contains('Tom')"
   ]
  },
  {
   "cell_type": "markdown",
   "metadata": {},
   "source": [
    "# GroupBy"
   ]
  },
  {
   "cell_type": "code",
   "execution_count": null,
   "metadata": {
    "collapsed": true
   },
   "outputs": [],
   "source": [
    "myGrp = movies.groupby('content_rating')\n",
    "myGrp.groups"
   ]
  },
  {
   "cell_type": "code",
   "execution_count": null,
   "metadata": {
    "collapsed": true
   },
   "outputs": [],
   "source": [
    "len(myGrp.groups)"
   ]
  },
  {
   "cell_type": "code",
   "execution_count": null,
   "metadata": {
    "collapsed": true
   },
   "outputs": [],
   "source": [
    "myGrp.size()"
   ]
  },
  {
   "cell_type": "code",
   "execution_count": null,
   "metadata": {
    "collapsed": true
   },
   "outputs": [],
   "source": [
    "myGrp.size().sort_values(ascending=False)"
   ]
  },
  {
   "cell_type": "markdown",
   "metadata": {},
   "source": [
    "# 向量之間的距離\n",
    "* 兩個向量之間的距離計算, 在數學上稱為向量的距離 (Distance), 也稱為樣本之間的相似性度量 (Similarity Measurement)\n",
    "Minkowski Distance, Euclidean Distance, Manhattan Distance, Chebyshev Distance, Cosine, Hamming Distance, Jaccard Similarity Coefficient"
   ]
  },
  {
   "cell_type": "markdown",
   "metadata": {},
   "source": [
    "# 時間數列\n",
    "df.set_index('TimeColumn')"
   ]
  },
  {
   "cell_type": "code",
   "execution_count": null,
   "metadata": {},
   "outputs": [],
   "source": []
  },
  {
   "cell_type": "markdown",
   "metadata": {},
   "source": [
    "# GeoPy\n",
    "https://youtu.be/q_OUHA_zqeM?t=2m27s"
   ]
  },
  {
   "cell_type": "code",
   "execution_count": null,
   "metadata": {
    "collapsed": true
   },
   "outputs": [],
   "source": [
    "from geopy.geocoders import Nominatim\n",
    "nom = Nominatim()\n",
    "nom.geocode(\"3995 23rn St, San Francisco, CA 94114\")"
   ]
  },
  {
   "cell_type": "markdown",
   "metadata": {},
   "source": [
    "# Matplotlib 資料視覺化\n",
    "* 優點: 功能完整 文件豐富\n",
    "* 缺點: 畫圖指令繁雜"
   ]
  },
  {
   "cell_type": "code",
   "execution_count": null,
   "metadata": {},
   "outputs": [],
   "source": [
    "# 起手式\n",
    "import matplotlib.pyplot as plt\n"
   ]
  },
  {
   "cell_type": "markdown",
   "metadata": {},
   "source": [
    "# 顯示方式\n",
    "* 在 IPython 執行 %matplotlib 可以另開視窗顯示繪圖\n",
    "* 在 Jupyter Notebook 執行 %matplotlib inline 可以直接嵌入繪圖, 不需要額外執行 plt.show()\n",
    "* 在 Jupyter Notebook 執行 %matplotlib notebook 可以嵌入顯示互動式繪圖\n",
    "\n",
    "![plt.show()](https://miro.medium.com/max/1785/1*409ArBhlxniQ4q657INbpA.png)"
   ]
  },
  {
   "cell_type": "code",
   "execution_count": null,
   "metadata": {},
   "outputs": [],
   "source": [
    "# 互動式繪圖包括縮放功能\n",
    "%matplotlib notebook\n",
    "\n",
    "# plot() 下列參數分別代表 x,y 軸的點資料, 預設使用折線繪圖\n",
    "plt.plot([1, 2, 3, 4], [1, 4, 9, 16])"
   ]
  },
  {
   "cell_type": "code",
   "execution_count": null,
   "metadata": {},
   "outputs": [],
   "source": [
    "# plot() 接 'o' 參數代表使用圓點繪圖\n",
    "plt.plot([1, 2, 3, 4], [1, 4, 9, 16], 'o')\n",
    "\n",
    "# 同場加映1: '--' 參數代表使用虛線繪圖, 's' 參數代表使用方塊繪圖, '^' 參數代表使用三角形繪圖\n",
    "# 同場加映2: 'ro' 代表 red 圓點, 'r--' 代表 red 虛線, 'bs' 代表 blue 方塊, 'g^' 代表 green 三角形, 試試看還能找到幾種顏色參數"
   ]
  },
  {
   "cell_type": "code",
   "execution_count": null,
   "metadata": {},
   "outputs": [],
   "source": [
    "# 設定 x,y 軸 Label 標題\n",
    "plt.ylabel('Y Label')\n",
    "plt.xlable('X Label')"
   ]
  },
  {
   "cell_type": "code",
   "execution_count": null,
   "metadata": {},
   "outputs": [],
   "source": [
    "# 設定中文 Label 標題\n",
    "plt.ylabel('縱軸標題', fontproperties='mingliu')\n",
    "plt.xlabel('橫軸標題', fontproperties='mingliu')"
   ]
  },
  {
   "cell_type": "markdown",
   "metadata": {},
   "source": [
    "# 設定 Figure Title 繪圖標題\n",
    "* 指定個別子圖 [subplot](https://matplotlib.org/gallery/subplots_axes_and_figures/figure_title.html) 的標題"
   ]
  },
  {
   "cell_type": "code",
   "execution_count": null,
   "metadata": {},
   "outputs": [],
   "source": [
    "import matplotlib.pyplot as plt\n",
    "import numpy as np\n",
    "import scipy.stats as stats\n",
    "import math\n",
    "\n",
    "mu = 0\n",
    "variance = 1\n",
    "sigma = math.sqrt(variance)\n",
    "x = np.linspace(mu - 3*sigma, mu + 3*sigma, 100)\n",
    "plt.plot(x, stats.norm.pdf(x, mu, sigma))"
   ]
  },
  {
   "cell_type": "markdown",
   "metadata": {},
   "source": [
    "# 直方圖"
   ]
  },
  {
   "cell_type": "code",
   "execution_count": null,
   "metadata": {},
   "outputs": [],
   "source": [
    "import csv\n",
    "import numpy as np\n",
    "import matplotlib.pyplot as plt\n",
    "\n",
    "def dataset(path, filter_field=None, filter_value=None):\n",
    "    with open(path, 'r') as csvfile:\n",
    "        reader = csv.DictReader(csvfile)\n",
    "        if filter_field:\n",
    "            for row in filter(lambda row:\n",
    "                             row[filter_field]==filter_value, reader):\n",
    "                yield row\n",
    "        else:\n",
    "            for row in reader:\n",
    "                yield row\n",
    "\n",
    "def main(path):\n",
    "    # 美國平均所得\n",
    "    data = [(row[\"Year\"], float(row[\"Average income per tax unit\"]))\n",
    "           for row in dataset(path, \"Country\", \"United States\")]\n",
    "    width = 15\n",
    "    height = 6\n",
    "    ind = np.arange(len(data))\n",
    "    fig = plt.figure(figsize=(width, height))\n",
    "    ax = plt.subplot(111)\n",
    "    ax.bar(ind, list(d[1] for d in data))\n",
    "    ax.set_xticks(np.arange(0, len(data), 4))\n",
    "    ax.set_xticklabels(list(d[0] for d in data)[0::4],\n",
    "                       rotation=45)\n",
    "    ax.set_ylabel(\"Income in USD\")\n",
    "    plt.title(\"U.S. Average Income 1913-2008\")\n",
    "    plt.show()\n",
    "\n",
    "if __name__ == \"__main__\":\n",
    "    main(\"sample/data.csv\")"
   ]
  },
  {
   "cell_type": "markdown",
   "metadata": {},
   "source": [
    "# 資料視覺化模組 Seaborn 簡介\n",
    "* 以 Matplotlib 為基礎, 提供常用繪圖主題的設定, 簡化功能操作的複雜度\n",
    "* 有效處理 DataFrame 資料型別, 包括多變數的關連性呈現, 分類或分群式的呈現, 資料分佈狀態的呈現\n",
    "* 方便設定多種變數的圖表並列對照\n",
    "* 方便設定資料顏色和圖表底色\n",
    "* 自動顯示線性迴歸的圖線"
   ]
  },
  {
   "cell_type": "code",
   "execution_count": null,
   "metadata": {},
   "outputs": [],
   "source": [
    "import numpy as np\n",
    "import pandas as pd\n",
    "import seaborn as sns"
   ]
  },
  {
   "cell_type": "code",
   "execution_count": null,
   "metadata": {},
   "outputs": [],
   "source": [
    "flights = sns.load_dataset(\"flights\")\n",
    "sns.relplot(x=\"passengers\", y=\"month\", data=flights)"
   ]
  },
  {
   "cell_type": "markdown",
   "metadata": {},
   "source": [
    "# 範例 Pokemon.csv\n",
    "* 利用 lmplot() 建立散佈圖 Scatter Plot -- isnull().sum()\n",
    "* 參考文件 https://elitedatascience.com/python-seaborn-tutorial"
   ]
  },
  {
   "cell_type": "code",
   "execution_count": null,
   "metadata": {},
   "outputs": [],
   "source": [
    "df = pd.read_csv('sample/Pokemon.csv', index_col=0)\n",
    "# index_col=0 代表要把第一排的內容當成 ID Column\n",
    "\n",
    "df.head()"
   ]
  },
  {
   "cell_type": "code",
   "execution_count": null,
   "metadata": {},
   "outputs": [],
   "source": [
    "# Recommended way\n",
    "sns.lmplot(x='Attack', y='Defense', data=df)\n",
    "\n",
    "# Alternative way\n",
    "# sns.lmplot(x=df.Attack, y=df.Defense)"
   ]
  }
 ],
 "metadata": {
  "kernelspec": {
   "display_name": "Python 3",
   "language": "python",
   "name": "python3"
  },
  "language_info": {
   "codemirror_mode": {
    "name": "ipython",
    "version": 3
   },
   "file_extension": ".py",
   "mimetype": "text/x-python",
   "name": "python",
   "nbconvert_exporter": "python",
   "pygments_lexer": "ipython3",
   "version": "3.7.4"
  }
 },
 "nbformat": 4,
 "nbformat_minor": 2
}
