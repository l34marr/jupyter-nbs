{
 "cells": [
  {
   "cell_type": "markdown",
   "metadata": {},
   "source": [
    "# 認識 Python 基本型別和語法\n",
    "符號 # 開頭的文字, 代表是註解說明, 並不會被執行"
   ]
  },
  {
   "cell_type": "markdown",
   "metadata": {},
   "source": [
    "# Number 型別\n",
    "只示範 Integer 與 Float Number, 餘下 Complex Number 待自行額外學習"
   ]
  },
  {
   "cell_type": "markdown",
   "metadata": {},
   "source": [
    "## 四則運算符號分別是 + - * /"
   ]
  },
  {
   "cell_type": "code",
   "execution_count": null,
   "metadata": {
    "collapsed": true
   },
   "outputs": [],
   "source": [
    "3 + 2"
   ]
  },
  {
   "cell_type": "code",
   "execution_count": null,
   "metadata": {
    "collapsed": true
   },
   "outputs": [],
   "source": [
    "5 - 3"
   ]
  },
  {
   "cell_type": "code",
   "execution_count": null,
   "metadata": {
    "collapsed": true
   },
   "outputs": [],
   "source": [
    "4 * (8 - 2)"
   ]
  },
  {
   "cell_type": "code",
   "execution_count": null,
   "metadata": {
    "collapsed": true
   },
   "outputs": [],
   "source": [
    "6 / 5"
   ]
  },
  {
   "cell_type": "markdown",
   "metadata": {},
   "source": [
    "## 次方運算"
   ]
  },
  {
   "cell_type": "code",
   "execution_count": null,
   "metadata": {
    "collapsed": true
   },
   "outputs": [],
   "source": [
    "# 使用 ** 符號作為次方運算子\n",
    "2 ** 5"
   ]
  },
  {
   "cell_type": "markdown",
   "metadata": {},
   "source": [
    "# Variable Assignment 指定變數\n",
    "* The ``=`` symbol indicates assignment, an action \"evaluate the expression on the right and assign its value to the variable named on the left.\"\n",
    "* 等號 = 的作用: 系統會將右側運算的結果, 傳給等號左邊的變數, 請練習以下各例並觀察結果"
   ]
  },
  {
   "cell_type": "code",
   "execution_count": null,
   "metadata": {
    "collapsed": true
   },
   "outputs": [],
   "source": [
    "mynum = 0\n",
    "mynum"
   ]
  },
  {
   "cell_type": "code",
   "execution_count": null,
   "metadata": {
    "collapsed": true
   },
   "outputs": [],
   "source": [
    "myvar = 3 + 2\n",
    "myvar"
   ]
  },
  {
   "cell_type": "markdown",
   "metadata": {},
   "source": [
    "![Assignment with Numbers](img/assign-number.png)"
   ]
  },
  {
   "cell_type": "markdown",
   "metadata": {},
   "source": [
    "## Assignment vs \"Is Equal to\"\n",
    "* In Math, \"=\" is used to say what is on the left equals what is on the right.\n",
    "* In Python, however, \"=\" is used to assign a value (the right hand side) to a variable (the left hand side) "
   ]
  },
  {
   "cell_type": "code",
   "execution_count": null,
   "metadata": {
    "collapsed": true
   },
   "outputs": [],
   "source": [
    "5 = myvar"
   ]
  },
  {
   "cell_type": "code",
   "execution_count": null,
   "metadata": {
    "collapsed": true
   },
   "outputs": [],
   "source": [
    "5 = 2 + 3"
   ]
  },
  {
   "cell_type": "markdown",
   "metadata": {},
   "source": [
    "# Comparison\n",
    "* In Python, '==' is used to evaluate a comparison expression\n",
    "* Comparing values will result in Boolean values: **True** or **False**"
   ]
  },
  {
   "cell_type": "code",
   "execution_count": null,
   "metadata": {
    "collapsed": true
   },
   "outputs": [],
   "source": [
    "# 意思是 \"mynum 等於 0 嗎?\"\n",
    "mynum == 0"
   ]
  },
  {
   "cell_type": "code",
   "execution_count": null,
   "metadata": {
    "collapsed": true
   },
   "outputs": [],
   "source": [
    "# 意思是 \"mynum 不等於 0 嗎?\"\n",
    "mynum != 0"
   ]
  },
  {
   "cell_type": "code",
   "execution_count": null,
   "metadata": {
    "collapsed": true
   },
   "outputs": [],
   "source": [
    "# 意思是 \"mynum 大於或等於 0.0 嗎?\"\n",
    "mynum >= 0.0"
   ]
  },
  {
   "cell_type": "markdown",
   "metadata": {},
   "source": [
    "# Variable Naming: Restrictions\n",
    "Try and See If They Are Valid Variable Names?"
   ]
  },
  {
   "cell_type": "code",
   "execution_count": null,
   "metadata": {
    "collapsed": true
   },
   "outputs": [],
   "source": [
    "# They can not start with numbers\n",
    "123abc = 7"
   ]
  },
  {
   "cell_type": "code",
   "execution_count": null,
   "metadata": {
    "collapsed": true
   },
   "outputs": [],
   "source": [
    "# Dash Sign '-' is Invalid in Variable Naming\n",
    "abc-123 = 7"
   ]
  },
  {
   "cell_type": "code",
   "execution_count": null,
   "metadata": {
    "collapsed": true
   },
   "outputs": [],
   "source": [
    "# Underscore '_' is Valid in Variable Naming\n",
    "abc_123 = 7"
   ]
  },
  {
   "cell_type": "markdown",
   "metadata": {},
   "source": [
    "# 變數命名原則\n",
    "* 第一個字為字母或底線, 後面可以接數字: abc, abc123, _abc\n",
    "* 可以使用底線: book_1, book_2...\n",
    "* 不可以使用底線以外的其他符號\n",
    "* 不可以使用保留字 (Keywords)\n",
    "* 可以使用中文作為變數 (Python 3 開始支援)"
   ]
  },
  {
   "cell_type": "code",
   "execution_count": null,
   "metadata": {
    "collapsed": true
   },
   "outputs": [],
   "source": [
    "餐飲費用 = 230\n",
    "交通費用 = 360\n",
    "合計 = 餐飲費用 + 交通費用\n",
    "\n",
    "合計"
   ]
  },
  {
   "cell_type": "markdown",
   "metadata": {},
   "source": [
    "# 利用內建函式 print() 列印變數或結果\n",
    "通常會搭配字串來排版, 讓顯示結果更有意義, 後續會有更多應用範例"
   ]
  },
  {
   "cell_type": "code",
   "execution_count": null,
   "metadata": {
    "collapsed": true
   },
   "outputs": [],
   "source": [
    "print(合計)"
   ]
  },
  {
   "cell_type": "markdown",
   "metadata": {},
   "source": [
    "# Python 2 與 Python 3 的差別之一: print 語法不同\n",
    "See <a href=\"http://docs.python.org/3/whatsnew/3.0.html#print-is-a-function\">PEP 3105</a> for more details"
   ]
  },
  {
   "cell_type": "code",
   "execution_count": null,
   "metadata": {
    "collapsed": true
   },
   "outputs": [],
   "source": [
    "# Python 2: without ()\n",
    "print mynum\n",
    "\n",
    "# Python 3: () is needed\n",
    "print(mynum)"
   ]
  },
  {
   "cell_type": "markdown",
   "metadata": {},
   "source": [
    "## 除數不能為 0, 留意 Trackback 與 Error 代碼的呈現方式"
   ]
  },
  {
   "cell_type": "code",
   "execution_count": null,
   "metadata": {
    "collapsed": true
   },
   "outputs": [],
   "source": [
    "# Try and See What Happens with Statements like \" 6 / mynum \" or \" 6 / 0 \"\n",
    "6 / 0"
   ]
  },
  {
   "cell_type": "markdown",
   "metadata": {},
   "source": [
    "## 利用 . 小數符號可以建立 Float Number"
   ]
  },
  {
   "cell_type": "code",
   "execution_count": null,
   "metadata": {
    "collapsed": true
   },
   "outputs": [],
   "source": [
    "mypi = 3.14159"
   ]
  },
  {
   "cell_type": "markdown",
   "metadata": {},
   "source": [
    "# Arithmetic Conversions\n",
    "* \"<a href=\"https://docs.python.org/3/reference/expressions.html#arithmetic-conversions\">the numeric arguments are converted to a common type</a>\"\n",
    "* if either argument is a floating point number, the other is converted to floating point"
   ]
  },
  {
   "cell_type": "code",
   "execution_count": null,
   "metadata": {
    "collapsed": true
   },
   "outputs": [],
   "source": [
    "# the result remains as integer\n",
    "type(2 * 5)\n",
    "\n",
    "# converting to float\n",
    "type(2.0 * 5)"
   ]
  },
  {
   "cell_type": "code",
   "execution_count": null,
   "metadata": {
    "collapsed": true
   },
   "outputs": [],
   "source": [
    "# However, in Python 3 / is float division\n",
    "8 / 2"
   ]
  },
  {
   "cell_type": "markdown",
   "metadata": {},
   "source": [
    "# String 型別\n",
    "* 利用 ' 單引號 \" 雙引號 都可以建立字串 String\n",
    "* 字串由一連串字元 Character (例如字母或數字) 組合而成\n",
    "* 每一個字元就是字串的 Element 元素"
   ]
  },
  {
   "cell_type": "code",
   "execution_count": null,
   "metadata": {
    "collapsed": true
   },
   "outputs": [],
   "source": [
    "str1 = 'Hello'\n",
    "str2 = \"Python\""
   ]
  },
  {
   "cell_type": "markdown",
   "metadata": {},
   "source": [
    "利用加號 + 運算子, 可以將字串合併起來, 稱為 Concatenation"
   ]
  },
  {
   "cell_type": "code",
   "execution_count": null,
   "metadata": {
    "collapsed": true
   },
   "outputs": [],
   "source": [
    "mystr = str1 + str2\n",
    "mystr"
   ]
  },
  {
   "cell_type": "code",
   "execution_count": null,
   "metadata": {
    "collapsed": true
   },
   "outputs": [],
   "source": [
    "# 想在 'Hello' 和 'Python' 中間加進一個空白字元, 這裡有個方法\n",
    "mystr = str1 + ' ' + str2\n",
    "mystr"
   ]
  },
  {
   "cell_type": "code",
   "execution_count": null,
   "metadata": {
    "collapsed": true
   },
   "outputs": [],
   "source": [
    "# 猜看看: 字串乘以 2 會是什麼結果?\n",
    "mystr * 2"
   ]
  },
  {
   "cell_type": "markdown",
   "metadata": {},
   "source": [
    "# 特殊字元的處理方式\n",
    "* 字串裡如果有 單引號 或 雙引號, 可以用 \\ 反斜線來處理, 以避免可能的錯誤\n",
    "* 常見技巧: \\n 代表換行符號, \\t 代表 Tab 鍵"
   ]
  },
  {
   "cell_type": "code",
   "execution_count": null,
   "metadata": {
    "collapsed": true
   },
   "outputs": [],
   "source": [
    "print('I\\'m 18 years old.\\nHow old are you?')"
   ]
  },
  {
   "cell_type": "code",
   "execution_count": null,
   "metadata": {
    "collapsed": true
   },
   "outputs": [],
   "source": [
    "print('I'm 18 years old.')"
   ]
  },
  {
   "cell_type": "markdown",
   "metadata": {},
   "source": [
    "# 利用 int() 或 str() 進行型別轉換\n",
    "* 兩個字串可以用 + 合併, 但字串與數值不能合併\n",
    "* 出現 TypeError: must be str, not int 代表型別錯誤, 請檢查錯誤的位置, 需要透過 str() 來轉換成字串型別"
   ]
  },
  {
   "cell_type": "code",
   "execution_count": null,
   "metadata": {
    "collapsed": true
   },
   "outputs": [],
   "source": [
    "age = 18\n",
    "# 想要印出 \"I am 18\" 結果, 該怎樣做呢? 下列嘗試採 字串合併 方式\n",
    "print(\"I am \" + age)"
   ]
  },
  {
   "cell_type": "code",
   "execution_count": null,
   "metadata": {
    "collapsed": true
   },
   "outputs": [],
   "source": [
    "num_str = '38'\n",
    "int(num_str)"
   ]
  },
  {
   "cell_type": "markdown",
   "metadata": {},
   "source": [
    "# 利用內建函式 type() 查詢型別"
   ]
  },
  {
   "cell_type": "code",
   "execution_count": null,
   "metadata": {
    "collapsed": true
   },
   "outputs": [],
   "source": [
    "# type(object) will return the object's type\n",
    "type(age)"
   ]
  },
  {
   "cell_type": "code",
   "execution_count": null,
   "metadata": {
    "collapsed": true
   },
   "outputs": [],
   "source": [
    "# 在前面已經執行過 int(num_str) 那麼 num_str 型別應該變成 int 囉? 確認一下\n",
    "type(num_str)"
   ]
  },
  {
   "cell_type": "markdown",
   "metadata": {},
   "source": [
    "# 型別轉換後的結果 可以用新變數來記錄它"
   ]
  },
  {
   "cell_type": "code",
   "execution_count": null,
   "metadata": {
    "collapsed": true
   },
   "outputs": [],
   "source": [
    "num_int = int(num_str)\n",
    "type(num_int)\n",
    "num_int"
   ]
  },
  {
   "cell_type": "code",
   "execution_count": null,
   "metadata": {
    "collapsed": true
   },
   "outputs": [],
   "source": [
    "type(mypi)"
   ]
  },
  {
   "cell_type": "code",
   "execution_count": null,
   "metadata": {
    "collapsed": true
   },
   "outputs": [],
   "source": [
    "type(True)"
   ]
  },
  {
   "cell_type": "markdown",
   "metadata": {},
   "source": [
    "# 利用內建函式 input() 讓使用者與電腦互動\n",
    "* 注意: 出現對話框時 記得完成輸入後 Cell 才算執行完畢"
   ]
  },
  {
   "cell_type": "code",
   "execution_count": null,
   "metadata": {
    "collapsed": true
   },
   "outputs": [],
   "source": [
    "age = input('How old are you? ')\n",
    "print('You are ' + age)"
   ]
  },
  {
   "cell_type": "markdown",
   "metadata": {},
   "source": [
    "## Python 3 的 input() 結果是 str 型別\n",
    "* 注意: Python 2 的 input() 結果會再由 eval() 處理, 使用 raw_input() 結果才是 str 型別"
   ]
  },
  {
   "cell_type": "code",
   "execution_count": null,
   "metadata": {
    "collapsed": true
   },
   "outputs": [],
   "source": [
    "type(age)"
   ]
  },
  {
   "cell_type": "code",
   "execution_count": null,
   "metadata": {
    "collapsed": true
   },
   "outputs": [],
   "source": [
    "# 利用字串合併技巧, 讓結果排版得更好, 也可以採用 字串樣版 或 Format String 語法\n",
    "print('You are ' + age + ' years old.')"
   ]
  },
  {
   "cell_type": "markdown",
   "metadata": {},
   "source": [
    "# 字串樣版\n",
    "![String Template](img/string-template.png)"
   ]
  },
  {
   "cell_type": "code",
   "execution_count": null,
   "metadata": {
    "collapsed": true
   },
   "outputs": [],
   "source": [
    "print('You are %s years old.' % age)"
   ]
  },
  {
   "cell_type": "markdown",
   "metadata": {},
   "source": [
    "# Exercise: Print Out the Birth Year based on the Input Age\n",
    "* Example Input: 18\n",
    "* Example Output: Your Birth Year is 1999"
   ]
  },
  {
   "cell_type": "code",
   "execution_count": null,
   "metadata": {
    "collapsed": true
   },
   "outputs": [],
   "source": [
    "age = input('What is your age? ')\n",
    "# Hint: Current_Year - Age = Birth_Year\n",
    "print(\"Your Birth Year is\")"
   ]
  },
  {
   "cell_type": "markdown",
   "metadata": {},
   "source": [
    "# 利用 For Loop 取值\n",
    "* For 迴圈可以依序讀取 Sequence 物件的元素\n",
    "* String 是一串 Character 的組合, 是一種 Sequence 物件"
   ]
  },
  {
   "cell_type": "code",
   "execution_count": null,
   "metadata": {
    "collapsed": true
   },
   "outputs": [],
   "source": [
    "for i in mystr:\n",
    "    print(i)"
   ]
  },
  {
   "cell_type": "markdown",
   "metadata": {},
   "source": [
    "# The Digit Sum\n",
    "* Example: the digit sum of 84001 is calculated as 8+4+0+0+1 = 13\n",
    "* Hint: 數值轉成字串型別後, 可以透過 For Loop 取值"
   ]
  },
  {
   "cell_type": "code",
   "execution_count": null,
   "metadata": {
    "collapsed": true
   },
   "outputs": [],
   "source": [
    "digits = 84001\n",
    "# 利用 total 變數來記錄累加結果, 起始值是 0\n",
    "total = 0\n",
    "for i in str(digits):\n",
    "    total = total + int(i)"
   ]
  },
  {
   "cell_type": "markdown",
   "metadata": {},
   "source": [
    "# if ... elif ... else Statements\n",
    "![if Statements](img/if-statements.png)\n",
    "* 注意語法的格式要求: if 最後面要有 : 冒號, 接著通常是換行並縮排 4個空白"
   ]
  },
  {
   "cell_type": "code",
   "execution_count": null,
   "metadata": {
    "collapsed": true
   },
   "outputs": [],
   "source": [
    "# 查詢字串裡哪幾個是英文字母, 哪幾個是數字?\n",
    "mystr = 'Hello Python, 123!'\n",
    "\n",
    "# 利用 For Loop 逐一讀取字串元素\n",
    "for i in mystr:\n",
    "    if i.isalpha():\n",
    "        print(\"%s is an Alphabet.\" % i)\n",
    "    elif i.isdigit():\n",
    "        print(\"%s is a Digit.\" % i)\n",
    "    else:\n",
    "        pass"
   ]
  },
  {
   "cell_type": "code",
   "execution_count": null,
   "metadata": {
    "collapsed": true
   },
   "outputs": [],
   "source": [
    "# 計算字串裡有幾個是英文字母, 有幾個是數字?\n",
    "mystr = 'Hello Python, 123!'\n",
    "\n",
    "# 利用 total_alpha 和 total_digit 變數記錄累計結果, 起始值是 0\n",
    "total_alpha = 0\n",
    "total_digit = 0\n",
    "\n",
    "for s in mystr:\n",
    "    if s.isalpha():\n",
    "        total_alpha = total_alpha + 1\n",
    "    elif s.isdigit():\n",
    "        total_digit = total_digit + 1\n",
    "    else:\n",
    "        continue\n",
    "\n",
    "print(\"Total Alphabet Count is %d, Total Digit Count is %d.\" % total_alpha, total_digit)"
   ]
  },
  {
   "cell_type": "markdown",
   "metadata": {},
   "source": [
    "# Flow Control 流程控制\n",
    "* pass - Do Nothing, and keep on processing\n",
    "* continue - Jump to the Next Iteration of the Loop\n",
    "* break - Exit out of the Loop"
   ]
  },
  {
   "cell_type": "code",
   "execution_count": null,
   "metadata": {
    "collapsed": true
   },
   "outputs": [],
   "source": [
    "# Use pass If You Wang Do Nothing\n",
    "if mynum == 0:\n",
    "    pass"
   ]
  },
  {
   "cell_type": "markdown",
   "metadata": {},
   "source": [
    "# 利用內建函式 len() 查詢長度"
   ]
  },
  {
   "cell_type": "code",
   "execution_count": null,
   "metadata": {
    "collapsed": true
   },
   "outputs": [],
   "source": [
    "len(mystr)"
   ]
  },
  {
   "cell_type": "markdown",
   "metadata": {},
   "source": [
    "![Index and Slice](img/index-slice.png)"
   ]
  },
  {
   "cell_type": "markdown",
   "metadata": {},
   "source": [
    "# Index 索引運算"
   ]
  },
  {
   "cell_type": "code",
   "execution_count": null,
   "metadata": {
    "collapsed": true
   },
   "outputs": [],
   "source": [
    "# 第一個元素 Element (字元)\n",
    "mystr[0]\n",
    "\n",
    "# 最後一個元素 Element (字元)\n",
    "mystr[-1]"
   ]
  },
  {
   "cell_type": "markdown",
   "metadata": {},
   "source": [
    "# Slice 切片運算"
   ]
  },
  {
   "cell_type": "code",
   "execution_count": null,
   "metadata": {
    "collapsed": true
   },
   "outputs": [],
   "source": [
    "mystr[6:12]\n",
    "mystr[-12:-7]"
   ]
  },
  {
   "cell_type": "markdown",
   "metadata": {},
   "source": [
    "## 反向順序的技巧\n",
    "* 切片運算的第3個參數, 用來指定 Step 間隔數"
   ]
  },
  {
   "cell_type": "code",
   "execution_count": null,
   "metadata": {
    "collapsed": true
   },
   "outputs": [],
   "source": [
    "mystr[::-1]"
   ]
  },
  {
   "cell_type": "markdown",
   "metadata": {},
   "source": [
    "# 字串 find() Method\n",
    "* 格式: S.find(str, start=0, end=len(S))\n",
    "* 比對到 str 的話, 回傳第一個索引值\n",
    "* 比對不到的話, 回傳 -1"
   ]
  },
  {
   "cell_type": "code",
   "execution_count": null,
   "metadata": {
    "collapsed": true
   },
   "outputs": [],
   "source": [
    "'hello'.find('e')"
   ]
  },
  {
   "cell_type": "code",
   "execution_count": null,
   "metadata": {
    "collapsed": true
   },
   "outputs": [],
   "source": [
    "'hello'.find('l')"
   ]
  },
  {
   "cell_type": "code",
   "execution_count": null,
   "metadata": {
    "collapsed": true
   },
   "outputs": [],
   "source": [
    "'hello'.find('a')"
   ]
  },
  {
   "cell_type": "markdown",
   "metadata": {},
   "source": [
    "# Exercise: Second Index\n",
    "* URL: https://py.checkio.org/mission/second-index\n",
    "* Input: Two Strings\n",
    "* Output: Int or None"
   ]
  },
  {
   "cell_type": "markdown",
   "metadata": {},
   "source": [
    "# Exercise: Digits Multiplication\n",
    "* CheckiO URL: http://py.checkio.org/mission/digits-multiplication"
   ]
  },
  {
   "cell_type": "markdown",
   "metadata": {},
   "source": [
    "# 利用 split() 分開字串"
   ]
  },
  {
   "cell_type": "code",
   "execution_count": null,
   "metadata": {
    "collapsed": true
   },
   "outputs": [],
   "source": [
    "mystr.split()"
   ]
  },
  {
   "cell_type": "markdown",
   "metadata": {},
   "source": [
    "# 利用 join() 結合字串"
   ]
  },
  {
   "cell_type": "code",
   "execution_count": null,
   "metadata": {
    "collapsed": true
   },
   "outputs": [],
   "source": [
    "'-'.join((str1, str2))\n",
    "\n",
    "# https://stackoverflow.com/questions/493819/python-join-why-is-it-string-joinlist-instead-of-list-joinstring\n",
    "print('\\n#####\\n'.join(mystr.split()))"
   ]
  },
  {
   "cell_type": "markdown",
   "metadata": {},
   "source": [
    "# In-Place Operators"
   ]
  },
  {
   "cell_type": "code",
   "execution_count": null,
   "metadata": {
    "collapsed": true
   },
   "outputs": [],
   "source": [
    "# mynum = mynum + 5 , Want a More Concise Statement? Try ' mynum += 5 '\n"
   ]
  },
  {
   "cell_type": "code",
   "execution_count": null,
   "metadata": {
    "collapsed": true
   },
   "outputs": [],
   "source": [
    "# Many other languages have special operators such as '++' as a shortcut for ' mynum += 1 '.\n",
    "# Python does not have these.\n",
    "mynum ++"
   ]
  },
  {
   "cell_type": "code",
   "execution_count": null,
   "metadata": {
    "collapsed": true
   },
   "outputs": [],
   "source": [
    "# Try and See If In-Place Operators Work for Strings\n",
    "mystr += '!'"
   ]
  },
  {
   "cell_type": "markdown",
   "metadata": {},
   "source": [
    "# Function 函式\n",
    "![Function Briefing](img/function-brief.png)"
   ]
  },
  {
   "cell_type": "code",
   "execution_count": null,
   "metadata": {
    "collapsed": true
   },
   "outputs": [],
   "source": [
    "# 只會回傳 'Hi!' 的函式範例\n",
    "def say_hi():\n",
    "    return 'Hi!'"
   ]
  },
  {
   "cell_type": "code",
   "execution_count": null,
   "metadata": {
    "collapsed": true
   },
   "outputs": [],
   "source": [
    "# 如何執行函式呢? 試試這樣\n",
    "say_hi"
   ]
  },
  {
   "cell_type": "code",
   "execution_count": null,
   "metadata": {
    "collapsed": true
   },
   "outputs": [],
   "source": [
    "# 執行函式的方式: 記得最後要有 ()\n",
    "say_hi()"
   ]
  },
  {
   "cell_type": "code",
   "execution_count": null,
   "metadata": {
    "collapsed": true
   },
   "outputs": [],
   "source": [
    "# 依照 name 變數回傳結果\n",
    "def say_hi(name):\n",
    "    return 'Hi! ' + name"
   ]
  },
  {
   "cell_type": "code",
   "execution_count": null,
   "metadata": {
    "collapsed": true
   },
   "outputs": [],
   "source": [
    "# 指定 name 變數的預設值\n",
    "def say_hi(name='my friend'):\n",
    "    return 'Hi! ' + name"
   ]
  },
  {
   "cell_type": "code",
   "execution_count": null,
   "metadata": {
    "collapsed": true
   },
   "outputs": [],
   "source": [
    "# 幣值轉換的函式範例\n",
    "def rmb2ntd(price):\n",
    "    return price * 5"
   ]
  },
  {
   "cell_type": "markdown",
   "metadata": {},
   "source": [
    "# 利用內建函式 dir() 查詢細節\n",
    "直譯器環境的重要工具"
   ]
  },
  {
   "cell_type": "code",
   "execution_count": null,
   "metadata": {
    "collapsed": true
   },
   "outputs": [],
   "source": [
    "dir()\n",
    "dir(mypi)"
   ]
  },
  {
   "cell_type": "markdown",
   "metadata": {},
   "source": [
    "# 利用內建函式 help() 查詢說明\n",
    "* 直譯器環境的重要工具\n",
    "* 可以查詢 Keywords, Symbols"
   ]
  },
  {
   "cell_type": "code",
   "execution_count": null,
   "metadata": {
    "collapsed": true
   },
   "outputs": [],
   "source": [
    "help()"
   ]
  },
  {
   "cell_type": "code",
   "execution_count": null,
   "metadata": {
    "collapsed": true
   },
   "outputs": [],
   "source": [
    "help(mypi.is_integer)"
   ]
  },
  {
   "cell_type": "markdown",
   "metadata": {},
   "source": [
    "## 使用雙底線符號 ```__``` 的函式是 Special Attribute\n",
    "日後會再詳細介紹, 暫時知道它是特殊用法就夠了"
   ]
  },
  {
   "cell_type": "code",
   "execution_count": null,
   "metadata": {
    "collapsed": true
   },
   "outputs": [],
   "source": [
    "mypi.__add__(3)\n",
    "# 與 mypi + 3 同義"
   ]
  },
  {
   "cell_type": "markdown",
   "metadata": {},
   "source": [
    "### IPython 特有功能: 查詢變數"
   ]
  },
  {
   "cell_type": "code",
   "execution_count": null,
   "metadata": {
    "collapsed": true
   },
   "outputs": [],
   "source": [
    "# 試試執行 ?mynum\n"
   ]
  },
  {
   "cell_type": "markdown",
   "metadata": {},
   "source": [
    "### IPython 特有功能: Tab Completion"
   ]
  },
  {
   "cell_type": "code",
   "execution_count": null,
   "metadata": {
    "collapsed": true
   },
   "outputs": [],
   "source": [
    "# 試試輸入 mynum. 在 . 符號後面按 Tab 是否發現出現新選單\n"
   ]
  },
  {
   "cell_type": "markdown",
   "metadata": {},
   "source": [
    "# List 型別\n",
    "* 利用 [ ] 符號可以建立 List 串列, 是一種 Mutable 型別\n",
    "* Element 元素 可以是各式型別"
   ]
  },
  {
   "cell_type": "markdown",
   "metadata": {
    "collapsed": true
   },
   "source": [
    "## 建立 List"
   ]
  },
  {
   "cell_type": "code",
   "execution_count": null,
   "metadata": {
    "collapsed": true
   },
   "outputs": [],
   "source": [
    "# Create an Empty List\n",
    "mylist = []\n",
    "\n",
    "# Create a List of 3 Elements\n",
    "mylist = [1, 2, 3]"
   ]
  },
  {
   "cell_type": "markdown",
   "metadata": {},
   "source": [
    "## 練習把字串學到的技巧全套在串列上"
   ]
  },
  {
   "cell_type": "code",
   "execution_count": null,
   "metadata": {
    "collapsed": true
   },
   "outputs": [],
   "source": [
    "mylist[0]"
   ]
  },
  {
   "cell_type": "code",
   "execution_count": null,
   "metadata": {
    "collapsed": true
   },
   "outputs": [],
   "source": [
    "mylist * 2"
   ]
  },
  {
   "cell_type": "code",
   "execution_count": null,
   "metadata": {
    "collapsed": true
   },
   "outputs": [],
   "source": [
    "len(mylist)"
   ]
  },
  {
   "cell_type": "code",
   "execution_count": null,
   "metadata": {
    "collapsed": true
   },
   "outputs": [],
   "source": [
    "mylist[0]\n",
    "mylist[1:2]"
   ]
  },
  {
   "cell_type": "code",
   "execution_count": null,
   "metadata": {
    "collapsed": true
   },
   "outputs": [],
   "source": [
    "dir(mylist)"
   ]
  },
  {
   "cell_type": "markdown",
   "metadata": {},
   "source": [
    "## 利用 append() 把 Element 加到 List 後面"
   ]
  },
  {
   "cell_type": "code",
   "execution_count": null,
   "metadata": {
    "collapsed": true
   },
   "outputs": [],
   "source": [
    "mylist.append(mystr)"
   ]
  },
  {
   "cell_type": "markdown",
   "metadata": {},
   "source": [
    "# 利用 range() 建立數值串列"
   ]
  },
  {
   "cell_type": "code",
   "execution_count": null,
   "metadata": {
    "collapsed": true
   },
   "outputs": [],
   "source": [
    "range(5)"
   ]
  },
  {
   "cell_type": "code",
   "execution_count": null,
   "metadata": {
    "collapsed": true
   },
   "outputs": [],
   "source": [
    "# Try using a for loop to print out each element of the range list\n",
    "for i in range(5):\n",
    "    print(i)"
   ]
  },
  {
   "cell_type": "code",
   "execution_count": null,
   "metadata": {
    "collapsed": true
   },
   "outputs": [],
   "source": [
    "for i in range(len(mystr)):\n",
    "    print(mystr[i])"
   ]
  },
  {
   "cell_type": "markdown",
   "metadata": {},
   "source": [
    "## 了解 append() 與 extend() 的不同"
   ]
  },
  {
   "cell_type": "code",
   "execution_count": null,
   "metadata": {
    "collapsed": true
   },
   "outputs": [],
   "source": [
    "alist = [4, 5, 6]\n",
    "mylist.append(alist)\n",
    "mylist.extend(alist)"
   ]
  },
  {
   "cell_type": "markdown",
   "metadata": {},
   "source": [
    "# Tuple 型別\n",
    "利用 ( ) 符號可以建立 Tuple 值組, 是一種 Immutable 型別"
   ]
  },
  {
   "cell_type": "code",
   "execution_count": null,
   "metadata": {
    "collapsed": true
   },
   "outputs": [],
   "source": [
    "# 建立空值組\n",
    "mytpl = ()\n",
    "\n",
    "mytpl = (1, 2, 3)\n",
    "\n",
    "# 建立一個元素的值組要用逗號\n",
    "mytpl = (1,)"
   ]
  },
  {
   "cell_type": "markdown",
   "metadata": {},
   "source": [
    "# Dictionary 型別\n",
    "利用 { } 符號可以建立 Dictionary 字典, 是一種 Mutable 型別"
   ]
  },
  {
   "cell_type": "code",
   "execution_count": null,
   "metadata": {
    "collapsed": true
   },
   "outputs": [],
   "source": [
    "# 建立空字典\n",
    "mydict = {}\n",
    "\n",
    "mydict = {'name': 'marr', 'team': 'A', 'task': 'web'}"
   ]
  },
  {
   "cell_type": "markdown",
   "metadata": {},
   "source": [
    "## 利用 keys() 和 values() 取得字典的鍵與值\n",
    "鍵 Key 是獨一無二的, 例如無重覆的編號"
   ]
  },
  {
   "cell_type": "code",
   "execution_count": null,
   "metadata": {
    "collapsed": true
   },
   "outputs": [],
   "source": [
    "mydict.keys()\n",
    "mydict.values()\n",
    "mydict.items()"
   ]
  },
  {
   "cell_type": "markdown",
   "metadata": {},
   "source": [
    "## 利用 get() 取得字典的值"
   ]
  },
  {
   "cell_type": "code",
   "execution_count": null,
   "metadata": {
    "collapsed": true
   },
   "outputs": [],
   "source": [
    "mydict.get('name')\n",
    "mydict.get('addr', 'Not Found')"
   ]
  },
  {
   "cell_type": "markdown",
   "metadata": {},
   "source": [
    "# Set\n",
    "Intersect vs Union"
   ]
  },
  {
   "cell_type": "code",
   "execution_count": null,
   "metadata": {
    "collapsed": true
   },
   "outputs": [],
   "source": [
    "item_price = [15, 25, 30, 12, 22]\n",
    "results = []\n",
    "for i in item_price:\n",
    "    results.append(rmb2ntd(i))\n",
    "\n",
    "print(results)"
   ]
  },
  {
   "cell_type": "markdown",
   "metadata": {},
   "source": [
    "# 利用 map() 函式執行重覆計算\n",
    "map() 參數先接 Function 再接 Sequence, 結果通常與 For Loop 同義"
   ]
  },
  {
   "cell_type": "code",
   "execution_count": null,
   "metadata": {
    "collapsed": true
   },
   "outputs": [],
   "source": [
    "seq1 = list(map(rmb2ntd, item_price))"
   ]
  },
  {
   "cell_type": "markdown",
   "metadata": {},
   "source": [
    "# 利用 lambda 函式簡化定義\n",
    "是一種 Anonymous Function"
   ]
  },
  {
   "cell_type": "code",
   "execution_count": null,
   "metadata": {
    "collapsed": true
   },
   "outputs": [],
   "source": [
    "seq2 = list(map(lambda x: x * 5, item_price))\n",
    "print(seq2)"
   ]
  },
  {
   "cell_type": "markdown",
   "metadata": {},
   "source": [
    "# 利用 filter() 函式過濾符合條件的元素"
   ]
  },
  {
   "cell_type": "code",
   "execution_count": null,
   "metadata": {
    "collapsed": true
   },
   "outputs": [],
   "source": [
    "seq3 = list(filter((lambda x: x > 100 and x < 125), seq1))\n",
    "print(seq3)"
   ]
  },
  {
   "cell_type": "markdown",
   "metadata": {},
   "source": [
    "# List Comprehension\n",
    "http://www.pythonforbeginners.com/basics/list-comprehensions-in-python"
   ]
  },
  {
   "cell_type": "code",
   "execution_count": null,
   "metadata": {
    "collapsed": true
   },
   "outputs": [],
   "source": [
    "seq11 = [rmb2ntd(i) for i in item_price]\n",
    "print(seq11)"
   ]
  },
  {
   "cell_type": "code",
   "execution_count": null,
   "metadata": {
    "collapsed": true
   },
   "outputs": [],
   "source": [
    "seq13 = [rmb2ntd(i) for i in item_price if rmb2ntd(i) > 100]\n",
    "print(seq13)"
   ]
  },
  {
   "cell_type": "markdown",
   "metadata": {},
   "source": [
    "# import\n",
    "載入模組的指令"
   ]
  },
  {
   "cell_type": "code",
   "execution_count": null,
   "metadata": {
    "collapsed": true
   },
   "outputs": [],
   "source": [
    "# 第一種形式\n",
    "import math\n",
    "math.sqrt(16)"
   ]
  },
  {
   "cell_type": "code",
   "execution_count": null,
   "metadata": {
    "collapsed": true
   },
   "outputs": [],
   "source": [
    "# 第二種形式\n",
    "from math import sqrt\n",
    "sqrt(16)"
   ]
  },
  {
   "cell_type": "code",
   "execution_count": null,
   "metadata": {
    "collapsed": true
   },
   "outputs": [],
   "source": [
    "# 第三種形式\n",
    "from math import sqrt as masq\n",
    "masq(16)"
   ]
  },
  {
   "cell_type": "markdown",
   "metadata": {},
   "source": [
    "## Let's find out what names are defined after `import` is run"
   ]
  },
  {
   "cell_type": "code",
   "execution_count": null,
   "metadata": {
    "collapsed": true
   },
   "outputs": [],
   "source": [
    "# Try dir() here"
   ]
  },
  {
   "cell_type": "markdown",
   "metadata": {
    "collapsed": true
   },
   "source": [
    "# `__name__` 是 Scope 名稱變數\n",
    "在 Python 直譯器讀進程式碼前, 它會先設定 `__name__` 在內的幾個特殊變數, 如果程式碼是直接被執行, 那麼 `__name__` 會被指定成 \"`__main__`\", 如果是透過 import 來執行, 程式碼 `__name__` 會被指定成模組的名稱"
   ]
  },
  {
   "cell_type": "code",
   "execution_count": null,
   "metadata": {
    "collapsed": true
   },
   "outputs": [],
   "source": [
    "print(__name__)"
   ]
  },
  {
   "cell_type": "markdown",
   "metadata": {},
   "source": [
    "# 利用 ```__name__``` 分辨程式是直接執行或是被 import\n",
    "`__main__` 是 Python 程式執行階段的最上層 scope 名稱"
   ]
  },
  {
   "cell_type": "markdown",
   "metadata": {},
   "source": [
    "<pre>if __name__ == '__main__':\n",
    "    main()</pre>"
   ]
  },
  {
   "cell_type": "markdown",
   "metadata": {},
   "source": [
    "## 利用亂數產生模組撰寫 剪刀石頭布 遊戲\n",
    "建立 rsp.py 檔案 內容如下"
   ]
  },
  {
   "cell_type": "markdown",
   "metadata": {
    "collapsed": true
   },
   "source": [
    "<pre># random 是內建的亂數產生模組\n",
    "import random\n",
    "\n",
    "rps = ['Rock', 'Paper', 'Scissors']\n",
    "# randint() 會隨機產生整數值\n",
    "rnd = random.randint(0,2)\n",
    "print(rps[rnd])</pre>"
   ]
  },
  {
   "cell_type": "markdown",
   "metadata": {},
   "source": [
    "### 更多 random 模組說明 可以參考<a href=\"https://www.youtube.com/watch?v=KzqSDvzOFNA\">這段影片解說</a>"
   ]
  },
  {
   "cell_type": "markdown",
   "metadata": {},
   "source": [
    "# Exception Handling - Try, Except and Finally"
   ]
  },
  {
   "cell_type": "code",
   "execution_count": null,
   "metadata": {
    "collapsed": true
   },
   "outputs": [],
   "source": [
    "try:\n",
    "    f = open(\"myfile.txt\", encoding='utf-8')\n",
    "    # perform file operations\n",
    "# make sure the file is closed even if an exception occurs\n",
    "finally:\n",
    "    f.close()"
   ]
  }
 ],
 "metadata": {
  "kernelspec": {
   "display_name": "Python 3",
   "language": "python",
   "name": "python3"
  },
  "language_info": {
   "codemirror_mode": {
    "name": "ipython",
    "version": 3
   },
   "file_extension": ".py",
   "mimetype": "text/x-python",
   "name": "python",
   "nbconvert_exporter": "python",
   "pygments_lexer": "ipython3",
   "version": "3.6.2"
  }
 },
 "nbformat": 4,
 "nbformat_minor": 2
}
