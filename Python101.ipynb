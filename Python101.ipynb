{
 "cells": [
  {
   "cell_type": "markdown",
   "metadata": {},
   "source": [
    "![Python Logo](https://www.python.org/static/community_logos/python-logo-master-v3-TM-flattened.png)\n",
    "* 大約 1991年 由 Guido van Rossum 發明的通用型程式語言\n",
    "* 早期語言特性著重教育應用, 後來廣受學界業界採用, 常見於人工智慧/科學運算/數據分析/網站開發/地理資訊等場合\n",
    "* 可讀性高, 使用空白縮排, 函式庫生態系豐富, 支援多樣功能\n",
    "\n",
    "## \"Python is the second best language for everything\""
   ]
  },
  {
   "cell_type": "markdown",
   "metadata": {},
   "source": [
    "# 認識 Python 基本型別和語法\n",
    "符號 # 開頭的文字, 代表是註解說明, 並不會被執行"
   ]
  },
  {
   "cell_type": "markdown",
   "metadata": {},
   "source": [
    "# Number 數值型別\n",
    "以下只示範 Integer 與 Float Number, 像 [Complex Number](https://python-reference.readthedocs.io/en/latest/docs/complex) 可自行額外練習"
   ]
  },
  {
   "cell_type": "markdown",
   "metadata": {},
   "source": [
    "## 四則運算符號\n",
    "\n",
    "運算|人類|Python\n",
    "----|----|------\n",
    "加  | +   | +\n",
    "減  | -   | -\n",
    "乘  | x   | *\n",
    "除  | ÷   | /\n",
    "\n",
    "* 由左至右, 依照 先乘除 後加減 的運算原則, 括號裡的算式 會優先計算"
   ]
  },
  {
   "cell_type": "code",
   "execution_count": null,
   "metadata": {},
   "outputs": [],
   "source": [
    "3 + 2"
   ]
  },
  {
   "cell_type": "code",
   "execution_count": null,
   "metadata": {},
   "outputs": [],
   "source": [
    "5 - 3"
   ]
  },
  {
   "cell_type": "code",
   "execution_count": null,
   "metadata": {},
   "outputs": [],
   "source": [
    "4 * (8 - 2)"
   ]
  },
  {
   "cell_type": "code",
   "execution_count": null,
   "metadata": {},
   "outputs": [],
   "source": [
    "6 / 5"
   ]
  },
  {
   "cell_type": "markdown",
   "metadata": {},
   "source": [
    "## 次方運算\n",
    "* 使用 ** 符號作為次方運算子"
   ]
  },
  {
   "cell_type": "code",
   "execution_count": null,
   "metadata": {},
   "outputs": [],
   "source": [
    "# 2 的 5 次方\n",
    "2 ** 5"
   ]
  },
  {
   "cell_type": "code",
   "execution_count": null,
   "metadata": {},
   "outputs": [],
   "source": [
    "# 2 的 1/2 次方?\n",
    "2 ** 1/2"
   ]
  },
  {
   "cell_type": "markdown",
   "metadata": {},
   "source": [
    "## 範例: 計算 BMI 身體質量指數\n",
    "![BMI](https://wikimedia.org/api/rest_v1/media/math/render/svg/a25f48e7bcb8270653f7b027e6dce80f0b6fcd90)"
   ]
  },
  {
   "cell_type": "code",
   "execution_count": null,
   "metadata": {},
   "outputs": [],
   "source": [
    "# 身體質量指數 BMI 公式 = 體重 (公斤) / ( 身高 (公尺) ** 2 )\n",
    "70 / (1.70 ** 2)"
   ]
  },
  {
   "cell_type": "markdown",
   "metadata": {},
   "source": [
    "## 根號運算\n",
    "* 次方運算子可以使用分數"
   ]
  },
  {
   "cell_type": "code",
   "execution_count": null,
   "metadata": {},
   "outputs": [],
   "source": [
    "# 27 的立方根\n",
    "27 ** (1/3)"
   ]
  },
  {
   "cell_type": "markdown",
   "metadata": {},
   "source": [
    "# Variable Assignment 指定變數\n",
    "* The ``=`` symbol indicates assignment, an action \"[evaluate the expression](https://stackoverflow.com/questions/986006/how-do-i-pass-a-variable-by-reference) on the right and assign its value to the variable named on the left.\"\n",
    "* 等號 = 的作用: 系統會將右側運算的結果, 傳給等號左邊的變數, 請練習以下各例並觀察結果\n",
    "* 注意: mynum = 0 跟 mynum == 0 意義不同, 前者是指定變數, 後者是 \"是否等於?\""
   ]
  },
  {
   "cell_type": "code",
   "execution_count": null,
   "metadata": {},
   "outputs": [],
   "source": [
    "# 下列程式碼 意思是 指定數值 0 給 mynum 變數; 或是 mynum 變數被指定為數值 0\n",
    "# 可讀作 指定 mynum 變數為 0\n",
    "mynum = 0"
   ]
  },
  {
   "cell_type": "code",
   "execution_count": null,
   "metadata": {},
   "outputs": [],
   "source": [
    "# 顯示結果 (註: 底層是執行 __repr__() 的結果, 等義於 print(mynum.__repr__()))\n",
    "mynum"
   ]
  },
  {
   "cell_type": "code",
   "execution_count": null,
   "metadata": {},
   "outputs": [],
   "source": [
    "# 下列程式碼 意思是 指定運算式 3 + 2 給 myvar 變數\n",
    "myvar = 3 + 2\n",
    "myvar"
   ]
  },
  {
   "cell_type": "markdown",
   "metadata": {},
   "source": [
    "![Assignment with Numbers](img/assign-number.png)"
   ]
  },
  {
   "cell_type": "markdown",
   "metadata": {},
   "source": [
    "## Assignment vs \"Is Equal to\"\n",
    "* In Math, \"=\" is used to say what is on the left equals what is on the right.\n",
    "* In Python, however, \"=\" is used to assign a value (the right hand side) to a variable (the left hand side) "
   ]
  },
  {
   "cell_type": "code",
   "execution_count": null,
   "metadata": {},
   "outputs": [],
   "source": [
    "5 = myvar"
   ]
  },
  {
   "cell_type": "code",
   "execution_count": null,
   "metadata": {},
   "outputs": [],
   "source": [
    "5 = 2 + 3"
   ]
  },
  {
   "cell_type": "markdown",
   "metadata": {},
   "source": [
    "# Comparison 是否等於 和 bool 布林型別\n",
    "* In Python, '==' is used to evaluate a comparison expression\n",
    "* Comparing values will result in Boolean values: **True** or **False**\n",
    "* 注意: True 是首字大寫, 如果使用 true 意義不同\n",
    "* 參考: [Truth Value Testing](http://docs.python.org/3/library/stdtypes.html#truth) 說明文件"
   ]
  },
  {
   "cell_type": "code",
   "execution_count": null,
   "metadata": {},
   "outputs": [],
   "source": [
    "# 意思是 \"mynum 等於 0 嗎?\"\n",
    "mynum == 0"
   ]
  },
  {
   "cell_type": "code",
   "execution_count": null,
   "metadata": {},
   "outputs": [],
   "source": [
    "# 意思是 \"mynum 不等於 0 嗎?\"\n",
    "mynum != 0"
   ]
  },
  {
   "cell_type": "code",
   "execution_count": null,
   "metadata": {},
   "outputs": [],
   "source": [
    "# 意思是 \"mynum 大於或等於 0.0 嗎?\"\n",
    "mynum >= 0.0"
   ]
  },
  {
   "cell_type": "code",
   "execution_count": null,
   "metadata": {},
   "outputs": [],
   "source": [
    "# 意思是 \"1 等於 True 嗎?\"\n",
    "1 == True"
   ]
  },
  {
   "cell_type": "code",
   "execution_count": null,
   "metadata": {},
   "outputs": [],
   "source": [
    "# 意思是 \"0 等於 True 嗎?\"\n",
    "0 == True"
   ]
  },
  {
   "cell_type": "code",
   "execution_count": null,
   "metadata": {},
   "outputs": [],
   "source": [
    "# 意思是 \"0 等於 False 嗎?\"\n",
    "0 == False"
   ]
  },
  {
   "cell_type": "markdown",
   "metadata": {},
   "source": [
    "# 變數命名限制\n",
    "* 命名 (Naming) 的第一個字元必須是字母或底線, 第二個字元之後可以接數字: 例 abc, abc123, _abc 都是合法的變數名稱\n",
    "* 不可以使用底線以外的其他符號\n",
    "* 不可以使用保留字 (Keywords)\n",
    "* 違反變數命名限制通常會產生 SyntaxError 錯誤訊息"
   ]
  },
  {
   "cell_type": "code",
   "execution_count": null,
   "metadata": {},
   "outputs": [],
   "source": [
    "# 試看看: 會出現什麼結果?\n",
    "123abc = 7"
   ]
  },
  {
   "cell_type": "code",
   "execution_count": null,
   "metadata": {},
   "outputs": [],
   "source": [
    "# 試看看: 會出現什麼結果?\n",
    "abc-123 = 7"
   ]
  },
  {
   "cell_type": "code",
   "execution_count": null,
   "metadata": {},
   "outputs": [],
   "source": [
    "# 變數名稱可以使用 _ 符號, 要熟悉 _ 符號的輸入方式\n",
    "abc_123 = 7"
   ]
  },
  {
   "cell_type": "markdown",
   "metadata": {},
   "source": [
    "# 變數命名原則\n",
    "* Python 程式碼風格指引 (PEP8) 提示「維護可讀性」的推薦原則, 以變數命名慣例 (Naming Convention) 為例, 應以小寫字母和底線符號分隔: my_var 是常見形式, 有人暱稱為 snake_case\n",
    "* myVar 或 MyVar 也是被允許的命名形式, 如果舊有程式碼已統一使用這種 CamelCase 形式, 可視需要沿用舊有風格\n",
    "* 可以使用中文作為變數 (Python 3 開始支援)"
   ]
  },
  {
   "cell_type": "code",
   "execution_count": null,
   "metadata": {},
   "outputs": [],
   "source": [
    "# 利用變數可以建立公式\n",
    "餐飲單價 = 120\n",
    "餐飲數量 = 3\n",
    "餐飲費用 = 餐飲單價 * 餐飲數量\n",
    "交通費用 = 360\n",
    "費用合計 = 餐飲費用 + 交通費用\n",
    "\n",
    "# 費用合計 有反應嗎?"
   ]
  },
  {
   "cell_type": "markdown",
   "metadata": {},
   "source": [
    "# 利用內建函式 print() 列印變數或結果\n",
    "* 函式的英文是 Function, 函式名稱後會接 () 符號, 括號內可能會接參數值\n",
    "* 函式都會有 Return Value 回傳值, print() 的回傳值是 None\n",
    "* print() 通常會搭配字串來排版, 讓顯示結果更有意義, 後續會提及更多應用範例\n",
    "* 註: 底層是 __str__() 的結果\n",
    "* 所有[內建函式的清單說明](http://docs.python.org/3/library/functions.html)"
   ]
  },
  {
   "cell_type": "code",
   "execution_count": null,
   "metadata": {},
   "outputs": [],
   "source": [
    "print(費用合計)"
   ]
  },
  {
   "cell_type": "markdown",
   "metadata": {},
   "source": [
    "# Python 2 與 Python 3 的差別之一: print 語法不同\n",
    "參考 <a href=\"http://docs.python.org/3/whatsnew/3.0.html#print-is-a-function\">PEP 3105</a> 細節說明"
   ]
  },
  {
   "cell_type": "code",
   "execution_count": null,
   "metadata": {},
   "outputs": [],
   "source": [
    "# Python 2: 不需要 () 括號\n",
    "print mynum\n",
    "\n",
    "# Python 3: 需要 () 括號\n",
    "print(mynum)"
   ]
  },
  {
   "cell_type": "markdown",
   "metadata": {},
   "source": [
    "## 除數不能為 0, 留意 Trackback 與 Error 代碼的呈現方式"
   ]
  },
  {
   "cell_type": "code",
   "execution_count": null,
   "metadata": {},
   "outputs": [],
   "source": [
    "# Try and See What Happens with Statements like \" 6 / mynum \" or \" 6 / 0 \"\n",
    "6 / 0"
   ]
  },
  {
   "cell_type": "markdown",
   "metadata": {},
   "source": [
    "## 利用 . 小數符號可以建立浮點數"
   ]
  },
  {
   "cell_type": "code",
   "execution_count": null,
   "metadata": {},
   "outputs": [],
   "source": [
    "# 下列是個浮點數 (Float Number) 範例\n",
    "mypi = 3.14159\n",
    "\n",
    "# 計算半徑 5 的圓面積\n",
    "r = 5\n",
    "print(mypi * r * r)"
   ]
  },
  {
   "cell_type": "markdown",
   "metadata": {},
   "source": [
    "# 利用內建函式 type() 查詢型別"
   ]
  },
  {
   "cell_type": "code",
   "execution_count": null,
   "metadata": {},
   "outputs": [],
   "source": [
    "type(mypi)"
   ]
  },
  {
   "cell_type": "markdown",
   "metadata": {},
   "source": [
    "# Arithmetic Conversions 算術轉換\n",
    "* \"<a href=\"https://docs.python.org/3/reference/expressions.html#arithmetic-conversions\">the numeric arguments are converted to a common type</a>\"\n",
    "* if either argument is a floating point number, the other is converted to floating point\n",
    "* 參考資料: <a href=\"https://www.techbeamers.com/python-numbers/\">Python 數值型別的介紹</a>\n",
    "* 參考資料: <a href=\"https://openhome.cc/Gossip/CppGossip/ArithmeticOperator.html\">C++ 的算術轉換</a>"
   ]
  },
  {
   "cell_type": "code",
   "execution_count": null,
   "metadata": {},
   "outputs": [],
   "source": [
    "# the result remains as integer\n",
    "type(2 * 5)"
   ]
  },
  {
   "cell_type": "code",
   "execution_count": null,
   "metadata": {},
   "outputs": [],
   "source": [
    "# converting to float\n",
    "type(2.0 * 5)"
   ]
  },
  {
   "cell_type": "code",
   "execution_count": null,
   "metadata": {},
   "outputs": [],
   "source": [
    "# 在 Python 3 運算子 / 是 float division\n",
    "8 / 2"
   ]
  },
  {
   "cell_type": "markdown",
   "metadata": {},
   "source": [
    "# String 字串型別\n",
    "* 利用 ' 單引號 \" 雙引號 都可以建立字串 String\n",
    "* 字串由一連串字元 Character (例如字母或數字) 組合而成, 是一種 Sequence 物件\n",
    "* 每一個字元就是字串的 Element 元素, 可以執行 index, slice, for loop 的運算"
   ]
  },
  {
   "cell_type": "code",
   "execution_count": null,
   "metadata": {},
   "outputs": [],
   "source": [
    "str1 = 'Hello'\n",
    "str2 = \"Python\""
   ]
  },
  {
   "cell_type": "code",
   "execution_count": null,
   "metadata": {},
   "outputs": [],
   "source": [
    "# 引號要一致對稱, 才能成功建立字串, 不然會產生 SyntaxError: EOL while scanning string literal 錯誤\n",
    "str3 = 'Hello\""
   ]
  },
  {
   "cell_type": "markdown",
   "metadata": {},
   "source": [
    "利用加號 + 運算子, 可以將字串合併起來, 稱為 Concatenation"
   ]
  },
  {
   "cell_type": "code",
   "execution_count": null,
   "metadata": {},
   "outputs": [],
   "source": [
    "mystr = str1 + str2\n",
    "mystr"
   ]
  },
  {
   "cell_type": "code",
   "execution_count": null,
   "metadata": {},
   "outputs": [],
   "source": [
    "# 想在 'Hello' 和 'Python' 中間加進一個空白字元, 這裡有個方法\n",
    "mystr = str1 + ' ' + str2\n",
    "mystr"
   ]
  },
  {
   "cell_type": "code",
   "execution_count": null,
   "metadata": {},
   "outputs": [],
   "source": [
    "# 猜看看: 字串乘以 2 會是什麼結果?\n",
    "mystr * 2"
   ]
  },
  {
   "cell_type": "code",
   "execution_count": null,
   "metadata": {},
   "outputs": [],
   "source": [
    "# in 運算子 可以檢查 Substring 是否出現在 String 裡, 如果要知道 Subtring 出現的位置, 可以用 find() Method\n",
    "'Py' in 'Python'"
   ]
  },
  {
   "cell_type": "markdown",
   "metadata": {},
   "source": [
    "# 字串與它的常用方法\n",
    "* 字串可以在 . 符號後接方法 (Method) 名稱, 執行需要的操作\n",
    "* 方法跟函式 (Function) 很像, 有些方法直接用括號就能執行, 有些要在括號裡面接參數\n",
    "* 例如 upper() 方法, 會把字串全部變成大寫\n",
    "* 例如 zfill() 方法要輸入「位數」參數, 會用 '0' 來[補足字串前的空位](https://stackoverflow.com/questions/339007/nicest-way-to-pad-zeroes-to-a-string)"
   ]
  },
  {
   "cell_type": "code",
   "execution_count": null,
   "metadata": {},
   "outputs": [],
   "source": [
    "# 不需要輸入參數的方法範例\n",
    "'hello'.upper()"
   ]
  },
  {
   "cell_type": "code",
   "execution_count": null,
   "metadata": {},
   "outputs": [],
   "source": [
    "# 需要輸入參數的方法範例\n",
    "'7'.zfill(3)"
   ]
  },
  {
   "cell_type": "markdown",
   "metadata": {},
   "source": [
    "# 特殊字元的處理方式\n",
    "* 字串裡如果有 單引號 或 雙引號, 可以用 \\ 反斜線來處理, 以避免可能的錯誤\n",
    "* 常見技巧: \\n 代表換行符號, \\t 代表 Tab 鍵"
   ]
  },
  {
   "cell_type": "code",
   "execution_count": null,
   "metadata": {},
   "outputs": [],
   "source": [
    "# 字串裡的 ' 符號沒有處理的話, 會產生 SyntaxError 錯誤, 並提示語法錯誤的位置\n",
    "print('I'm 18 years old.')"
   ]
  },
  {
   "cell_type": "code",
   "execution_count": null,
   "metadata": {},
   "outputs": [],
   "source": [
    "# 注意到 \\n 代表換行\n",
    "print('I\\'m 18 years old.\\nHow old are you?')"
   ]
  },
  {
   "cell_type": "markdown",
   "metadata": {},
   "source": [
    "# 利用 int() 或 str() 進行型別轉換\n",
    "* 兩個字串可以用 + 合併, 但字串與數值不能合併\n",
    "* 出現 TypeError: must be str, not int 代表型別錯誤, 請檢查錯誤的位置, 需要透過 str() 來轉換成字串型別"
   ]
  },
  {
   "cell_type": "code",
   "execution_count": null,
   "metadata": {},
   "outputs": [],
   "source": [
    "age = 18\n",
    "# 想要印出 \"I am 18\" 結果, 該怎樣做呢? 下列嘗試採 字串合併 方式\n",
    "print(\"I am \" + age)"
   ]
  },
  {
   "cell_type": "code",
   "execution_count": null,
   "metadata": {},
   "outputs": [],
   "source": [
    "num_str = '38'\n",
    "int(num_str)\n",
    "# 上述 int() 指令並未改變 num_str 本身的型別, 而是回傳一個新的數值型別"
   ]
  },
  {
   "cell_type": "code",
   "execution_count": null,
   "metadata": {},
   "outputs": [],
   "source": [
    "# type(object) will return the object's type\n",
    "type(age)"
   ]
  },
  {
   "cell_type": "code",
   "execution_count": null,
   "metadata": {},
   "outputs": [],
   "source": [
    "# 在前面已經執行過 int(num_str) 那麼 num_str 型別應該變成 int 囉? 確認一下\n",
    "type(num_str)"
   ]
  },
  {
   "cell_type": "markdown",
   "metadata": {},
   "source": [
    "# 型別轉換後的結果 通常會用新變數來記錄它\n",
    "* 這項技巧也適用於 sort() 場合"
   ]
  },
  {
   "cell_type": "code",
   "execution_count": null,
   "metadata": {},
   "outputs": [],
   "source": [
    "num_int = int(num_str)\n",
    "type(num_int)\n",
    "num_int"
   ]
  },
  {
   "cell_type": "code",
   "execution_count": null,
   "metadata": {},
   "outputs": [],
   "source": [
    "type(mypi)"
   ]
  },
  {
   "cell_type": "code",
   "execution_count": null,
   "metadata": {},
   "outputs": [],
   "source": [
    "type(True)"
   ]
  },
  {
   "cell_type": "markdown",
   "metadata": {},
   "source": [
    "# 利用內建函式 input() 讓使用者與電腦互動\n",
    "* 注意: 出現對話框時, 記得要完成輸入後 Cell 才算執行完畢, 不然可能無法執行其他 Cell"
   ]
  },
  {
   "cell_type": "code",
   "execution_count": null,
   "metadata": {},
   "outputs": [],
   "source": [
    "age = input('How old are you? ')\n",
    "print('You are ' + age)"
   ]
  },
  {
   "cell_type": "markdown",
   "metadata": {},
   "source": [
    "## Python 3 的 input() 結果是 str 型別\n",
    "* 注意: Python 2 的 input() 結果不是單純的 str 型別, 它會交由 eval() 處理; 額外有個 raw_input() 結果才是 str 型別"
   ]
  },
  {
   "cell_type": "code",
   "execution_count": null,
   "metadata": {},
   "outputs": [],
   "source": [
    "# 利用 type() 來確認變數型別\n",
    "type(age)"
   ]
  },
  {
   "cell_type": "code",
   "execution_count": null,
   "metadata": {},
   "outputs": [],
   "source": [
    "# 利用字串合併技巧, 讓結果排版得更好, 也可以採用 字串樣版 或 Format String 語法\n",
    "print('You are ' + age + ' years old.')"
   ]
  },
  {
   "cell_type": "markdown",
   "metadata": {},
   "source": [
    "# Format String 字串樣版\n",
    "* 像 Padding 或 Aligning 技巧, 詳細[範例](https://wellsr.com/python/python-string-operations-and-string-formatting/)可參考[說明文件](https://pyformat.info/)\n",
    "![String Template](img/string-template.png)\n",
    "* Python 3.6 之後支援 [Formatted String Literal (F-String) 格式](https://docs.python.org/3.7/reference/lexical_analysis.html#formatted-string-literals)\n",
    "* [字串格式化](https://openhome.cc/Gossip/Python/StringFormat.html)[範例](https://realpython.com/python-f-strings/)"
   ]
  },
  {
   "cell_type": "code",
   "execution_count": null,
   "metadata": {},
   "outputs": [],
   "source": [
    "print('You are %s years old.' % age)"
   ]
  },
  {
   "cell_type": "code",
   "execution_count": null,
   "metadata": {},
   "outputs": [],
   "source": [
    "'You are {} years old.'.format(age)"
   ]
  },
  {
   "cell_type": "code",
   "execution_count": null,
   "metadata": {},
   "outputs": [],
   "source": [
    "'{name} is {age} years old.'.format(name='marr', age=18)"
   ]
  },
  {
   "cell_type": "markdown",
   "metadata": {},
   "source": [
    "# Exercise: Print Out the Birth Year based on the Input Age\n",
    "* Example Input: 18\n",
    "* Example Output: Your Birth Year is 2001"
   ]
  },
  {
   "cell_type": "code",
   "execution_count": null,
   "metadata": {},
   "outputs": [],
   "source": [
    "age = input('What is your age? ')\n",
    "# Hint: Current_Year - Age = Birth_Year\n",
    "print(\"Your Birth Year is\")"
   ]
  },
  {
   "cell_type": "markdown",
   "metadata": {},
   "source": [
    "# 利用內建函式 len() 查詢長度"
   ]
  },
  {
   "cell_type": "code",
   "execution_count": null,
   "metadata": {},
   "outputs": [],
   "source": [
    "len(mystr)"
   ]
  },
  {
   "cell_type": "markdown",
   "metadata": {},
   "source": [
    "# Index 索引運算\n",
    "* 分成正向索引和負向索引"
   ]
  },
  {
   "cell_type": "markdown",
   "metadata": {},
   "source": [
    "![Indexing](img/indexing.png)"
   ]
  },
  {
   "cell_type": "code",
   "execution_count": null,
   "metadata": {},
   "outputs": [],
   "source": [
    "# 第一個元素 Element (字元)\n",
    "mystr[0]"
   ]
  },
  {
   "cell_type": "code",
   "execution_count": null,
   "metadata": {},
   "outputs": [],
   "source": [
    "# 最後一個元素 Element (字元)\n",
    "mystr[-1]"
   ]
  },
  {
   "cell_type": "code",
   "execution_count": null,
   "metadata": {},
   "outputs": [],
   "source": [
    "# 超過範圍的話, 會產生 IndexError 錯誤\n",
    "mystr[12]"
   ]
  },
  {
   "cell_type": "markdown",
   "metadata": {},
   "source": [
    "# Slice 切片運算\n",
    "* 格式: [start:stop:step] 參數都必須是整數, step 預設值 1 且不可指定為 0\n",
    "* start 大於等於 stop 時, 會回傳 '' 空字串"
   ]
  },
  {
   "cell_type": "markdown",
   "metadata": {},
   "source": [
    "![Slicing](img/slicing.png)"
   ]
  },
  {
   "cell_type": "code",
   "execution_count": null,
   "metadata": {},
   "outputs": [],
   "source": [
    "mystr[6:12]"
   ]
  },
  {
   "cell_type": "code",
   "execution_count": null,
   "metadata": {},
   "outputs": [],
   "source": [
    "mystr[-12:-7]"
   ]
  },
  {
   "cell_type": "code",
   "execution_count": null,
   "metadata": {},
   "outputs": [],
   "source": [
    "mystr[-6:]"
   ]
  },
  {
   "cell_type": "code",
   "execution_count": null,
   "metadata": {},
   "outputs": [],
   "source": [
    "mystr[:5]"
   ]
  },
  {
   "cell_type": "code",
   "execution_count": null,
   "metadata": {},
   "outputs": [],
   "source": [
    "mystr[::2]"
   ]
  },
  {
   "cell_type": "code",
   "execution_count": null,
   "metadata": {},
   "outputs": [],
   "source": [
    "# 超過參數邊界時, 會產生錯誤嗎?\n",
    "mystr[12:]"
   ]
  },
  {
   "cell_type": "markdown",
   "metadata": {},
   "source": [
    "## 反向順序的技巧\n",
    "* 切片運算的第3個參數, 用來指定 Step 間隔數"
   ]
  },
  {
   "cell_type": "code",
   "execution_count": null,
   "metadata": {},
   "outputs": [],
   "source": [
    "mystr[::-1]"
   ]
  },
  {
   "cell_type": "markdown",
   "metadata": {},
   "source": [
    "# 認識 Function 函式\n",
    "![Function Briefing](img/function-brief.png)\n",
    "* 使用 def 開頭, 接著一個空白, 接著函式名稱, 接著 () 符號, 同一行最後面是 : 符號\n",
    "* : 符號的下一行都要縮排; 如果再有 if 敘述式, 要記得繼續縮排\n",
    "* 最後一行通常是 return 敘述式, 如果沒有寫 return 敘述式, 預設是 return None\n",
    "* 定義 Function 完成後, 才能執行它; 定義與執行是兩件事\n",
    "* 執行 Function 後, 未必直接從畫面上觀察得到結果, 可能額外要用 print() 來看結果\n",
    "* 出現 IndentationError 的話, 代表縮排錯誤, 請用方向鍵檢查縮排字元的個數, 特別小心 Tab 鍵與空白鍵混用的狀況\n",
    "* Python 3.5 之後, 新增 [Type Hint](http://docs.python.org/3/library/typing.html) 功能, 包括可以提示函式輸入與輸出的型別"
   ]
  },
  {
   "cell_type": "code",
   "execution_count": null,
   "metadata": {},
   "outputs": [],
   "source": [
    "# say_hi 函式 第一版\n",
    "# 定義一個只會回傳 'Hi!' 的函式範例\n",
    "def say_hi():\n",
    "    return 'Hi!'"
   ]
  },
  {
   "cell_type": "code",
   "execution_count": null,
   "metadata": {},
   "outputs": [],
   "source": [
    "# 如何執行函式呢? 試試輸入函式名稱\n",
    "say_hi"
   ]
  },
  {
   "cell_type": "code",
   "execution_count": null,
   "metadata": {},
   "outputs": [],
   "source": [
    "# 執行函式的方式: 記得最後要有 ()\n",
    "say_hi()"
   ]
  },
  {
   "cell_type": "code",
   "execution_count": null,
   "metadata": {},
   "outputs": [],
   "source": [
    "# say_hi 函式 第二版\n",
    "# 需要輸入一個 name 變數的範例, 回傳結果是一個合併後的字串\n",
    "def say_hi(name):\n",
    "    return 'Hi! ' + name"
   ]
  },
  {
   "cell_type": "code",
   "execution_count": null,
   "metadata": {},
   "outputs": [],
   "source": [
    "say_hi('小明')"
   ]
  },
  {
   "cell_type": "code",
   "execution_count": null,
   "metadata": {},
   "outputs": [],
   "source": [
    "# 想一下: 沒有輸入值的話, 可以成功執行嗎?\n",
    "say_hi()"
   ]
  },
  {
   "cell_type": "code",
   "execution_count": null,
   "metadata": {},
   "outputs": [],
   "source": [
    "# say_hi 函式 第三版\n",
    "# 指定 name 變數的預設值\n",
    "def say_hi(name='my friend'):\n",
    "    return 'Hi! ' + name"
   ]
  },
  {
   "cell_type": "code",
   "execution_count": null,
   "metadata": {},
   "outputs": [],
   "source": [
    "say_hi()"
   ]
  },
  {
   "cell_type": "code",
   "execution_count": null,
   "metadata": {},
   "outputs": [],
   "source": [
    "say_hi('小花')"
   ]
  },
  {
   "cell_type": "code",
   "execution_count": null,
   "metadata": {},
   "outputs": [],
   "source": [
    "# say_hi 函式 第四版\n",
    "# 需要輸入兩個變數的範例, 回傳結果是一個 Format String\n",
    "def say_hi(name, age):\n",
    "    result = 'Hi! %s, you are %d.' % (name, age)\n",
    "    # % (name, age) 寫成 % name, age 的話, 會產生 TypeError: not enough arguments for format string\n",
    "    return result"
   ]
  },
  {
   "cell_type": "code",
   "execution_count": null,
   "metadata": {},
   "outputs": [],
   "source": [
    "say_hi('小明', 18)"
   ]
  },
  {
   "cell_type": "markdown",
   "metadata": {},
   "source": [
    "# assert Statement: 可用於 Function 測試\n",
    "* 格式: assert condition\n",
    "* 當 condition 為 True 時, 並不會有訊息, 當 condition 為 False 時, 會出現 AssertionError\n",
    "* [使用 () 要小心](https://stackoverflow.com/questions/5142418/what-is-the-use-of-assert-in-python)"
   ]
  },
  {
   "cell_type": "code",
   "execution_count": null,
   "metadata": {},
   "outputs": [],
   "source": [
    "assert say_hi('John', 40) == 'Hi! John, you are 40.'"
   ]
  },
  {
   "cell_type": "markdown",
   "metadata": {},
   "source": [
    "# CheckiO: Say Hi\n",
    "* URL: https://py.checkio.org/mission/say-history/"
   ]
  },
  {
   "cell_type": "markdown",
   "metadata": {},
   "source": [
    "# 利用 For Loop 取值\n",
    "* For 迴圈可以依序讀取 Sequence 物件的元素\n",
    "* for 語法要求有 : 符號\n",
    "* String 是一串 Character 字元的組合, 是一種 Sequence 物件"
   ]
  },
  {
   "cell_type": "code",
   "execution_count": null,
   "metadata": {},
   "outputs": [],
   "source": [
    "mystr = 'Hello Python'\n",
    "\n",
    "for i in mystr:\n",
    "    print(i)"
   ]
  },
  {
   "cell_type": "markdown",
   "metadata": {},
   "source": [
    "# if ... elif ... else Statements\n",
    "![if Statements](img/if-statements.png)\n",
    "* 注意語法的格式要求: if 最後面要有 : 冒號, 接著通常是換行並縮排 4個空白\n",
    "* 不同的縮排, 會代表不同的程式語意\n",
    "* 出現 IndentationError 代表縮排錯誤, 請用方向鍵檢查縮排字元的個數, 特別小心 Tab 鍵與空白鍵混用的狀況"
   ]
  },
  {
   "cell_type": "code",
   "execution_count": null,
   "metadata": {},
   "outputs": [],
   "source": [
    "# 查詢字串裡哪幾個是 Alphabet 英文字母, 哪幾個是 Digit 數字?\n",
    "mystr = 'Hello Python, 123!'\n",
    "\n",
    "# 利用 For Loop 逐一讀取字串元素\n",
    "for i in mystr:\n",
    "    if i.isalpha():\n",
    "        print(\"%s is an Alphabet.\" % i)\n",
    "    elif i.isdigit():\n",
    "        print(\"%s is a Digit.\" % i)\n",
    "    else:\n",
    "        pass"
   ]
  },
  {
   "cell_type": "code",
   "execution_count": null,
   "metadata": {},
   "outputs": [],
   "source": [
    "# 不建議的寫法\n",
    "score = 90\n",
    "grade = 88\n",
    "if score > 80:\n",
    "    if grade >= 70:\n",
    "        print('Good Job')"
   ]
  },
  {
   "cell_type": "code",
   "execution_count": null,
   "metadata": {},
   "outputs": [],
   "source": [
    "# 建議的寫法\n",
    "if score > 80 and grade >= 70:\n",
    "    print('Good Job')"
   ]
  },
  {
   "cell_type": "markdown",
   "metadata": {},
   "source": [
    "## 短路邏輯 Short-Circuit Logic\n",
    "https://www.facebook.com/groups/pythontw/permalink/10159260889083438\n",
    "a != 3 or a != 5 怎樣理解呢?"
   ]
  },
  {
   "cell_type": "code",
   "execution_count": null,
   "metadata": {},
   "outputs": [],
   "source": [
    "name = input('Enter Your Name: ') or '<Unknown>'\n",
    "\n",
    "# 又稱為 Lazy Evaluation"
   ]
  },
  {
   "cell_type": "markdown",
   "metadata": {},
   "source": [
    "# 解題常見的步驟與技巧\n",
    "1. 確認輸入和輸出的型別: 包括變數個數和預設值\n",
    "2. 選定適合的函式名稱: 多觀察內建函式的名稱和 Document String\n",
    "3. 選定適合的變數和起始值: 像是 result 或 n, i, s, text, lines\n",
    "4. 判斷可能合適的型別或模組: 像是 max(), sorted(), pandas\n",
    "5. 判斷哪裡要用到迴圈: 知道數量用 for 迴圈, 不知道數量用 while 迴圈\n",
    "6. 判斷哪裡要流程控制: 比較自己和別人的解法有何不同, 讀碼千遍 其義自現\n",
    "\n",
    "<pre>if text.isalnum == True:\n",
    "    等同於\n",
    "if text.isalnum:\n",
    "\n",
    "if text.isalnum == False:\n",
    "    等同於\n",
    "if not text.isalnum:\n",
    "</pre>"
   ]
  },
  {
   "cell_type": "markdown",
   "metadata": {},
   "source": [
    "# Pass Statement\n",
    "* Pass 敘述式是 Null Operation 並不會執行任何動作\n",
    "* 當程式語法需要一個空敘述時, 就適合使用 pass"
   ]
  },
  {
   "cell_type": "code",
   "execution_count": null,
   "metadata": {},
   "outputs": [],
   "source": [
    "# pass 會接續執行迴圈的下一行敘述式\n",
    "for i in mystr[:5]:\n",
    "    if i == 'l':\n",
    "        pass\n",
    "    print(i)"
   ]
  },
  {
   "cell_type": "markdown",
   "metadata": {},
   "source": [
    "# 迴圈流程控制的常見技巧\n",
    "* pass - Do Nothing, and keep on processing\n",
    "* continue - Jump to the Next Iteration of the Loop\n",
    "* break - Exit out of the Loop"
   ]
  },
  {
   "cell_type": "code",
   "execution_count": null,
   "metadata": {},
   "outputs": [],
   "source": [
    "# continue 會接續迴圈的下一個變數值\n",
    "for i in mystr[:5]:\n",
    "    if i == 'l':\n",
    "        continue\n",
    "    print(i)"
   ]
  },
  {
   "cell_type": "markdown",
   "metadata": {},
   "source": [
    "# Exercise: 累加統計\n",
    "* 計算字串裡有幾個是 Alphabet 英文字母, 有幾個是 Digit 數字?\n",
    "* Alphabet == [A-Z][a-z] ; Digit == [0-9]"
   ]
  },
  {
   "cell_type": "code",
   "execution_count": null,
   "metadata": {},
   "outputs": [],
   "source": [
    "# 要讀取的字串內容\n",
    "mystr = 'Hello Python, 123!'\n",
    "\n",
    "# 利用 total_alpha 和 total_digit 變數記錄累計結果, 起始值是 0\n",
    "total_alpha = 0\n",
    "total_digit = 0\n",
    "\n",
    "for s in mystr:\n",
    "    if s.isalpha():\n",
    "        total_alpha = total_alpha + 1\n",
    "    elif s.isdigit():\n",
    "        total_digit = total_digit + 1\n",
    "    else:\n",
    "        continue\n",
    "\n",
    "print(\"Total Alphabet Count is %d, Total Digit Count is %d.\" % total_alpha, total_digit)"
   ]
  },
  {
   "cell_type": "markdown",
   "metadata": {},
   "source": [
    "# CheckiO: Correct Sentence\n",
    "* URL: http://py.checkio.org/mission/correct-sentence\n",
    "* 提示1: 利用 text[0] 可以取得字串的第1個字元; text[-1] 可以取得字串的最後1個字元\n",
    "* 提示2: 如果 text 不是 '.' 字元結尾, 可以寫成 if not text.endswith('.'):"
   ]
  },
  {
   "cell_type": "code",
   "execution_count": null,
   "metadata": {},
   "outputs": [],
   "source": [
    "text = \"hello Python 123\"\n",
    "if not text[0].isupper():\n",
    "    print(text[0].upper()+text[1:])"
   ]
  },
  {
   "cell_type": "markdown",
   "metadata": {},
   "source": [
    "# startswith() 和 endswith() 的技巧\n",
    "* 參數可以使用 Substring 或 Tuple of String"
   ]
  },
  {
   "cell_type": "code",
   "execution_count": null,
   "metadata": {},
   "outputs": [],
   "source": [
    "\"Hi!\".startswith('Hi')"
   ]
  },
  {
   "cell_type": "code",
   "execution_count": null,
   "metadata": {},
   "outputs": [],
   "source": [
    "\"Hi!\".endswith(('.', '?', '!'))"
   ]
  },
  {
   "cell_type": "markdown",
   "metadata": {},
   "source": [
    "# capitalize() 字串方法\n",
    "* capitalize() 會讓首字成為大寫字母, 讓餘字成為小寫字母; 合適的場合可以利用這技巧快速處理問題\n",
    "* text.capitalize() 會回傳新的字串, 通常會使用變數來接新的字串"
   ]
  },
  {
   "cell_type": "code",
   "execution_count": null,
   "metadata": {},
   "outputs": [],
   "source": [
    "# capitalize() 會讓首字為大寫字母, 讓餘字為小寫字母\n",
    "\"hI!\".capitalize()"
   ]
  },
  {
   "cell_type": "markdown",
   "metadata": {},
   "source": [
    "# CheckiO: Secret Message\n",
    "* URL: https://py.checkio.org/mission/secret-message\n",
    "* 依序合併所有大寫字母: 1) 指定 result 起始值是空字串 2) 用 For 迴圈取出所有字元, 如果字元是大寫字母, 將字元併進 result 3) 回傳 result"
   ]
  },
  {
   "cell_type": "code",
   "execution_count": null,
   "metadata": {},
   "outputs": [],
   "source": [
    "# 指定 result 起始值是空字串\n",
    "result = ''\n",
    "\n",
    "# 如果字元是大寫字母, 將字元併進 result\n",
    "for i in 'Yet another Endless Sentence':\n",
    "    if i.isupper():\n",
    "        result = result + i\n",
    "        # 有人也會把上述這行寫成:\n",
    "        # result += i"
   ]
  },
  {
   "cell_type": "code",
   "execution_count": null,
   "metadata": {},
   "outputs": [],
   "source": [
    "result"
   ]
  },
  {
   "cell_type": "markdown",
   "metadata": {},
   "source": [
    "# min() max() 內建函式\n",
    "* 參數是字串時, 會回傳最小或最大的字元\n",
    "* 參數是 Sequence of Numbers 時, 會回傳最小或最大的數值"
   ]
  },
  {
   "cell_type": "code",
   "execution_count": null,
   "metadata": {},
   "outputs": [],
   "source": [
    "min('qwertyuiop')"
   ]
  },
  {
   "cell_type": "code",
   "execution_count": null,
   "metadata": {},
   "outputs": [],
   "source": [
    "max('asdfghjkl')"
   ]
  },
  {
   "cell_type": "code",
   "execution_count": null,
   "metadata": {},
   "outputs": [],
   "source": [
    "min(9, 4, -1, 5, 2, 0)"
   ]
  },
  {
   "cell_type": "markdown",
   "metadata": {},
   "source": [
    "# CheckiO: The Most Numbers\n",
    "* URL: https://py.checkio.org/mission/most-numbers\n",
    "* 最大值減最小值\n",
    "* 提示: *args 代表一串[數量不固定的變數](https://pythontips.com/2013/08/04/args-and-kwargs-in-python-explained)"
   ]
  },
  {
   "cell_type": "markdown",
   "metadata": {},
   "source": [
    "# 函式輸入變數的數量不固定\n",
    "* C 語言裡使用 argc 和 argv 參數代表輸入變數的個數和內容\n",
    "* Python 語言裡常用 \\*args 和 \\*\\*kwargs 這樣的特殊變數來處理不固定數量的變數值\n",
    "* \\*args 直接儲存變數值, \\*\\*kwargs 以 key-value 的 Dictionary 型別來儲存變數值"
   ]
  },
  {
   "cell_type": "code",
   "execution_count": null,
   "metadata": {},
   "outputs": [],
   "source": [
    "# 函式輸入要求至少1個參數\n",
    "def test_args(f_arg, *argv):\n",
    "    print(\"First Argument:\", f_arg)\n",
    "    for arg in argv:\n",
    "        print(\"Another Argument:\", arg)"
   ]
  },
  {
   "cell_type": "code",
   "execution_count": null,
   "metadata": {},
   "outputs": [],
   "source": [
    "# 沒有提供參數 會怎樣呢?\n",
    "test_args()"
   ]
  },
  {
   "cell_type": "code",
   "execution_count": null,
   "metadata": {},
   "outputs": [],
   "source": [
    "# 超過1個參數 會怎樣呢?\n",
    "test_args('Hello','Python',123)"
   ]
  },
  {
   "cell_type": "markdown",
   "metadata": {},
   "source": [
    "# Exercise: 利用 min() max() 來排序字串\n",
    "註: S.find(str) 可以找出 str 在 S 裡出現的第一個索引值\n",
    "* 利用 min() 找出最小的字元, 讓它排在最前面\n",
    "* 利用 text.find(min(text)) 找出最小字元的索引值, 切片運算讓 text 刪除最小字元\n",
    "* 利用 max() 找出最大的字元, 讓它排在最後面\n",
    "* 利用 text.find(max(text)) 找出最大字元的索引值, 切片運算讓 text 刪除最大字元\n",
    "* 利用遞迴方式 (Recursive Function) 進行剩餘 text 排序"
   ]
  },
  {
   "cell_type": "code",
   "execution_count": null,
   "metadata": {},
   "outputs": [],
   "source": [
    "def strsort(text):\n",
    "    if len(text) <= 1:\n",
    "        return text\n",
    "    elif len(text) == 2:\n",
    "        return min(text) + max(text)\n",
    "    else:\n",
    "        minch = min(text)\n",
    "        text = text[:text.find(minch)] + text[text.find(minch)+1:]\n",
    "        maxch = max(text)\n",
    "        text = text[:text.find(maxch)] + text[text.find(maxch)+1:]\n",
    "        return minch + strsort(text) + maxch"
   ]
  },
  {
   "cell_type": "code",
   "execution_count": null,
   "metadata": {},
   "outputs": [],
   "source": [
    "strsort('qwertyuiop')"
   ]
  },
  {
   "cell_type": "markdown",
   "metadata": {},
   "source": [
    "# The Digit Sum\n",
    "* [Wikipedia Description](http://en.wikipedia.org/wiki/Digit_sum)\n",
    "* Example: the digit sum of 84001 is calculated as 8+4+0+0+1 = 13\n",
    "* 提示: 數值轉成字串型別後, 可以透過 For Loop 取值"
   ]
  },
  {
   "cell_type": "code",
   "execution_count": null,
   "metadata": {},
   "outputs": [],
   "source": [
    "digits = 84001\n",
    "# 利用 total 變數來記錄累加結果, 起始值是 0\n",
    "total = 0\n",
    "for i in str(digits):\n",
    "    total = total + int(i)"
   ]
  },
  {
   "cell_type": "code",
   "execution_count": null,
   "metadata": {},
   "outputs": [],
   "source": [
    "total"
   ]
  },
  {
   "cell_type": "markdown",
   "metadata": {},
   "source": [
    "# CheckiO: Digits Multiplication\n",
    "* URL: http://py.checkio.org/mission/digits-multiplication\n",
    "* 提示: 乘積的起始值是 1"
   ]
  },
  {
   "cell_type": "markdown",
   "metadata": {},
   "source": [
    "# CheckiO: Three Words\n",
    "* URL: https://py.checkio.org/mission/three-words\n",
    "* 可使用 str.isalpha() 判斷是否為 word"
   ]
  },
  {
   "cell_type": "markdown",
   "metadata": {},
   "source": [
    "# 兩層迴圈範例: 九九乘法表\n",
    "* 範例檔案位置: sample/99.py\n",
    "* 執行方式範例: python 99.py"
   ]
  },
  {
   "cell_type": "code",
   "execution_count": null,
   "metadata": {},
   "outputs": [],
   "source": [
    "for i in range(1,10):\n",
    "    for j in range(1,10):\n",
    "        '{} x {} = {}'.format(i, j, i*j)"
   ]
  },
  {
   "cell_type": "markdown",
   "metadata": {},
   "source": [
    "# LeetCode: Two Sum\n",
    "* URL: https://leetcode.com/problems/two-sum/description\n",
    "* 範例資料 nums = [2, 7, 11, 15] , target = 9\n",
    "* 範例答案 nums[0] + nums[1] = 9 所以回傳 [0, 1]"
   ]
  },
  {
   "cell_type": "markdown",
   "metadata": {},
   "source": [
    "# 字串 find() Method\n",
    "* 格式: S.find(str, start=0, end=len(S))\n",
    "* 比對到 str 的話, 回傳第一個索引值\n",
    "* 比對不到的話, 回傳 -1\n",
    "* 如果要回傳最後一個索引值, 可以用 rfind() Method"
   ]
  },
  {
   "cell_type": "code",
   "execution_count": null,
   "metadata": {},
   "outputs": [],
   "source": [
    "'hello'.find('e')"
   ]
  },
  {
   "cell_type": "code",
   "execution_count": null,
   "metadata": {},
   "outputs": [],
   "source": [
    "'hello'.find('l')"
   ]
  },
  {
   "cell_type": "code",
   "execution_count": null,
   "metadata": {},
   "outputs": [],
   "source": [
    "'hello'.find('a')"
   ]
  },
  {
   "cell_type": "markdown",
   "metadata": {},
   "source": [
    "# CheckiO: Second Index\n",
    "* URL: https://py.checkio.org/mission/second-index\n",
    "* 解法一: 比對到一次的話, 字串分成兩段, 再比對後半段\n",
    "* 解法二: 比對到一次的話, 更換 find() start 參數"
   ]
  },
  {
   "cell_type": "markdown",
   "metadata": {},
   "source": [
    "# 字串 maketrans() Method\n",
    "* 你知道 1337 5P34X 是什麼意思嗎?\n",
    "* 提示: 一種[駭客語](https://zh.wikipedia.org/wiki/Leet)"
   ]
  },
  {
   "cell_type": "code",
   "execution_count": null,
   "metadata": {},
   "outputs": [],
   "source": [
    "in_tab = '123456780X'\n",
    "out_tab = 'LZEASGTBOK'\n",
    "trans_tab = str.maketrans(in_tab, out_tab)\n",
    "'1337 5P34X'.translate(trans_tab)"
   ]
  },
  {
   "cell_type": "markdown",
   "metadata": {},
   "source": [
    "# Exercise: PythonChallenge\n",
    "* URL: http://www.pythonchallenge.com/\n",
    "* 第0題提示: 把 2 的 38 次方, 計算結果複製貼到 URL, 把答案取代 0.html 的 0 位置\n",
    "* 第1題提示: 英文字母退2位\n",
    "* 小寫英文字母在 [ASCII](https://zh.wikipedia.org/wiki/ASCII) 編碼表裡, 編碼值是從 97 到 122, 利用編碼值加 2 方式, 也能解題"
   ]
  },
  {
   "cell_type": "code",
   "execution_count": null,
   "metadata": {},
   "outputs": [],
   "source": [
    "secret = \"g fmnc wms bgblr rpylqjyrc gr zw fylb. rfyrq ufyr amknsrcpq ypc dmp. bmgle gr gl zw fylb gq glcddgagclr ylb rfyr'q ufw rfgq rcvr gq qm jmle. sqgle qrpgle.kyicrpylq() gq pcamkkclbcb. lmu ynnjw ml rfc spj.\"\n",
    "result = ''\n",
    "\n",
    "# 下列是暴力窮舉法\n",
    "for i in secret:\n",
    "    if i == 'a':\n",
    "        result = result + 'c'\n",
    "    elif i == 'b':\n",
    "        result = result + 'd'\n",
    "    elif i == 'c':\n",
    "        result = result + 'e'\n",
    "    else:\n",
    "        result = result + i\n",
    "\n",
    "print(result)"
   ]
  },
  {
   "cell_type": "code",
   "execution_count": null,
   "metadata": {},
   "outputs": [],
   "source": [
    "# 也可以利用 ord() 和 chr() 來處理, 例 ord('a') 會回傳 a 字元的 ASCII 編碼值\n",
    "ord('a')"
   ]
  },
  {
   "cell_type": "code",
   "execution_count": null,
   "metadata": {},
   "outputs": [],
   "source": [
    "# chr() 則會回傳 ASCII 編碼值對應的字元\n",
    "chr(98)"
   ]
  },
  {
   "cell_type": "code",
   "execution_count": null,
   "metadata": {},
   "outputs": [],
   "source": [
    "secret = 'abcde'\n",
    "result = ''\n",
    "\n",
    "for i in secret:\n",
    "    result = result + chr(ord(i)+2)\n",
    "\n",
    "print(result)"
   ]
  },
  {
   "cell_type": "markdown",
   "metadata": {},
   "source": [
    "# 字串 replace() Method\n",
    "* 格式: S.replace(old, new[, count]) -> str\n",
    "* 技巧: replace() 可以接續使用"
   ]
  },
  {
   "cell_type": "code",
   "execution_count": null,
   "metadata": {},
   "outputs": [],
   "source": [
    "'***10*.00****'.replace('*', ' ')"
   ]
  },
  {
   "cell_type": "code",
   "execution_count": null,
   "metadata": {},
   "outputs": [],
   "source": [
    "'greetings, friends.'.replace(',', ' ')"
   ]
  },
  {
   "cell_type": "code",
   "execution_count": null,
   "metadata": {},
   "outputs": [],
   "source": [
    "'... and so on ...'.replace('.', ' ')"
   ]
  },
  {
   "cell_type": "markdown",
   "metadata": {},
   "source": [
    "# 字串 strip() Method\n",
    "* 格式: S.strip([chars]) -> str\n",
    "* 技巧: strip() 常用來清除 WhiteSpace, 但 word 之間的 WhiteSpace 不被影響, 也就是針對 \"非 WhiteSpace\" 的前後來清除"
   ]
  },
  {
   "cell_type": "code",
   "execution_count": null,
   "metadata": {},
   "outputs": [],
   "source": [
    "'***10*.00****'.strip('*')"
   ]
  },
  {
   "cell_type": "code",
   "execution_count": null,
   "metadata": {},
   "outputs": [],
   "source": [
    "# WhiteSpace 包括 \\t \\n \\r 等\n",
    "'    and  so on \\t\\n\\r'.strip()"
   ]
  },
  {
   "cell_type": "markdown",
   "metadata": {},
   "source": [
    "# 利用 split() Method 分開字串\n",
    "* 格式: str.split(sep=None, maxsplit=-1)\n",
    "* 回傳值是 List of Strings, 稍後會介紹 List 型別\n",
    "* 另有(http://docs.python.org/3/library/stdtypes.html#string-methods)"
   ]
  },
  {
   "cell_type": "code",
   "execution_count": null,
   "metadata": {},
   "outputs": [],
   "source": [
    "# 使用 ' ' 空白字元當 delimiter 分隔參數\n",
    "# 對於英文, 這是最簡化的 Word Segmentation (單字分詞)\n",
    "mystr.split(' ')"
   ]
  },
  {
   "cell_type": "code",
   "execution_count": null,
   "metadata": {},
   "outputs": [],
   "source": [
    "# 如果不指定分隔參數, 會自動判斷 WhiteSpace 來分隔\n",
    "words = ' Hello Python:\\tan  easy-to-learn language. '"
   ]
  },
  {
   "cell_type": "code",
   "execution_count": null,
   "metadata": {},
   "outputs": [],
   "source": [
    "# WhiteSpace 包括: 空白, Tab (\\t), 換行 (\\n \\r), Line Separator (\\u2028), Paragraph Separator (\\u2029)\n",
    "words.split()"
   ]
  },
  {
   "cell_type": "code",
   "execution_count": null,
   "metadata": {},
   "outputs": [],
   "source": [
    "# 透過 maxsplit 參數值, 可以指定回傳值的數量\n",
    "words.split(maxsplit=1)"
   ]
  },
  {
   "cell_type": "code",
   "execution_count": null,
   "metadata": {},
   "outputs": [],
   "source": [
    "# 變數 lines 是 Triple Quote String 建立的字串資料, 共3行\n",
    "lines = \"\"\"This is Line One.\n",
    "Line Two Here.\n",
    "Line Number is 3.\"\"\""
   ]
  },
  {
   "cell_type": "code",
   "execution_count": null,
   "metadata": {},
   "outputs": [],
   "source": [
    "# 使用 '\\n' 換行符號為分隔參數, 回傳值是每一行的字串\n",
    "lines.split('\\n')"
   ]
  },
  {
   "cell_type": "markdown",
   "metadata": {},
   "source": [
    "# 利用 join() Method 結合字串"
   ]
  },
  {
   "cell_type": "code",
   "execution_count": null,
   "metadata": {},
   "outputs": [],
   "source": [
    "'-'.join((str1, str2))\n",
    "\n",
    "# https://stackoverflow.com/questions/493819/python-join-why-is-it-string-joinlist-instead-of-list-joinstring\n",
    "print('\\n#####\\n'.join(mystr.split()))"
   ]
  },
  {
   "cell_type": "markdown",
   "metadata": {},
   "source": [
    "# CheckiO: First Word\n",
    "* URL: http://py.checkio.org/mission/first-word\n",
    "* 找出第一個英文字詞: 1) 把輸入值的 , . 字元換成空白 2) 符合 isalnum() 3) 處理例外 ' 字元\n",
    "* 技巧: split() 可以依 WhiteSpace 符號來拆分 word 並回傳 List of Strings, 稍後會詳細介紹"
   ]
  },
  {
   "cell_type": "code",
   "execution_count": null,
   "metadata": {},
   "outputs": [],
   "source": [
    "'greetings, friends. ... and so on ...'.replace(',', ' ').replace('.', ' ').strip().split()"
   ]
  },
  {
   "cell_type": "code",
   "execution_count": null,
   "metadata": {},
   "outputs": [],
   "source": [
    "# 猜看看, 上述運算式少了 strip() 的話, 結果會一樣嗎?\n",
    "'greetings, friends. ... and so on ...'.replace(',', ' ').replace('.', ' ').split()"
   ]
  },
  {
   "cell_type": "markdown",
   "metadata": {},
   "source": [
    "# import Statement\n",
    "* 載入模組的指令, 至少有三種形式"
   ]
  },
  {
   "cell_type": "code",
   "execution_count": null,
   "metadata": {},
   "outputs": [],
   "source": [
    "# 第一種形式\n",
    "import math\n",
    "math.sqrt(16)"
   ]
  },
  {
   "cell_type": "code",
   "execution_count": null,
   "metadata": {},
   "outputs": [],
   "source": [
    "# 第二種形式\n",
    "from math import sqrt\n",
    "sqrt(16)"
   ]
  },
  {
   "cell_type": "code",
   "execution_count": null,
   "metadata": {},
   "outputs": [],
   "source": [
    "# 第三種形式\n",
    "from math import sqrt as masq\n",
    "masq(16)"
   ]
  },
  {
   "cell_type": "markdown",
   "metadata": {},
   "source": [
    "# datetime 模組\n",
    "* 參考影片 https://www.youtube.com/watch?v=Zs9u8TAv4_k"
   ]
  },
  {
   "cell_type": "code",
   "execution_count": null,
   "metadata": {},
   "outputs": [],
   "source": [
    "import datetime"
   ]
  },
  {
   "cell_type": "code",
   "execution_count": null,
   "metadata": {},
   "outputs": [],
   "source": [
    "# now() 會回傳現在的時間資訊\n",
    "now = datetime.datetime.now()"
   ]
  },
  {
   "cell_type": "code",
   "execution_count": null,
   "metadata": {},
   "outputs": [],
   "source": [
    "# year 是 descriptor 或稱為 屬性, 執行時不需要寫成 now.year()\n",
    "this_year = now.year"
   ]
  },
  {
   "cell_type": "code",
   "execution_count": null,
   "metadata": {},
   "outputs": [],
   "source": [
    "# month 也是 descriptor\n",
    "this_month = now.month"
   ]
  },
  {
   "cell_type": "code",
   "execution_count": null,
   "metadata": {},
   "outputs": [],
   "source": [
    "# strftime() 可以產生格式化時間字串\n",
    "now.strftime(\"%Y-%m-%d %H:%M\")"
   ]
  },
  {
   "cell_type": "markdown",
   "metadata": {},
   "source": [
    "# Exercise: 改寫 Birth Year 範例\n",
    "* 提示: 利用 now.year 代入今年的變數值"
   ]
  },
  {
   "cell_type": "code",
   "execution_count": null,
   "metadata": {},
   "outputs": [],
   "source": [
    "age = 18\n",
    "# Hint: current_year = now.year\n",
    "birth_year = current_year - age\n",
    "\n",
    "print(\"Your Birth Year is %d.\" % birth_year)"
   ]
  },
  {
   "cell_type": "markdown",
   "metadata": {},
   "source": [
    "# random 模組: 產生亂數\n",
    "* 範例格式1: randint(a, b) , 回傳亂數 N, a <= N <= b\n",
    "* 範例格式2: choice(seq) , 回傳 seq 裡的某一個 Element"
   ]
  },
  {
   "cell_type": "code",
   "execution_count": null,
   "metadata": {},
   "outputs": [],
   "source": [
    "import random"
   ]
  },
  {
   "cell_type": "code",
   "execution_count": null,
   "metadata": {},
   "outputs": [],
   "source": [
    "# 隨機從 0 到 10 產生一個整數值\n",
    "random.randint(0, 10)"
   ]
  },
  {
   "cell_type": "markdown",
   "metadata": {},
   "source": [
    "# Exercise: 剪刀石頭布 遊戲\n",
    "* 範例檔案位置: sample/guess.py 檔案"
   ]
  },
  {
   "cell_type": "markdown",
   "metadata": {
    "collapsed": true
   },
   "source": [
    "<pre>import random\n",
    "\n",
    "rps = ['Rock', 'Paper', 'Scissors']\n",
    "# randint() 會隨機產生整數值\n",
    "rnd = random.randint(0,2)\n",
    "print(rps[rnd])</pre>"
   ]
  },
  {
   "cell_type": "markdown",
   "metadata": {},
   "source": [
    "# eval() 內建函式\n",
    "* 功能: 把字串轉成指令來執行\n",
    "* 用途: 可以讓使用者輸入 scriptlet 調整小功能"
   ]
  },
  {
   "cell_type": "code",
   "execution_count": null,
   "metadata": {},
   "outputs": [],
   "source": [
    "eval('6*3')"
   ]
  },
  {
   "cell_type": "markdown",
   "metadata": {},
   "source": [
    "# In-Place Operators"
   ]
  },
  {
   "cell_type": "code",
   "execution_count": null,
   "metadata": {},
   "outputs": [],
   "source": [
    "# mynum = mynum + 5 , Want a More Concise Statement? Try ' mynum += 5 '\n"
   ]
  },
  {
   "cell_type": "code",
   "execution_count": null,
   "metadata": {},
   "outputs": [],
   "source": [
    "# Many other languages have special operators such as '++' as a shortcut for ' mynum += 1 '.\n",
    "# Python does not have these.\n",
    "mynum ++"
   ]
  },
  {
   "cell_type": "code",
   "execution_count": null,
   "metadata": {},
   "outputs": [],
   "source": [
    "# Try and See If In-Place Operators Work for Strings\n",
    "mystr += '!'"
   ]
  },
  {
   "cell_type": "markdown",
   "metadata": {},
   "source": [
    "# 利用內建函式 dir() 查詢細節\n",
    "* 查詢物件細節的重要工具"
   ]
  },
  {
   "cell_type": "code",
   "execution_count": null,
   "metadata": {},
   "outputs": [],
   "source": [
    "# 接參數時 會回傳物件的所有屬性值\n",
    "dir(mypi)"
   ]
  },
  {
   "cell_type": "code",
   "execution_count": null,
   "metadata": {},
   "outputs": [],
   "source": [
    "# 不接參數的話 會回傳 local scope 的名稱清單\n",
    "dir()"
   ]
  },
  {
   "cell_type": "markdown",
   "metadata": {},
   "source": [
    "# 利用內建函式 help() 查詢說明\n",
    "* 直譯器環境的重要工具\n",
    "* 可以查詢 Keywords, Symbols\n",
    "* 輸入 quit 可以離開 help() 互動環境"
   ]
  },
  {
   "cell_type": "code",
   "execution_count": null,
   "metadata": {},
   "outputs": [],
   "source": [
    "help()\n",
    "\n",
    "# 接著輸入 modules 或 keywords 或 topics 來查詢說明內容"
   ]
  },
  {
   "cell_type": "code",
   "execution_count": null,
   "metadata": {},
   "outputs": [],
   "source": [
    "help(mypi.is_integer)"
   ]
  },
  {
   "cell_type": "markdown",
   "metadata": {},
   "source": [
    "# import keyword\n",
    "* 利用 kwlist 來顯示所有關鍵字"
   ]
  },
  {
   "cell_type": "code",
   "execution_count": null,
   "metadata": {},
   "outputs": [],
   "source": [
    "import keyword\n",
    "\n",
    "keyword.kwlist"
   ]
  },
  {
   "cell_type": "markdown",
   "metadata": {},
   "source": [
    "## 使用雙底線符號 ```__``` 的函式是 Special Attribute\n",
    "日後會再詳細介紹, 暫時知道它是特殊用法就夠了"
   ]
  },
  {
   "cell_type": "code",
   "execution_count": null,
   "metadata": {},
   "outputs": [],
   "source": [
    "mypi.__add__(3)\n",
    "# 與 mypi + 3 同義"
   ]
  },
  {
   "cell_type": "markdown",
   "metadata": {},
   "source": [
    "### IPython 特有功能: 查詢變數"
   ]
  },
  {
   "cell_type": "code",
   "execution_count": null,
   "metadata": {},
   "outputs": [],
   "source": [
    "# 試試執行 ?mynum\n"
   ]
  },
  {
   "cell_type": "markdown",
   "metadata": {},
   "source": [
    "### IPython 操作技巧: Tab Completion"
   ]
  },
  {
   "cell_type": "code",
   "execution_count": null,
   "metadata": {},
   "outputs": [],
   "source": [
    "# 試試輸入 mynum. 在 . 符號後面按 Tab 是否發現出現新選單\n"
   ]
  },
  {
   "cell_type": "markdown",
   "metadata": {},
   "source": [
    "# List 串列型別\n",
    "* 利用 [ ] 符號可以建立 List 串列, 是一種 Mutable 型別\n",
    "* Element 元素 可以是各式型別\n",
    "* Mutable 代表物件元素改變了, 但仍使用同一個記憶體位置"
   ]
  },
  {
   "cell_type": "markdown",
   "metadata": {
    "collapsed": true
   },
   "source": [
    "## 建立 List"
   ]
  },
  {
   "cell_type": "code",
   "execution_count": null,
   "metadata": {},
   "outputs": [],
   "source": [
    "# Create an Empty List\n",
    "mylist = []"
   ]
  },
  {
   "cell_type": "code",
   "execution_count": null,
   "metadata": {},
   "outputs": [],
   "source": [
    "# 如果 mylist 是空串列, mylist[0] 會產生錯誤嗎?\n",
    "mylist[0]"
   ]
  },
  {
   "cell_type": "code",
   "execution_count": null,
   "metadata": {},
   "outputs": [],
   "source": [
    "# Create a List of 3 Elements\n",
    "mylist = [1, 2, 3]"
   ]
  },
  {
   "cell_type": "markdown",
   "metadata": {},
   "source": [
    "## 練習把字串學到的技巧全套在串列上"
   ]
  },
  {
   "cell_type": "code",
   "execution_count": null,
   "metadata": {},
   "outputs": [],
   "source": [
    "mylist * 2"
   ]
  },
  {
   "cell_type": "code",
   "execution_count": null,
   "metadata": {},
   "outputs": [],
   "source": [
    "len(mylist)"
   ]
  },
  {
   "cell_type": "code",
   "execution_count": null,
   "metadata": {},
   "outputs": [],
   "source": [
    "mylist[0]"
   ]
  },
  {
   "cell_type": "code",
   "execution_count": null,
   "metadata": {},
   "outputs": [],
   "source": [
    "mylist[1:3]"
   ]
  },
  {
   "cell_type": "code",
   "execution_count": null,
   "metadata": {},
   "outputs": [],
   "source": [
    "dir(mylist)"
   ]
  },
  {
   "cell_type": "markdown",
   "metadata": {},
   "source": [
    "# List 新增元素或更新元素值的方法\n",
    "* 利用 append() 把 Element 加到 List 最後面\n",
    "* 利用 insert() 把 Element 加到指定的 index 前面"
   ]
  },
  {
   "cell_type": "code",
   "execution_count": null,
   "metadata": {},
   "outputs": [],
   "source": [
    "# 把 mystr 變數值加到 mylist 最後面\n",
    "mylist.append(mystr)"
   ]
  },
  {
   "cell_type": "code",
   "execution_count": null,
   "metadata": {},
   "outputs": [],
   "source": [
    "mylist"
   ]
  },
  {
   "cell_type": "code",
   "execution_count": null,
   "metadata": {},
   "outputs": [],
   "source": [
    "# 把元素值 2.5 加到索引值 2 前面\n",
    "mylist.insert(2, 2.5)"
   ]
  },
  {
   "cell_type": "code",
   "execution_count": null,
   "metadata": {},
   "outputs": [],
   "source": [
    "mylist"
   ]
  },
  {
   "cell_type": "code",
   "execution_count": null,
   "metadata": {},
   "outputs": [],
   "source": [
    "# 指定索引值 0 的元素值為 1.0\n",
    "mylist[0] = 1.0"
   ]
  },
  {
   "cell_type": "code",
   "execution_count": null,
   "metadata": {},
   "outputs": [],
   "source": [
    "# 指定索引值 1 到 2 (切片運算) 的元素值為 2.0 和 2.2\n",
    "mylist[1:3] = [2.0, 2.2]"
   ]
  },
  {
   "cell_type": "code",
   "execution_count": null,
   "metadata": {},
   "outputs": [],
   "source": [
    "mylist"
   ]
  },
  {
   "cell_type": "markdown",
   "metadata": {},
   "source": [
    "# 利用 range() 建立數值串列\n",
    "* 格式: range([start], stop[, step])\n",
    "* Python 3 的 range() 效果跟 List of Number 一樣, 但底層技術不同"
   ]
  },
  {
   "cell_type": "code",
   "execution_count": null,
   "metadata": {},
   "outputs": [],
   "source": [
    "# 單獨執行 range() 會回傳 range 型別, 而不是 List\n",
    "range(5)"
   ]
  },
  {
   "cell_type": "code",
   "execution_count": null,
   "metadata": {},
   "outputs": [],
   "source": [
    "# 想要具體顯示 range 內容, 可以用 list() 來轉換\n",
    "list(range(5))"
   ]
  },
  {
   "cell_type": "code",
   "execution_count": null,
   "metadata": {},
   "outputs": [],
   "source": [
    "# Try using a for loop to print out each element of the range object\n",
    "for i in range(5):\n",
    "    print(i)"
   ]
  },
  {
   "cell_type": "code",
   "execution_count": null,
   "metadata": {},
   "outputs": [],
   "source": [
    "for i in range(len(mystr)):\n",
    "    print(mystr[i])"
   ]
  },
  {
   "cell_type": "markdown",
   "metadata": {},
   "source": [
    "## 了解 append() 與 extend() 的不同"
   ]
  },
  {
   "cell_type": "code",
   "execution_count": null,
   "metadata": {},
   "outputs": [],
   "source": [
    "alist = [4, 5, 6]"
   ]
  },
  {
   "cell_type": "code",
   "execution_count": null,
   "metadata": {},
   "outputs": [],
   "source": [
    "mylist.append(alist)"
   ]
  },
  {
   "cell_type": "code",
   "execution_count": null,
   "metadata": {},
   "outputs": [],
   "source": [
    "# 顯示執行 append() 後的結果\n",
    "mylist"
   ]
  },
  {
   "cell_type": "code",
   "execution_count": null,
   "metadata": {},
   "outputs": [],
   "source": [
    "mylist.extend(alist)"
   ]
  },
  {
   "cell_type": "code",
   "execution_count": null,
   "metadata": {},
   "outputs": [],
   "source": [
    "# 執行 extend() 後的結果\n",
    "mylist"
   ]
  },
  {
   "cell_type": "markdown",
   "metadata": {},
   "source": [
    "## 利用 reverse() 迴轉元素順序"
   ]
  },
  {
   "cell_type": "code",
   "execution_count": null,
   "metadata": {},
   "outputs": [],
   "source": [
    "alist.reverse()\n",
    "\n",
    "# 顯示執行 reverse() 後的結果\n",
    "alist"
   ]
  },
  {
   "cell_type": "markdown",
   "metadata": {},
   "source": [
    "# LeetCode: Reverse Integer\n",
    "* URL: https://leetcode.com/problems/reverse-integer\n",
    "* 範例資料: -123\n",
    "* 範例答案: -321"
   ]
  },
  {
   "cell_type": "code",
   "execution_count": null,
   "metadata": {},
   "outputs": [],
   "source": [
    "def reverse(x):\n",
    "    \"\"\"\n",
    "       :type x: int\n",
    "        :rtype: int\n",
    "    \"\"\"\n",
    "    if x >= 2**31-1 or x <= -2**31: return 0\n",
    "    else:\n",
    "        strg = str(x)\n",
    "        if x >= 0 :\n",
    "            revst = strg[::-1]\n",
    "        else:\n",
    "            temp = strg[1:] \n",
    "            temp2 = temp[::-1] \n",
    "            revst = \"-\" + temp2\n",
    "        if int(revst) >= 2**31-1 or int(revst) <= -2**31: return 0\n",
    "        else: return int(revst)"
   ]
  },
  {
   "cell_type": "markdown",
   "metadata": {},
   "source": [
    "# Exercise: 十進位數字的 Binary Equivalent\n",
    "* 自行撰寫 dec2bin() 函式來實作數字轉換\n",
    "* 可以利用 %2 計算餘數, 逐一將餘數併進空串列, 迴轉串列元素順序\n",
    "* 有[許多](https://www.sanfoundry.com/python-program-binary-equivalent-number-without-recursion/)[方法](https://stackoverflow.com/questions/699866/python-int-to-binary)能將十進位數字轉換成二進位數字, 例如 bin(8) "
   ]
  },
  {
   "cell_type": "code",
   "execution_count": null,
   "metadata": {},
   "outputs": [],
   "source": [
    "def dec2bin(num):\n",
    "    result = []\n",
    "    # divmod(num, 2) 會回傳 (num // 2, num % 2)\n",
    "    while num != 0:\n",
    "        num, rmdr = divmod(num, 2)\n",
    "        # 把 rmdr 併進 result\n",
    "    return result"
   ]
  },
  {
   "cell_type": "markdown",
   "metadata": {},
   "source": [
    "# Tuple 值組型別\n",
    "* 利用 ( ) 符號可以建立 Tuple 值組, Tuple 和 List 功能相近, 同樣支援 index(), count() 之類的內建函式\n",
    "* Tuple 和 List 的差異在於 Tuple 是 Immutalbe 型別, 這項特性讓 Tuple: 1) 可以成為 Dictionary 的 Key 2) 透過 assignment 就能 copy\n",
    "* 當資料量龐大時, Tuple 執行效能比 List 好"
   ]
  },
  {
   "cell_type": "code",
   "execution_count": null,
   "metadata": {},
   "outputs": [],
   "source": [
    "# 建立空的 Tuple\n",
    "mytpl = ()"
   ]
  },
  {
   "cell_type": "code",
   "execution_count": null,
   "metadata": {},
   "outputs": [],
   "source": [
    "# 建立三個元素的 Tuple\n",
    "mytpl = (1, 2, 3)"
   ]
  },
  {
   "cell_type": "code",
   "execution_count": null,
   "metadata": {},
   "outputs": [],
   "source": [
    "# 如果少了 () 符號, 還是可以建立 Tuple\n",
    "mytpl = 1, 2, 3"
   ]
  },
  {
   "cell_type": "code",
   "execution_count": null,
   "metadata": {},
   "outputs": [],
   "source": [
    "# 建立一個元素的 Tuple 記得要元素最後加逗號\n",
    "singleton = (1,)"
   ]
  },
  {
   "cell_type": "code",
   "execution_count": null,
   "metadata": {},
   "outputs": [],
   "source": [
    "# 因為 Tuple 是 Immutable 型別, 更新元素內容可能會遇到錯誤\n",
    "singleton[0] = 3"
   ]
  },
  {
   "cell_type": "code",
   "execution_count": null,
   "metadata": {},
   "outputs": [],
   "source": [
    "# Tuple Unpacking 或稱為 Mutiple-Variable Assignment\n",
    "x, y, z = 1, 2, 3"
   ]
  },
  {
   "cell_type": "markdown",
   "metadata": {},
   "source": [
    "# 利用 Tuple 執行 Swap 運算"
   ]
  },
  {
   "cell_type": "code",
   "execution_count": null,
   "metadata": {},
   "outputs": [],
   "source": [
    "a = 2\n",
    "b = 5\n",
    "a, b = b, a"
   ]
  },
  {
   "cell_type": "code",
   "execution_count": null,
   "metadata": {},
   "outputs": [],
   "source": [
    "print('a =', a)\n",
    "print('b =', b)"
   ]
  },
  {
   "cell_type": "code",
   "execution_count": null,
   "metadata": {},
   "outputs": [],
   "source": [
    "x = 2\n",
    "y = 5\n",
    "z = 8\n",
    "x, y, z = y, z, x\n",
    "print('x =', x)\n",
    "print('y =', y)\n",
    "print('z =', z)"
   ]
  },
  {
   "cell_type": "markdown",
   "metadata": {},
   "source": [
    "# 利用 zip() 合併或拆分\n",
    "* 接受 Iterator 為參數, 將對應的元素打包成 Tuple 再傳回由這些 Tuple 組成的 List\n",
    "* 利用 * 符號可以將 List 反向拆分"
   ]
  },
  {
   "cell_type": "code",
   "execution_count": null,
   "metadata": {},
   "outputs": [],
   "source": [
    "l1 = [1, 2, 3]\n",
    "l2 = [4, 5, 6]\n",
    "l3 = ['a', 'b', 'c', 'd', 'e']"
   ]
  },
  {
   "cell_type": "code",
   "execution_count": null,
   "metadata": {},
   "outputs": [],
   "source": [
    "l12 = zip(l1, l2)"
   ]
  },
  {
   "cell_type": "code",
   "execution_count": null,
   "metadata": {},
   "outputs": [],
   "source": [
    "l13 = zip(l1, l3)"
   ]
  },
  {
   "cell_type": "code",
   "execution_count": null,
   "metadata": {},
   "outputs": [],
   "source": [
    "# Unzip\n",
    "zip(*l13)"
   ]
  },
  {
   "cell_type": "code",
   "execution_count": null,
   "metadata": {},
   "outputs": [],
   "source": [
    "# Unzip with Tuple\n",
    "idx, val = zip(*l13)\n",
    "print(idx, val)"
   ]
  },
  {
   "cell_type": "markdown",
   "metadata": {},
   "source": [
    "# Exercise: 串列元素的運算\n",
    "* 可利用 zip() 函式來處理串列元素的合併, 可利用 List Comprehension 來簡化運算\n",
    "* 參考資訊: 使用 [NumPy](https://medium.com/better-programming/numpy-illustrated-the-visual-guide-to-numpy-3b1d4976de1d) 可以直接完成這樣的運算需求"
   ]
  },
  {
   "cell_type": "code",
   "execution_count": null,
   "metadata": {},
   "outputs": [],
   "source": [
    "L1 = [1, 2, 3]\n",
    "L2 = [4, 5, 6]\n",
    "# 讓 L1 與 L2 元素各別相加, 得到結果是 [1+4, 2+5, 3+6]\n"
   ]
  },
  {
   "cell_type": "markdown",
   "metadata": {},
   "source": [
    "# Dictionary 字典型別\n",
    "* 利用 { } 符號可以建立 Dictionary 字典, 是一種 Mutable 型別\n",
    "* 元素由 Key (鍵) 與 Value (值) 組合成, 元素之間使用 , 逗號隔開\n",
    "* Key 是獨一無二, 不重覆的; 重覆的話, 代表後面的 Key 會覆蓋前面的 Value\n",
    "* 元素的儲存順序並不固定\n",
    "* 延伸閱讀: Dictionary 的格式和 [JSON](https://docs.python-guide.org/scenarios/json) 有些類似, 兩者經常被拿來比較, 但 JSON 是一種字串資料格式, 即使兩者有時可以轉換, 但本質和 Dictionary 不同"
   ]
  },
  {
   "cell_type": "code",
   "execution_count": null,
   "metadata": {},
   "outputs": [],
   "source": [
    "# 建立空字典\n",
    "mydict = {}"
   ]
  },
  {
   "cell_type": "code",
   "execution_count": null,
   "metadata": {},
   "outputs": [],
   "source": [
    "# Key 與 Value 之間使用 : 冒號\n",
    "mydict = {'name': 'John', 'age': 40, 'play': 'guitar'}"
   ]
  },
  {
   "cell_type": "code",
   "execution_count": null,
   "metadata": {},
   "outputs": [],
   "source": [
    "# 換行排版通常能增加可讀性\n",
    "# 以下的結果和上述範例意義完全一樣\n",
    "mydict = {\n",
    "    'name': 'John',\n",
    "    'age': 40,\n",
    "    'play': 'guitar'\n",
    "}"
   ]
  },
  {
   "cell_type": "code",
   "execution_count": null,
   "metadata": {},
   "outputs": [],
   "source": [
    "# 確認一下: 顯示順序跟定義順序一樣嗎?\n",
    "mydict"
   ]
  },
  {
   "cell_type": "code",
   "execution_count": null,
   "metadata": {},
   "outputs": [],
   "source": [
    "# 另一種定義方法: 利用 dict()\n",
    "mydict = dict()"
   ]
  },
  {
   "cell_type": "code",
   "execution_count": null,
   "metadata": {},
   "outputs": [],
   "source": [
    "# dict() 可以輸入 List of Tuples 作為參數\n",
    "mydict = dict([('name', 'John'), ('age', 40), ('play', 'guitar')])"
   ]
  },
  {
   "cell_type": "code",
   "execution_count": null,
   "metadata": {},
   "outputs": [],
   "source": [
    "# 透過 Key 取得 Value\n",
    "mydict['name']"
   ]
  },
  {
   "cell_type": "code",
   "execution_count": null,
   "metadata": {},
   "outputs": [],
   "source": [
    "# 新增元素: 如果 Key 值不存在, 則會新增元素\n",
    "mydict['from'] = 'Liverpool'"
   ]
  },
  {
   "cell_type": "code",
   "execution_count": null,
   "metadata": {},
   "outputs": [],
   "source": [
    "# 更改元素: 如果 Key 值存在, 則會更新元素值\n",
    "mydict['from'] = 'New York'"
   ]
  },
  {
   "cell_type": "code",
   "execution_count": null,
   "metadata": {},
   "outputs": [],
   "source": [
    "mydict"
   ]
  },
  {
   "cell_type": "markdown",
   "metadata": {},
   "source": [
    "## 利用 get() 取得字典的值\n",
    "* get() 需要輸入 Key 當作參數值"
   ]
  },
  {
   "cell_type": "code",
   "execution_count": null,
   "metadata": {},
   "outputs": [],
   "source": [
    "# Key 存在的話, 會回傳對應的 Value\n",
    "mydict.get('name')\n",
    "# 這個例子與 mydict['name'] 功能一樣"
   ]
  },
  {
   "cell_type": "code",
   "execution_count": null,
   "metadata": {},
   "outputs": [],
   "source": [
    "# Key 不存在的話, 會回傳 NoneType\n",
    "mydict.get('addr')"
   ]
  },
  {
   "cell_type": "code",
   "execution_count": null,
   "metadata": {},
   "outputs": [],
   "source": [
    "# Key 不存在的話, 可以指定預設回傳值\n",
    "mydict.get('addr', 'Not Found')"
   ]
  },
  {
   "cell_type": "markdown",
   "metadata": {},
   "source": [
    "## 利用 keys() 和 values() 取得字典的鍵與值\n",
    "* keys() 會回傳 dict_keys 型別, 是一種 [View 物件](http://docs.python.org/3/whatsnew/3.0.html#views-and-iterators-instead-of-lists)\n",
    "* values() 會回傳 dict_values 型別, 是一種 View 物件\n",
    "* items() 會回傳 dict_items 型別, 類似 List of Tuple 的功能"
   ]
  },
  {
   "cell_type": "code",
   "execution_count": null,
   "metadata": {},
   "outputs": [],
   "source": [
    "# dict_keys 型別可以利用 list() 轉換成 List 顯示\n",
    "mydict.keys()"
   ]
  },
  {
   "cell_type": "code",
   "execution_count": null,
   "metadata": {},
   "outputs": [],
   "source": [
    "list(mydict.keys())"
   ]
  },
  {
   "cell_type": "code",
   "execution_count": null,
   "metadata": {},
   "outputs": [],
   "source": [
    "mydict.values()"
   ]
  },
  {
   "cell_type": "code",
   "execution_count": null,
   "metadata": {},
   "outputs": [],
   "source": [
    "# List of Tuple 長成怎樣子呢?\n",
    "mydict.items()"
   ]
  },
  {
   "cell_type": "markdown",
   "metadata": {},
   "source": [
    "# CheckiO: Best Stock\n",
    "* URL: https://py.checkio.org/mission/best-stock\n",
    "* 假設每備股價都不同\n",
    "* 找出最高的股價: 1) 指定 best 變數來記錄最高值 2) 利用迴圈找出最大元素值 3) 利用迴圈找出最大值的公司代碼"
   ]
  },
  {
   "cell_type": "code",
   "execution_count": null,
   "metadata": {},
   "outputs": [],
   "source": [
    "# 第一種方式: 第一個迴圈找出股價最高值, 第二個迴圈找出公司代碼\n",
    "data = {'CAC': 10.0, 'ATX': 390.2, 'WIG': 1.2}\n",
    "\n",
    "# 指定 best 變數起始值為 0\n",
    "best = 0\n",
    "\n",
    "# 利用迴圈找出股價最高值\n",
    "for v in data.values():\n",
    "    if v > best:\n",
    "        best = v\n",
    "\n",
    "# 利用迴圈找出股價最高值的公司代碼\n",
    "for k in data.keys():\n",
    "    if data[k] == best:\n",
    "        print(k)"
   ]
  },
  {
   "cell_type": "code",
   "execution_count": null,
   "metadata": {},
   "outputs": [],
   "source": [
    "# 第二種方式: 用 sorted() 找出股價最高值, 再用迴圈找出公司代碼\n",
    "best = sorted(data.values())[-1]"
   ]
  },
  {
   "cell_type": "code",
   "execution_count": null,
   "metadata": {},
   "outputs": [],
   "source": [
    "# 第三種方式: 先用 Tuple Unpacking 再 Tuple Packing\n",
    "best = 0\n",
    "result = ''\n",
    "for k, v in data.items():\n",
    "    if v > best:\n",
    "        result, best = k, v\n",
    "\n",
    "print(result)"
   ]
  },
  {
   "cell_type": "code",
   "execution_count": null,
   "metadata": {},
   "outputs": [],
   "source": [
    "# Tuple 的簡化版本: 當 Value 是最大值時, 回傳 Key\n",
    "for k, v in data.items():\n",
    "    if v == sorted(data.values())[-1]:\n",
    "        print(k)"
   ]
  },
  {
   "cell_type": "code",
   "execution_count": null,
   "metadata": {},
   "outputs": [],
   "source": [
    "# 第四種方式: 使用 sorted() key 參數的方式\n",
    "sorted(data, key=data.__getitem__)[-1]"
   ]
  },
  {
   "cell_type": "code",
   "execution_count": null,
   "metadata": {},
   "outputs": [],
   "source": [
    "# 透過範例資料來驗證\n",
    "adict = {'CAC': 10.0, 'ATX': 390.2, 'WIG': 1.2}\n",
    "sorted(adict, key=adict.__getitem__)"
   ]
  },
  {
   "cell_type": "markdown",
   "metadata": {},
   "source": [
    "# CheckiO: Popular Words\n",
    "* URL: https://py.checkio.org/mission/popular-words\n",
    "* 找出文章裡特定字詞的出現次數: 1) 指定 result 變數起始值 {} 2) 迴圈讀取 words 利用 count() 計算出現次數 3) 字串與次數併回 result\n",
    "* 提示: 利用 help(str.count) 查詢 count() 格式"
   ]
  },
  {
   "cell_type": "code",
   "execution_count": null,
   "metadata": {},
   "outputs": [],
   "source": [
    "# 先熟悉 str.count() 用法\n",
    "'when i was one, i was nearly new.'.count('was')"
   ]
  },
  {
   "cell_type": "code",
   "execution_count": null,
   "metadata": {},
   "outputs": [],
   "source": [
    "text = '''When I was One,\n",
    "I had just begun.\n",
    "When I was Two,\n",
    "I was nearly new.'''\n",
    "words = ['i', 'was', 'three']\n",
    "\n",
    "# 指定 result 變數起始值\n",
    "result = {}\n",
    "\n",
    "for word in words:\n",
    "    result[word] = text.count(word)\n",
    "\n",
    "print(result)"
   ]
  },
  {
   "cell_type": "markdown",
   "metadata": {},
   "source": [
    "# CheckiO: Non-unique Elements\n",
    "* URL: http://py.checkio.org/mission/non-unique-elements\n",
    "* 刪除出現次數為 1 的元素 == 出現次數不為 1 的元素併進答案: 1) 使用 result = [] 當起始值 2) 出現次數不為 1 併進 result\n",
    "* 提示1: List 支援 remove() Method, 有辦法利用 remove() 來解題嗎?\n",
    "* 提示2: for i in data 如果 data 在迴圈裡被改變了, 會造成 data 元素未被完整取出\n",
    "![Image](\n",
    "https://static.checkio.org/media/task/media/115c9e71decd4329a8df694808fa74d0/non-unique-elements.png)\n",
    "* 用途: 清理統計數據, 低出現頻率的數字可視為噪音值"
   ]
  },
  {
   "cell_type": "code",
   "execution_count": null,
   "metadata": {},
   "outputs": [],
   "source": [
    "# List 型別支援 remove() Method\n",
    "result = [1, 2, 3, 1, 3]\n",
    "result.remove(2)"
   ]
  },
  {
   "cell_type": "code",
   "execution_count": null,
   "metadata": {},
   "outputs": [],
   "source": [
    "result"
   ]
  },
  {
   "cell_type": "code",
   "execution_count": null,
   "metadata": {},
   "outputs": [],
   "source": [
    "# 下列程式碼哪裡會發生錯誤嗎?\n",
    "data = [10, 9, 10, 10, 9, 8]\n",
    "\n",
    "for i in data:\n",
    "    if data.count(i) == 1:\n",
    "        data = data.remove(i)\n",
    "\n",
    "print(data)"
   ]
  },
  {
   "cell_type": "code",
   "execution_count": null,
   "metadata": {},
   "outputs": [],
   "source": [
    "# 下列程式碼哪裡會發生錯誤嗎?\n",
    "data = [1, 2, 3, 4, 5]\n",
    "\n",
    "for i in data:\n",
    "    if data.count(i) == 1:\n",
    "        data.remove(i)\n",
    "\n",
    "print(data)"
   ]
  },
  {
   "cell_type": "markdown",
   "metadata": {},
   "source": [
    "# Exercise: 統計英文字母出現的次數\n",
    "* 前提: 不使用 count() 的解法\n",
    "* 建立一個函式 strstat() 輸入 string 回傳 dictionary\n",
    "* 只統計英文字母的次數, 其餘字串不計算次數\n",
    "* 提示: 先用 for 迴圈依序讀取字元, 如果字元是第一次出現, 就加進 dictionary 元素值指定為 1, 第二次(之後)出現就將元素值加 1"
   ]
  },
  {
   "cell_type": "code",
   "execution_count": null,
   "metadata": {},
   "outputs": [],
   "source": [
    "text = 'hello'\n",
    "result = {}\n",
    "for s in text:\n",
    "    if s not in result.keys():\n",
    "        result[s] = 1\n",
    "    else:\n",
    "        result[s] = result[s] + 1"
   ]
  },
  {
   "cell_type": "code",
   "execution_count": null,
   "metadata": {},
   "outputs": [],
   "source": [
    "result"
   ]
  },
  {
   "cell_type": "code",
   "execution_count": null,
   "metadata": {},
   "outputs": [],
   "source": [
    "def strstat(text):\n",
    "    result = {}\n",
    "    for i in text:\n",
    "        if i not in result.keys():\n",
    "            result[i] = 1\n",
    "        else:\n",
    "            result[i] = result[i]+1\n",
    "    # Sample Result: {'e': 1, 'h': 1, 'l': 2, 'o': 1}\n",
    "    return result"
   ]
  },
  {
   "cell_type": "code",
   "execution_count": null,
   "metadata": {},
   "outputs": [],
   "source": [
    "strstat('hello python')"
   ]
  },
  {
   "cell_type": "markdown",
   "metadata": {},
   "source": [
    "# CheckiO: The Most Wanted Letter\n",
    "* URL: https://py.checkio.org/mission/most-wanted-letter\n",
    "* 提示1: 利用 lower() 和 isalpha() 確認只統計小寫英文字母的出現次數\n",
    "* 提示2: 英文字母出現次數的統計結果, 可以用 max() 找出最大值\n",
    "* 提示3: 最高次數的字母數量可能不只一個, 可用 List 變數記錄, 最後用 sorted() 排序後再回傳答案"
   ]
  },
  {
   "cell_type": "code",
   "execution_count": null,
   "metadata": {},
   "outputs": [],
   "source": [
    "result = {'e': 1, 'h': 1, 'l': 2, 'o': 2}\n",
    "\n",
    "# 利用 max() 找出 Value 最大值\n",
    "highest = max(result.values())"
   ]
  },
  {
   "cell_type": "code",
   "execution_count": null,
   "metadata": {},
   "outputs": [],
   "source": [
    "most_wanted = []\n",
    "\n",
    "# 利用 Tuple Unpacking 取出 Key 和 Value\n",
    "for k, v in result.items():\n",
    "    if v == highest:\n",
    "        most_wanted.append(k)"
   ]
  },
  {
   "cell_type": "markdown",
   "metadata": {},
   "source": [
    "# 加總骰子數值的次數\n",
    "* 利用 random 模擬一顆骰子的投擲結果\n",
    "* 利用 for 迴圈和 List 來記錄每次的數值結果\n",
    "* 利用 Counter 建立次數統計"
   ]
  },
  {
   "cell_type": "code",
   "execution_count": null,
   "metadata": {},
   "outputs": [],
   "source": [
    "import random\n",
    "result = []\n",
    "for i in range(1000):\n",
    "    result.append(random.randint(1,6))\n",
    "\n",
    "print(result)"
   ]
  },
  {
   "cell_type": "code",
   "execution_count": null,
   "metadata": {},
   "outputs": [],
   "source": [
    "from collections import Counter\n",
    "Counter(result)"
   ]
  },
  {
   "cell_type": "markdown",
   "metadata": {},
   "source": [
    "# CheckiO: House Password\n",
    "* URL: http://py.checkio.org/mission/house-password\n",
    "* 密碼夠安全的條件: 1) 長度大於等於10個字元 2) 至少有1個數字 3) 至少有1個大寫字母 4) 至少有1個小寫字母"
   ]
  },
  {
   "cell_type": "code",
   "execution_count": null,
   "metadata": {},
   "outputs": [],
   "source": [
    "passwd = 'qazWSX1029'\n",
    "result = {'u': 0, 'l': 0, 'd': 0}\n",
    "for i in passwd:\n",
    "    if i.isupper():\n",
    "        result['u'] += 1\n",
    "    if i.islower():\n",
    "        result['l'] += 1\n",
    "    if i.isdigit():\n",
    "        result['d'] += 1\n",
    "print(result)"
   ]
  },
  {
   "cell_type": "markdown",
   "metadata": {},
   "source": [
    "# Set 集合型別\n",
    "![Set Diagram](img/set-diagram.png)\n",
    "* 和 Dictionary 一樣使用 {} 符號來進行定義\n",
    "* [Reference](http://www.python-course.eu/sets_frozensets.php)"
   ]
  },
  {
   "cell_type": "code",
   "execution_count": null,
   "metadata": {},
   "outputs": [],
   "source": [
    "# 小心別跟 Dictionary 混淆了\n",
    "basket = {'apple', 'orange', 'apple', 'pear', 'orange', 'banana'}"
   ]
  },
  {
   "cell_type": "code",
   "execution_count": null,
   "metadata": {},
   "outputs": [],
   "source": [
    "# 重覆的元素會自動被刪除\n",
    "print(basket)"
   ]
  },
  {
   "cell_type": "code",
   "execution_count": null,
   "metadata": {},
   "outputs": [],
   "source": [
    "# Membership Testng\n",
    "'orange' in basket"
   ]
  },
  {
   "cell_type": "code",
   "execution_count": null,
   "metadata": {},
   "outputs": [],
   "source": [
    "# Membership Testing\n",
    "'melon' in basket"
   ]
  },
  {
   "cell_type": "code",
   "execution_count": null,
   "metadata": {},
   "outputs": [],
   "source": [
    "# 建立空集合, 不能用 {}, 只能用 set()\n",
    "myset = set()"
   ]
  },
  {
   "cell_type": "markdown",
   "metadata": {},
   "source": [
    "# Intersect 與 Union 操作範例"
   ]
  },
  {
   "cell_type": "code",
   "execution_count": null,
   "metadata": {},
   "outputs": [],
   "source": [
    "# 技巧: 用來產生字串不重覆的字元集\n",
    "a = set('abracadabra')"
   ]
  },
  {
   "cell_type": "code",
   "execution_count": null,
   "metadata": {},
   "outputs": [],
   "source": [
    "b = set('alacazam')"
   ]
  },
  {
   "cell_type": "code",
   "execution_count": null,
   "metadata": {},
   "outputs": [],
   "source": [
    "a"
   ]
  },
  {
   "cell_type": "code",
   "execution_count": null,
   "metadata": {},
   "outputs": [],
   "source": [
    "b"
   ]
  },
  {
   "cell_type": "code",
   "execution_count": null,
   "metadata": {},
   "outputs": [],
   "source": [
    "# 出現在 a 或 b 裡的元素\n",
    "a | b"
   ]
  },
  {
   "cell_type": "code",
   "execution_count": null,
   "metadata": {},
   "outputs": [],
   "source": [
    "# 出現在 a 且 b 裡的元素\n",
    "a & b"
   ]
  },
  {
   "cell_type": "code",
   "execution_count": null,
   "metadata": {},
   "outputs": [],
   "source": [
    "# 出現在 a 但不在 b 裡的元素\n",
    "a - b"
   ]
  },
  {
   "cell_type": "code",
   "execution_count": null,
   "metadata": {},
   "outputs": [],
   "source": [
    "# 出現在 a 或 b 但不在 a & b 裡的元素\n",
    "a ^ b"
   ]
  },
  {
   "cell_type": "markdown",
   "metadata": {},
   "source": [
    "# Range, List , Tuple, Dictionary, Set 常見特性的比較\n",
    "| Range           | List            | Tuple           | Dictionary     | Set               | FrozenSet         |\n",
    "|-----------------|-----------------|-----------------|----------------|-------------------|-------------------|\n",
    "| Sequence Object | Sequence Object | Sequence Object | Mapping Object | Collection Object | Collection Object |\n",
    "| Immutable       | Mutable         | Immutable       | Mutable        | Mutable           | Immutable         |\n",
    "| Ordered         | Ordered         | Ordered         | Unordered      | Unordered         | Unordered         |\n",
    "| Access by Index | Access by Index | Access by Index | Access by Key  | Membership Test   | Membership Test   |"
   ]
  },
  {
   "cell_type": "markdown",
   "metadata": {},
   "source": [
    "# 利用 sorted 內建函式排序\n",
    "* 格式: sorted(iterable, key=None, reverse=False)\n",
    "* sorted() 可以套用在 List 或 Dictionary\n",
    "* reverse 參數用來決定正向或反向排序, 預設值 False 代表正向排序, 由小排到大\n",
    "* key 參數用來決定[比較式](http://developers.google.com/edu/python/sorting), 預設值 None 代表數值或字元的比較方式\n",
    "* 因為 Dictionary 元素並沒有存放順序, 實際上是透過 List 來間接記錄 Dictionary 的排序結果\n",
    "* [參考資訊](http://stackoverflow.com/questions/613183/how-do-i-sort-a-dictionary-by-value)"
   ]
  },
  {
   "cell_type": "code",
   "execution_count": null,
   "metadata": {},
   "outputs": [],
   "source": [
    "mylist = [9, 4, -1, 5, 2, 0]\n",
    "sorted(mylist)"
   ]
  },
  {
   "cell_type": "code",
   "execution_count": null,
   "metadata": {},
   "outputs": [],
   "source": [
    "mylist"
   ]
  },
  {
   "cell_type": "code",
   "execution_count": null,
   "metadata": {},
   "outputs": [],
   "source": [
    "sorted(['aaA', 'Cc', 'bB', 'd'])"
   ]
  },
  {
   "cell_type": "code",
   "execution_count": null,
   "metadata": {},
   "outputs": [],
   "source": [
    "# 使用 key=len 當參數, 代表指定 len() 函式為比較式\n",
    "sorted(['aaA', 'Cc', 'bB', 'd'], key=len)"
   ]
  },
  {
   "cell_type": "code",
   "execution_count": null,
   "metadata": {},
   "outputs": [],
   "source": [
    "# 使用 key=MyFn 當參數, 代表指定 MyFn() 函式為比較式\n",
    "def MyFn(text):\n",
    "    return text[-1]\n",
    "\n",
    "sorted(['aaA', 'Cc', 'bB', 'd'], key=MyFn)"
   ]
  },
  {
   "cell_type": "code",
   "execution_count": null,
   "metadata": {},
   "outputs": [],
   "source": [
    "# 在 Dictionary 場合, 預設回傳 key 的排序結果\n",
    "# 使用 reverse=True 當參數, 指定反向排序\n",
    "mydict = {'first': 9, 'second': 4, 'third': 5, 'fourth': 2, 'fifth': 0}\n",
    "sorted(mydict, reverse=True)"
   ]
  },
  {
   "cell_type": "code",
   "execution_count": null,
   "metadata": {},
   "outputs": [],
   "source": [
    "# 先把 Dictionary 轉成 List of Tuples, 再指定依 value 來排序\n",
    "sorted(mydict.items(), key=lambda kv: kv[1])"
   ]
  },
  {
   "cell_type": "markdown",
   "metadata": {},
   "source": [
    "# CheckiO: Absolute Sorting\n",
    "* URL: https://py.checkio.org/mission/absolute-sorting\n",
    "* 提示: 利用 sorted() 的 key 參數, 輸入自訂的排序條件"
   ]
  },
  {
   "cell_type": "code",
   "execution_count": null,
   "metadata": {},
   "outputs": [],
   "source": [
    "# 內建函式 abs() 會回傳絕對值\n",
    "abs(-10)"
   ]
  },
  {
   "cell_type": "markdown",
   "metadata": {},
   "source": [
    "# CheckiO: Bigger Price\n",
    "* URL: https://py.checkio.org/mission/bigger-price\n",
    "* 找出價格最高的前幾名: 1) limit 變數記錄「前幾名」的數量 2) 用 result 變數記錄 sorted() 排序 data 的結果 3) 使用 reverse=True 參數 4) 回傳 result[:limit]"
   ]
  },
  {
   "cell_type": "code",
   "execution_count": null,
   "metadata": {},
   "outputs": [],
   "source": [
    "# 假設 x 是 Dictionary 型別, 'price' 是其中一項 Key 的名稱, 下列是取得 Key 對應 Value 的函式範例\n",
    "def myfn(x):\n",
    "    return x['price']"
   ]
  },
  {
   "cell_type": "markdown",
   "metadata": {},
   "source": [
    "# CheckiO: The Most Frequent\n",
    "* URL: https://py.checkio.org/mission/the-most-frequent\n",
    "* 出現次數最多的字串: 1) 使用 str.count() 計算出現次數 2) 使用 sorted 排序"
   ]
  },
  {
   "cell_type": "markdown",
   "metadata": {},
   "source": [
    "# 利用 lambda 建立簡化函式\n",
    "![Lambda Example](img/lambda-example.png)\n",
    "* lambda 是一種 Anonymous Function, 適用於定義簡短的函式, 它沒有函式名稱, 只能在定義的行內執行, 無法在行外被呼叫\n",
    "* 留意到 lambda 式子裡的 : 後面並不需要換行\n",
    "* lambda 常搭配 map, reduce, filter 來使用, 可參考 [使用 lambda 的場合](http://pythonconquerstheuniverse.wordpress.com/2011/08/29/lambda_tutorial) [說明細節](http://towardsdatascience.com/understanding-the-use-of-lambda-expressions-map-and-filter-in-python-5e03e4b18d09), 又由於 lambda 是 Expression, 並不是 Statement, 因此可以用於 List Comprehension 的場合, 以建立可讀性更高的等義程式碼"
   ]
  },
  {
   "cell_type": "code",
   "execution_count": null,
   "metadata": {},
   "outputs": [],
   "source": [
    "# 猜看看 lambda 會是什麼型別呢?\n",
    "type(labmda x: math.sqrt(x)*10)"
   ]
  },
  {
   "cell_type": "code",
   "execution_count": null,
   "metadata": {},
   "outputs": [],
   "source": [
    "# 如果想讓 lambda 函式有個名稱, 透過變數指派就行了\n",
    "myfn = labmda x: math.sqrt(x)*10"
   ]
  },
  {
   "cell_type": "code",
   "execution_count": null,
   "metadata": {},
   "outputs": [],
   "source": [
    "# 下列是兩個變數的 lambda 範例\n",
    "lambda x, y: x ** 2 + y ** 2"
   ]
  },
  {
   "cell_type": "markdown",
   "metadata": {},
   "source": [
    "# sorted() vs List.sort()\n",
    "* sorted() 會回傳一個新的 List\n",
    "* List.sort() 會更改 List 本身, 並回傳 None"
   ]
  },
  {
   "cell_type": "code",
   "execution_count": null,
   "metadata": {},
   "outputs": [],
   "source": [
    "# 如果要排序的元素已經在 List 裡, List.sort() 比 sorted() 效能好\n",
    "alist = ['aaA', 'Cc', 'bB', 'd']"
   ]
  },
  {
   "cell_type": "code",
   "execution_count": null,
   "metadata": {},
   "outputs": [],
   "source": [
    "# List.sort() 會直接更改 List 本身\n",
    "alist.sort()"
   ]
  },
  {
   "cell_type": "code",
   "execution_count": null,
   "metadata": {},
   "outputs": [],
   "source": [
    "blist = alist.sort()\n",
    "# 這個敘述式通常是錯的或無效的, 因為 List.sort() 的回傳值是 None"
   ]
  },
  {
   "cell_type": "markdown",
   "metadata": {},
   "source": [
    "# Function 函式進階\n",
    "* 技巧: 函式可以接受參數值 argc 和 argv"
   ]
  },
  {
   "cell_type": "markdown",
   "metadata": {},
   "source": [
    "# CheckiO: Min and Max\n",
    "* URL: http://py.checkio.org/mission/min-max\n",
    "* 提示: iter() 內建函式"
   ]
  },
  {
   "cell_type": "code",
   "execution_count": null,
   "metadata": {},
   "outputs": [],
   "source": [
    "# 幣值轉換的函式範例\n",
    "def rmb2ntd(price):\n",
    "    return price * 5"
   ]
  },
  {
   "cell_type": "code",
   "execution_count": null,
   "metadata": {},
   "outputs": [],
   "source": [
    "# item_price 包含五個人民幣價目, results 回傳轉換成新台幣的金額\n",
    "item_price = [15, 25, 30, 12, 22]\n",
    "results = []\n",
    "for i in item_price:\n",
    "    results.append(rmb2ntd(i))\n",
    "\n",
    "print(results)"
   ]
  },
  {
   "cell_type": "markdown",
   "metadata": {},
   "source": [
    "# 利用 map() 函式執行重覆計算\n",
    "* map() 參數先接 Function 再接 Sequence, 結果通常與 For Loop 同義\n",
    "Pythonic 是指內行人的寫法; 處理同樣的問題, 能用更道地的寫法 http://towardsdatascience.com/3-advanced-python-functions-for-data-scientists-f869016da63a"
   ]
  },
  {
   "cell_type": "code",
   "execution_count": null,
   "metadata": {},
   "outputs": [],
   "source": [
    "# 等同於上述計算結果\n",
    "seq1 = list(map(rmb2ntd, item_price))"
   ]
  },
  {
   "cell_type": "code",
   "execution_count": null,
   "metadata": {},
   "outputs": [],
   "source": [
    "# 等同於上述計算結果\n",
    "seq2 = list(map(lambda x: x * 5, item_price))\n",
    "print(seq2)"
   ]
  },
  {
   "cell_type": "markdown",
   "metadata": {},
   "source": [
    "# 利用 filter() 函式過濾符合條件的元素\n",
    "* filter() 參數先接 Function 再接 Sequence"
   ]
  },
  {
   "cell_type": "code",
   "execution_count": null,
   "metadata": {},
   "outputs": [],
   "source": [
    "seq3 = list(filter((lambda x: x > 100 and x < 125), seq1))\n",
    "print(seq3)"
   ]
  },
  {
   "cell_type": "markdown",
   "metadata": {},
   "source": [
    "# List Comprehension\n",
    "* 等同於透過迴圈產生 List 的運算結果, [語法](http://www.pythonforbeginners.com/basics/list-comprehensions-in-python)是先建立 [ ] 然後在括號內輸入 expression, for, condition\n",
    "* [優點](http://towardsdatascience.com/how-list-comprehensions-can-help-your-code-look-better-and-run-smoother-3cf8f87172ae)包括: 1) 程式碼較精簡 2) 執行效率較好 3) 更符合 Pythonic 風格規範, 可視為程式版的成語\n",
    "* 進一步可以建立 Generator, 讓程式應用更一般化"
   ]
  },
  {
   "cell_type": "code",
   "execution_count": null,
   "metadata": {},
   "outputs": [],
   "source": [
    "# 等同於上述 seq1 的計算結果\n",
    "seq11 = [rmb2ntd(i) for i in item_price]\n",
    "print(seq11)"
   ]
  },
  {
   "cell_type": "code",
   "execution_count": null,
   "metadata": {},
   "outputs": [],
   "source": [
    "# 在 List Comprehension 裡套用 if 條件式\n",
    "seq13 = [rmb2ntd(i) for i in item_price if rmb2ntd(i) > 100]\n",
    "print(seq13)"
   ]
  },
  {
   "cell_type": "markdown",
   "metadata": {},
   "source": [
    "## Let's find out what names are defined after `import` is run"
   ]
  },
  {
   "cell_type": "code",
   "execution_count": null,
   "metadata": {},
   "outputs": [],
   "source": [
    "# Try dir() here\n",
    "dir()"
   ]
  },
  {
   "cell_type": "markdown",
   "metadata": {
    "collapsed": true
   },
   "source": [
    "# `__name__` 是 Scope 名稱變數\n",
    "在 Python 直譯器讀進程式碼前, 它會先設定 `__name__` 在內的幾個特殊變數, 如果程式碼是直接被執行, 那麼 `__name__` 會被指定成 \"`__main__`\", 如果是透過 import 來執行, 程式碼 `__name__` 會被指定成模組的名稱"
   ]
  },
  {
   "cell_type": "code",
   "execution_count": null,
   "metadata": {},
   "outputs": [],
   "source": [
    "print(__name__)"
   ]
  },
  {
   "cell_type": "markdown",
   "metadata": {},
   "source": [
    "# 利用 ```__name__``` 分辨程式是直接執行或是被 import\n",
    "`__main__` 是 Python 程式執行階段的最上層 scope 名稱, 使用 main 是沿用 C 語言的慣例"
   ]
  },
  {
   "cell_type": "markdown",
   "metadata": {},
   "source": [
    "<pre>if __name__ == '__main__':\n",
    "    main()</pre>"
   ]
  },
  {
   "cell_type": "markdown",
   "metadata": {},
   "source": [
    "### 透過 mymath.py 和 myscore.py 示範 import 與 __name__"
   ]
  }
 ],
 "metadata": {
  "kernelspec": {
   "display_name": "Python 3",
   "language": "python",
   "name": "python3"
  },
  "language_info": {
   "codemirror_mode": {
    "name": "ipython",
    "version": 3
   },
   "file_extension": ".py",
   "mimetype": "text/x-python",
   "name": "python",
   "nbconvert_exporter": "python",
   "pygments_lexer": "ipython3",
   "version": "3.7.4"
  }
 },
 "nbformat": 4,
 "nbformat_minor": 2
}
