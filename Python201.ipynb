{
 "cells": [
  {
   "cell_type": "markdown",
   "metadata": {},
   "source": [
    "# 認識 Python 進階型別和語法"
   ]
  },
  {
   "cell_type": "markdown",
   "metadata": {},
   "source": [
    "# Number Data Type"
   ]
  },
  {
   "cell_type": "markdown",
   "metadata": {},
   "source": [
    "https://medium.freecodecamp.org/awesome-python-modules-you-probably-arent-using-but-should-be-ec926da27439 https://stackoverflow.com/questions/27276610/boolean-identity-true-vs-is-true\n",
    "https://stackoverflow.com/questions/14083111/should-i-use-encoding-declaration-in-python-3\n",
    "https://www.youtube.com/watch?v=ODjFDZC_TyA 列印偶數format string 6 Python Exercise https://www.youtube.com/watch?v=vYquumk4nWw recursion 範例fib(n)\n",
    "縮排的留意原則: 超過 N 層的縮排, 代表程式碼要進行優化 (brians-programming 有抱怨)\n",
    "Call by Assignment https://vinta.ws/code/python-is-call-by-assignment.html\n",
    "## Python 3 正式納入 Floor Division\n",
    "詳見 <a href=\"https://docs.python.org/3/whatsnew/2.2.html#pep-238-changing-the-division-operator\">PEP 238</a> 說明\n",
    "https://docs.python.org/3/tutorial/floatingpoint.html\n",
    ".1 + .1 + .1 == .3 round(.1, 1) + round(.1, 1) + round(.1, 1) == round(.3, 1) round(.1 + .1 + .1, 10) == round(.3, 10)"
   ]
  },
  {
   "cell_type": "code",
   "execution_count": null,
   "metadata": {
    "collapsed": true
   },
   "outputs": [],
   "source": [
    "# Floor Division 是向下取整的計算形式, Python 2.2 之後實作這項功能, 使用 // 符號作為運算子\n",
    "6 // 5\n",
    "Different ways to test multiple flags at once in Python\n",
    "if x == 1\n",
    "if any( (x,y,z) )"
   ]
  },
  {
   "cell_type": "markdown",
   "metadata": {},
   "source": [
    "# Reverse Indexing\n",
    "https://www.facebook.com/groups/pythontw/permalink/10159791678168438/\n",
    "# Assignment Tips\n",
    "* [More Examples](http://python-reference.readthedocs.io/en/latest/docs/operators/assignment.html)\n",
    "* [Interesting Insides](http://medium.com/broken-window/many-names-one-memory-address-122f78734cb6)\n",
    "* http://medium.com/better-programming/how-to-check-if-a-number-is-prime-in-python-9855e87cd9f8"
   ]
  },
  {
   "cell_type": "markdown",
   "metadata": {},
   "source": [
    "# Multiple-Target Assignment"
   ]
  },
  {
   "cell_type": "code",
   "execution_count": null,
   "metadata": {
    "collapsed": true
   },
   "outputs": [],
   "source": [
    "a = b = c = 10"
   ]
  },
  {
   "cell_type": "markdown",
   "metadata": {},
   "source": [
    "# Multiple-Variable Assignment"
   ]
  },
  {
   "cell_type": "code",
   "execution_count": null,
   "metadata": {
    "collapsed": true
   },
   "outputs": [],
   "source": [
    "a, b, c = 1, 2, 3\n",
    "\n",
    "# In fact, the value is a tuple"
   ]
  },
  {
   "cell_type": "markdown",
   "metadata": {},
   "source": [
    "# Algorithm: Bubble Sorting\n",
    "* https://www.youtube.com/watch?v=KLvH6yi5YYU\n",
    "* https://realpython.com/python-timer/\n",
    "f'Downloaded the file in {toc - tic:0.4f} seconds'\n",
    "# How Tuple Swapping Works\n",
    "* Python separates the right-hand side expression from the left-hand side assignment.\n",
    "* First the right-hand side is evaluated, and the result is stored on the stack, and then the left-hand side names are assigned using [opcodes](http://stackoverflow.com/questions/21047524) that take values from the stack again."
   ]
  },
  {
   "cell_type": "markdown",
   "metadata": {},
   "source": [
    "# 中文單詞分詞\n",
    "中文沒辦法用 text.split(' ') 來斷詞, 常見方式是藉助 Jieba 工具來進行字詞切割"
   ]
  },
  {
   "cell_type": "code",
   "execution_count": null,
   "metadata": {},
   "outputs": [],
   "source": [
    "import jieba\n",
    "\n",
    "text = ''\n",
    "words = jieba.posseg.cut(text)\n",
    "[word for word in words]"
   ]
  },
  {
   "cell_type": "markdown",
   "metadata": {},
   "source": [
    "# assert Statments get Ignored when Compile with Optimization Option\n",
    "* See [Python Reference Documentation](https://stackoverflow.com/questions/5142418/what-is-the-use-of-assert-in-python)"
   ]
  },
  {
   "cell_type": "markdown",
   "metadata": {},
   "source": [
    "# Extract the Current Year from Your Computer\n",
    "Hint: google 'python get current year'"
   ]
  },
  {
   "cell_type": "code",
   "execution_count": null,
   "metadata": {
    "collapsed": true
   },
   "outputs": [],
   "source": [
    "import datetime\n",
    "this_year = datetime.date.today().year"
   ]
  },
  {
   "cell_type": "markdown",
   "metadata": {},
   "source": [
    "# List Comprehension\n",
    "http://www.pythonforbeginners.com/basics/list-comprehensions-in-python\n",
    "https://medium.com/@yong.cui01/9-things-to-know-to-master-list-comprehensions-in-python-8bc0411ec2ed"
   ]
  },
  {
   "cell_type": "code",
   "execution_count": null,
   "metadata": {
    "collapsed": true
   },
   "outputs": [],
   "source": [
    "seq11 = [rmb2ntd(i) for i in item_price]\n",
    "print(seq11)"
   ]
  },
  {
   "cell_type": "code",
   "execution_count": null,
   "metadata": {
    "collapsed": true
   },
   "outputs": [],
   "source": [
    "seq13 = [rmb2ntd(i) for i in item_price if rmb2ntd(i) > 100]\n",
    "print(seq13)"
   ]
  },
  {
   "cell_type": "markdown",
   "metadata": {
    "collapsed": true
   },
   "source": [
    "# List Mutability and Copy\n",
    "Shallow Copy vs Deep Copy"
   ]
  },
  {
   "cell_type": "markdown",
   "metadata": {},
   "source": [
    "# str() vs repr() "
   ]
  },
  {
   "cell_type": "code",
   "execution_count": null,
   "metadata": {
    "collapsed": true
   },
   "outputs": [],
   "source": [
    "# Let's see how they are different with datetime objects\n",
    "import datetime\n",
    "now = datetime.datetime.now()"
   ]
  },
  {
   "cell_type": "code",
   "execution_count": null,
   "metadata": {
    "collapsed": true
   },
   "outputs": [],
   "source": [
    "str(now)"
   ]
  },
  {
   "cell_type": "code",
   "execution_count": null,
   "metadata": {
    "collapsed": true
   },
   "outputs": [],
   "source": [
    "repr(now)"
   ]
  },
  {
   "cell_type": "markdown",
   "metadata": {},
   "source": [
    "# 利用 Zip 變換二維矩陣\n",
    "* http://puremonkey2010.blogspot.com/2015/10/python-python-zip.html\n",
    "* http://medium.com/better-programming/stop-using-range-in-your-python-for-loops-53c04593f936\n",
    "* https://medium.com/@edenau/4-common-mistakes-python-beginners-should-avoid-89bcebd2c628"
   ]
  },
  {
   "cell_type": "code",
   "execution_count": null,
   "metadata": {},
   "outputs": [],
   "source": [
    "a = [[1, 2, 3], [4, 5, 6], [7, 8, 9]]\n",
    "print([row[col] for row in a] for col in range(len(a[0])))"
   ]
  },
  {
   "cell_type": "code",
   "execution_count": null,
   "metadata": {},
   "outputs": [],
   "source": [
    "zip(*a)"
   ]
  },
  {
   "cell_type": "code",
   "execution_count": null,
   "metadata": {},
   "outputs": [],
   "source": [
    "map(list, zip(*a))"
   ]
  },
  {
   "cell_type": "markdown",
   "metadata": {},
   "source": [
    "# Dictionary 型別\n",
    "dicts aren't sorted, so what if you want to do something in a sorted way?\n",
    "set 不保證順序 https://www.facebook.com/groups/pythontw/permalink/10160374721058438/\n",
    "https://codefellows.github.io/sea-f2-python-sept14/session05.html\n",
    "Merge: https://www.youtube.com/watch?v=Duexw08KaC8"
   ]
  },
  {
   "cell_type": "markdown",
   "metadata": {},
   "source": [
    "# Operator Overloading\n",
    "* Classes have special function names -- methods they can implement to use Python's defined operators. This include slicing, arithmetic operations and subscripting. For example, __getitem__() refers to subscripting. Hence, x[i] is equivalent to type(x).__getitem__(x,i).\n",
    "* Reference: http://medium.freecodecamp.org/how-not-to-be-afraid-of-python-anymore-b37b58871795"
   ]
  },
  {
   "cell_type": "markdown",
   "metadata": {},
   "source": [
    "# Function Arguments"
   ]
  },
  {
   "cell_type": "code",
   "execution_count": null,
   "metadata": {},
   "outputs": [],
   "source": [
    "如何輸入不定數量的變數值? 先嘗試 [] 再試 *args\n",
    "def running_total(*args):\n",
    "    result = 0\n",
    "    for x in args:\n",
    "        result = result + x\n",
    "    return result\n",
    "# What is the output of the following Code Fragment?\n",
    "def addToList(val, list=[]):\n",
    "    list.append(val)\n",
    "    return list\n",
    "\n",
    "list1 = addToList(10)\n",
    "list2 = addToList(123,[])\n",
    "list3 = addToList('a')\n",
    "\n",
    "print(\"list1 = %s\" % list1)\n",
    "print(\"list2 = %s\" % list2)\n",
    "print(\"list3 = %s\" % list3)"
   ]
  },
  {
   "cell_type": "code",
   "execution_count": null,
   "metadata": {},
   "outputs": [],
   "source": [
    "# Revised Implementation\n",
    "def addToList2(val, list=None):\n",
    "    if list is None:\n",
    "        list = []\n",
    "    list.append(val)\n",
    "    return list\n",
    "\n",
    "list1 = addToList2(10)\n",
    "list2 = addToList2(123,[])\n",
    "list3 = addToList2('a')\n",
    "\n",
    "print(\"list1 = %s\" % list1)\n",
    "print(\"list2 = %s\" % list2)\n",
    "print(\"list3 = %s\" % list3)"
   ]
  },
  {
   "cell_type": "markdown",
   "metadata": {},
   "source": [
    "## Position Arguments vs Keyword Arguments"
   ]
  },
  {
   "cell_type": "code",
   "execution_count": null,
   "metadata": {
    "collapsed": true
   },
   "outputs": [],
   "source": [
    "6 / 5"
   ]
  },
  {
   "cell_type": "markdown",
   "metadata": {},
   "source": [
    "# Keyword-Only Arguments\n",
    "Arguments that can only be supplied by keyword and which will never be automatically filled in by a positional argument. See <a href=\"https://www.python.org/dev/peps/pep-3102/\">PEP 312</a> for more info."
   ]
  },
  {
   "cell_type": "code",
   "execution_count": null,
   "metadata": {
    "collapsed": true
   },
   "outputs": [],
   "source": [
    "2 ** 5"
   ]
  },
  {
   "cell_type": "markdown",
   "metadata": {},
   "source": [
    "## Python 2 與 Python 3 的差異之一\n",
    "#Python 2 (before keyword-only arguments)\n",
    "<pre>def foo(x, y, foo=None, *args): print [x, y, foo, args]\n",
    "\n",
    "foo(1, 2, 3, 4)            --> [1, 2, 3, (4, )]  # foo == 4\n",
    "foo(1, 2, 3, 4, foo=True)  --> TypeError</pre>"
   ]
  },
  {
   "cell_type": "code",
   "execution_count": null,
   "metadata": {
    "collapsed": true
   },
   "outputs": [],
   "source": [
    "# Python 3 (with keyword-only arguments)\n",
    "\n",
    "def foo(x, y, *args, foo=None): print([x, y, foo, args])\n",
    "\n",
    "foo(1, 2, 3, 4)"
   ]
  },
  {
   "cell_type": "code",
   "execution_count": null,
   "metadata": {
    "collapsed": true
   },
   "outputs": [],
   "source": [
    "foo(1, 2, 3, 4, foo=True)"
   ]
  },
  {
   "cell_type": "code",
   "execution_count": null,
   "metadata": {
    "collapsed": true
   },
   "outputs": [],
   "source": [
    "# 建立空串列\n",
    "mylist = []\n",
    "\n",
    "mylist = [1, 2, 3]"
   ]
  },
  {
   "cell_type": "markdown",
   "metadata": {},
   "source": [
    "# Function 函式\n",
    "* 參考[撰寫 Function 的注意事項](https://hackernoon.com/write-better-python-functions-c3a9a36382a6)"
   ]
  },
  {
   "cell_type": "markdown",
   "metadata": {},
   "source": [
    "# 利用 enumerate() 函式\n",
    "http://geeksforgeeks.org/enumerate-in-python\n",
    "# 利用 map() 函式執行重覆計算\n",
    "map() 參數先接 Function 再接 Sequence, 結果通常與 For Loop 同義\n",
    "https://www.facebook.com/groups/pythontw/permalink/10159380483058438/"
   ]
  },
  {
   "cell_type": "code",
   "execution_count": null,
   "metadata": {
    "collapsed": true
   },
   "outputs": [],
   "source": [
    "seq1 = list(map(rmb2ntd, item_price))"
   ]
  },
  {
   "cell_type": "markdown",
   "metadata": {},
   "source": [
    "# 利用 filter() 函式過濾符合條件的元素"
   ]
  },
  {
   "cell_type": "code",
   "execution_count": null,
   "metadata": {
    "collapsed": true
   },
   "outputs": [],
   "source": [
    "seq3 = list(filter((lambda x: x > 100 and x < 125), seq1))\n",
    "print(seq3)"
   ]
  },
  {
   "cell_type": "markdown",
   "metadata": {},
   "source": [
    "# 利用 lambda 函式簡化定義\n",
    "是一種 Anonymous Function"
   ]
  },
  {
   "cell_type": "code",
   "execution_count": null,
   "metadata": {
    "collapsed": true
   },
   "outputs": [],
   "source": [
    "seq2 = list(map(lambda x: x * 5, item_price))\n",
    "print(seq2)"
   ]
  },
  {
   "cell_type": "markdown",
   "metadata": {},
   "source": [
    "## Let's find out what names are defined after `import` is run"
   ]
  },
  {
   "cell_type": "code",
   "execution_count": null,
   "metadata": {
    "collapsed": true
   },
   "outputs": [],
   "source": [
    "# Try dir() here"
   ]
  },
  {
   "cell_type": "markdown",
   "metadata": {
    "collapsed": true
   },
   "source": [
    "# `__name__` 是 Scope 名稱變數\n",
    "在 Python 直譯器讀進程式碼前, 它會先設定 `__name__` 在內的幾個特殊變數, 如果程式碼是直接被執行, 那麼 `__name__` 會被指定成 \"`__main__`\", 如果是透過 import 來執行, 程式碼 `__name__` 會被指定成模組的名稱\n",
    "https://twitter.com/raymondh/status/1186868472178806785 https://learndatasci.com/tutorials/python-pandas-tutorial-complete-introduction-for-beginners/"
   ]
  },
  {
   "cell_type": "code",
   "execution_count": null,
   "metadata": {
    "collapsed": true
   },
   "outputs": [],
   "source": [
    "print(__name__)"
   ]
  },
  {
   "cell_type": "markdown",
   "metadata": {},
   "source": [
    "# 利用 ```__name__``` 分辨程式是直接執行或是被 import\n",
    "`__main__` 是 Python 程式執行階段的最上層 scope 名稱\n",
    "opts args : http://codertw.com/程式語言/371141\n"
   ]
  },
  {
   "cell_type": "markdown",
   "metadata": {},
   "source": [
    "<pre>if __name__ == '__main__':\n",
    "    main()</pre>"
   ]
  },
  {
   "cell_type": "markdown",
   "metadata": {},
   "source": [
    "# Calendar\n",
    "* https://stackoverflow.com/questions/36341484/get-day-name-from-weekday-int"
   ]
  },
  {
   "cell_type": "markdown",
   "metadata": {},
   "source": [
    "# Standard Library: urllib"
   ]
  },
  {
   "cell_type": "code",
   "execution_count": null,
   "metadata": {
    "collapsed": true
   },
   "outputs": [],
   "source": [
    "from urllib.request import urlopen\n",
    "from bs4 import BeautifulSoup as bs\n",
    "html = urlopen(\"http://www.python.org/\")\n",
    "soup = bs(html.read(), \"html5lib\")\n",
    "# https://stackoverflow.com/questions/45494505/python-difference-between-lxml-and-html-parser-and-html5lib-with-beautifu\n",
    "# read() will move the current point to end_of_file"
   ]
  },
  {
   "cell_type": "code",
   "execution_count": null,
   "metadata": {
    "collapsed": true
   },
   "outputs": [],
   "source": [
    "soup.title"
   ]
  },
  {
   "cell_type": "code",
   "execution_count": null,
   "metadata": {
    "collapsed": true
   },
   "outputs": [],
   "source": [
    "# https://stackoverflow.com/questions/12339323/beautifulsoup-findall-find-all\n",
    "# findAll for older versions, find_all for bs4\n",
    "tags = soup.findAll(\"h2\", {\"class\": \"widget-title\"})"
   ]
  },
  {
   "cell_type": "code",
   "execution_count": null,
   "metadata": {
    "collapsed": true
   },
   "outputs": [],
   "source": [
    "for tag in tags:\n",
    "    print(tag.getText())"
   ]
  },
  {
   "cell_type": "markdown",
   "metadata": {},
   "source": [
    "一般場合可以使用 random 模組, 進階場合建議使用 secret 模組\n",
    "更多 random 模組說明 可以參考<a href=\"https://www.youtube.com/watch?v=KzqSDvzOFNA\">這段影片解說</a>\n",
    "https://www.facebook.com/groups/pythontw/permalink/10159168472073438/"
   ]
  },
  {
   "cell_type": "markdown",
   "metadata": {},
   "source": [
    "# Exception Handling - Try, Except and Finally\n",
    "參考影片 https://www.youtube.com/watch?v=HQqqNBZosn8"
   ]
  },
  {
   "cell_type": "code",
   "execution_count": null,
   "metadata": {
    "collapsed": true
   },
   "outputs": [],
   "source": [
    "try:\n",
    "    f = open(\"myfile.txt\", encoding='utf-8')\n",
    "    # perform file operations\n",
    "# make sure the file is closed even if an exception occurs\n",
    "finally:\n",
    "    f.close()"
   ]
  }
 ],
 "metadata": {
  "kernelspec": {
   "display_name": "Python 3",
   "language": "python",
   "name": "python3"
  },
  "language_info": {
   "codemirror_mode": {
    "name": "ipython",
    "version": 3
   },
   "file_extension": ".py",
   "mimetype": "text/x-python",
   "name": "python",
   "nbconvert_exporter": "python",
   "pygments_lexer": "ipython3",
   "version": "3.7.4"
  }
 },
 "nbformat": 4,
 "nbformat_minor": 2
}
