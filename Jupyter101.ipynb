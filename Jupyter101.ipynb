{
 "cells": [
  {
   "cell_type": "markdown",
   "metadata": {},
   "source": [
    "# 指定 Startup Directory 啟動目錄\n",
    "* 打開 Anaconda Prompt 執行 cd 指令, 切換到想要的啟動目錄, 例如 D:\\mydata\n",
    "* 執行 jupyter notebook 指令\n",
    "* 參考 https://stackoverflow.com/questions/35254852/how-to-change-the-jupyter-start-up-folder"
   ]
  },
  {
   "cell_type": "markdown",
   "metadata": {},
   "source": [
    "# Title Info, Tabs, Files\n",
    "* Tabs: Files, Running, Clusters\n",
    "* 使用 CodeMirror 可以自訂編輯器參數, 下列是 JavaScript 版本的設定範例\n",
    "\n",
    "var mycell = Jupyter.notebook.get_selected_cell();\n",
    "var cell_config = mycell.config;\n",
    "var code_patch = {\n",
    "      CodeCell:{\n",
    "        cm_config:{indentUnit:2}\n",
    "      }\n",
    "    }\n",
    "cell_config.update(code_patch)"
   ]
  },
  {
   "cell_type": "markdown",
   "metadata": {},
   "source": [
    "# Security\n",
    "* Raw HTML is always sanitized (checked for malicious coding). See https://developers.google.com/caja\n",
    "* You cannot run external JavaScript.\n",
    "* Cell contents (especially HTML and JavaScript) are not trusted (requires user validation to continue).\n",
    "* The output from any cell is not trusted.\n",
    "* All other HTML or JavaScript is never trusted. Clearing the output will cause the notebook to become trusted when saved.\n",
    "# Security Digest\n",
    "* You add a security digest to a notebook using the following command:\n",
    "~/.jupyter/profile_default/security/notebook_secret\n",
    "# Trust Options\n",
    "* You can specifically apply your trust to a notebook\n",
    "jupyter trust /path/to/notebook.ipynb"
   ]
  },
  {
   "cell_type": "markdown",
   "metadata": {},
   "source": [
    "# Overview\n",
    "* [For Data Science](https://benchling.engineering/move-fast-and-migrate-things-how-we-automated-migrations-in-postgres-d60aba0fc3d4)"
   ]
  },
  {
   "cell_type": "markdown",
   "metadata": {},
   "source": [
    "# Command Mode vs Edit Mode\n",
    "Cell 顯示藍色代表 Command Mode, 顯示綠色代表 Edit Mode"
   ]
  },
  {
   "cell_type": "markdown",
   "metadata": {},
   "source": [
    "[iframe Not Available in Notebook 2.0](http://github.com/ipython/ipython/issues/5711)"
   ]
  },
  {
   "cell_type": "code",
   "execution_count": null,
   "metadata": {
    "collapsed": true
   },
   "outputs": [],
   "source": [
    "%%html\n",
    "<iframe width=\"980\" height=\"566\" src=\"https://www.youtube.com/embed/HW29067qVWk?start=390\" frameborder=\"0\" allowfullscreen></iframe>"
   ]
  },
  {
   "cell_type": "markdown",
   "metadata": {},
   "source": [
    "Untitled 是預設存檔名稱, 自動建立 .ipynb-checkpoint 目錄, 用來儲存 Manual Save 的內容"
   ]
  },
  {
   "cell_type": "markdown",
   "metadata": {},
   "source": [
    "# 清除 Cell 執行結果\n",
    "Cell | All Output | Clear"
   ]
  },
  {
   "cell_type": "markdown",
   "metadata": {},
   "source": [
    "# Restarting Notebook\n",
    "* 發現 Jupyter Notebook 反應不正常時, 可以到 Running Tab 查詢執行中的檔案, 點擊 Shutdown 關閉, 再重新開啟 Notebook 檔案\n",
    "![Running Notebooks](img/notebook-running.png)"
   ]
  },
  {
   "cell_type": "markdown",
   "metadata": {},
   "source": [
    "# Magic Commands"
   ]
  },
  {
   "cell_type": "code",
   "execution_count": null,
   "metadata": {
    "collapsed": true
   },
   "outputs": [],
   "source": [
    "# 使用 %lsmagic 可以顯示所有魔術指令\n",
    "%lsmagic"
   ]
  },
  {
   "cell_type": "markdown",
   "metadata": {},
   "source": [
    "# Jupyter Starting Directory\n",
    "* Anaconda Prompt: `jupyter notebook --generate-config`\n",
    "* Edit C:\\Users\\username\\.jupyter\\jupyter_notebook_config `c.NotebookApp.notebook_dir = 'your_path'`\n",
    "* [Reference](http://stackoverflow.com/questions/35254852)"
   ]
  },
  {
   "cell_type": "markdown",
   "metadata": {},
   "source": [
    "# Managing Python\n",
    "[Conda User Guide](https://conda.io/docs/user-guide/tasks/manage-python.html)\n",
    "* Viewing a List of available Python versions\n",
    "* Installing a Different version of Python\n",
    "* Using a Different version of Python\n",
    "* Updating or Upgrading Python"
   ]
  },
  {
   "cell_type": "markdown",
   "metadata": {},
   "source": [
    "# Anaconda Cloud\n",
    "* Anaconda Prompt\n",
    "* anaconda upload Python101.ipynb"
   ]
  },
  {
   "cell_type": "markdown",
   "metadata": {},
   "source": [
    "# Access CSV Using `readlines()`\n",
    "Google Stock Market Data\n",
    "網址在 http://goo.gl/3zaUlD"
   ]
  },
  {
   "cell_type": "code",
   "execution_count": null,
   "metadata": {
    "collapsed": true
   },
   "outputs": [],
   "source": [
    "data_file = r'C:\\Users\\marr\\Desktop\\PythonPandas\\google_stock_data.csv'\n",
    "lines = open(data_file).readlines()\n",
    "print(lines[0])\n",
    "print(lines[1])\n",
    "print(lines[-1])"
   ]
  },
  {
   "cell_type": "code",
   "execution_count": null,
   "metadata": {
    "collapsed": true
   },
   "outputs": [],
   "source": [
    "lines[0].strip().split(',')"
   ]
  },
  {
   "cell_type": "markdown",
   "metadata": {},
   "source": [
    "# Access CSV Rows Using `csv` Module"
   ]
  },
  {
   "cell_type": "code",
   "execution_count": null,
   "metadata": {
    "collapsed": true
   },
   "outputs": [],
   "source": [
    "import csv\n",
    "\n",
    "data_file = 'data.csv'\n",
    "with open(data_file, 'r') as csvfile:\n",
    "    reader = csv.DictReader(csvfile)\n",
    "    for row in reader:\n",
    "        print(row['Country'], row['Year'], row['Price index'])"
   ]
  },
  {
   "cell_type": "markdown",
   "metadata": {},
   "source": [
    "# Filter Using max() min() set()"
   ]
  },
  {
   "cell_type": "code",
   "execution_count": null,
   "metadata": {
    "collapsed": true
   },
   "outputs": [],
   "source": [
    "import csv\n",
    "data_file = 'google_stock_data.csv'\n",
    "with open(data_file, 'r') as csvfile:\n",
    "    reader = csv.DictReader(csvfile)\n",
    "    for row in reader:\n",
    "        print(row['Date'], row['High'], row['Low'])\n",
    "        \n",
    "def dataset(path):\n",
    "    with open(path, 'r') as csvfile:\n",
    "        reader = csv.DictReader(csvfile)\n",
    "        for row in reader:\n",
    "            yield row\n",
    "            \n",
    "date_highest = max(set(row['Date'] for row in dataset(data_file)))\n",
    "value_lowest = min(set(float(row['Low']) for row in dataset(data_file)))\n",
    "value_highest = max(set(float(row['High']) for row in dataset(data_file)))\n",
    "\n",
    "print('Highest: ' + str(value_highest))\n",
    "print('Lowest: ' + str(value_lowest))"
   ]
  },
  {
   "cell_type": "markdown",
   "metadata": {},
   "source": [
    "# Read Data Using DataReader\n",
    "<img src=\"https://lh5.googleusercontent.com/mGeXINMAmkWrtc3PSSWJvPB-i2X5Trovz8cl3Sev34PuWFtNmeAn0ETg-UNcpKiSOwYvNo0dY1n_vwA=w1920-h943\" />"
   ]
  },
  {
   "cell_type": "code",
   "execution_count": null,
   "metadata": {
    "collapsed": true
   },
   "outputs": [],
   "source": [
    "import pandas_datareader as pdr\n",
    "\n",
    "pdr.get_data_yahoo('AAPL')\n",
    "pdr.get_quote_google(['AMZN', 'GOOG'])"
   ]
  },
  {
   "cell_type": "markdown",
   "metadata": {},
   "source": [
    "# Native Array Just Like List"
   ]
  },
  {
   "cell_type": "code",
   "execution_count": null,
   "metadata": {
    "collapsed": true
   },
   "outputs": [],
   "source": [
    "from array import array\n",
    "mylist = [25, 30]\n",
    "array('b', [25, 30, 22]) * 5"
   ]
  },
  {
   "cell_type": "code",
   "execution_count": null,
   "metadata": {
    "collapsed": true
   },
   "outputs": [],
   "source": [
    "import numpy as np\n",
    "\n",
    "price = np.array([25, 30, 22])\n",
    "price * 5"
   ]
  },
  {
   "cell_type": "markdown",
   "metadata": {},
   "source": [
    "# Trick Show: Widgets\n",
    "<img src=\"https://blog.dominodatalab.com/wp-content/uploads/2016/05/slider.gif\" />\n",
    "https://blog.dominodatalab.com/interactive-dashboards-in-jupyter/"
   ]
  },
  {
   "cell_type": "code",
   "execution_count": null,
   "metadata": {
    "collapsed": true
   },
   "outputs": [],
   "source": [
    "from ipywidgets import widgets\n",
    "from IPython.display import display\n",
    "\n",
    "text = widgets.Text()\n",
    "display(text)\n",
    "\n",
    "def handle_submit(sender):\n",
    "    print(text.value)\n",
    "    \n",
    "text.on_submit(handle_submit)"
   ]
  },
  {
   "cell_type": "markdown",
   "metadata": {},
   "source": [
    "實用範例\n",
    "下載範本檔案: 網址在 https://goo.gl/9yJHQt  右上方有下載按鈕\n",
    "檔案畫面最上方欄位有 Country, Year, …"
   ]
  },
  {
   "cell_type": "markdown",
   "metadata": {},
   "source": [
    "# matplotlib, pyplot, pylab: 怎樣的關係?\n",
    "* matplotlib 是完整的繪圖套件\n",
    "* matplotlib.pyplot 是 matplotlib 裡的模組\n",
    "* pylab 是附隨 matplotlib 安裝的模組\n",
    "* %matplotlib inline 指令可以讓圖形不在新視窗裡呈現"
   ]
  }
 ],
 "metadata": {
  "kernelspec": {
   "display_name": "Python 3",
   "language": "python",
   "name": "python3"
  },
  "language_info": {
   "codemirror_mode": {
    "name": "ipython",
    "version": 3
   },
   "file_extension": ".py",
   "mimetype": "text/x-python",
   "name": "python",
   "nbconvert_exporter": "python",
   "pygments_lexer": "ipython3",
   "version": "3.7.4"
  }
 },
 "nbformat": 4,
 "nbformat_minor": 2
}
