{
 "cells": [
  {
   "cell_type": "markdown",
   "metadata": {},
   "source": [
    "# Web Scraping\n",
    "* 網站使用 HTML 做為預設的文件格式, 由於 HTML 有規範與標準, 瀏覽器可以依據規範來顯示畫面\n",
    "* 有時候 HTML 文件沒有依照規範來編排, 這種狀況被稱為 tag soup\n",
    "* 使用 requests 模組擷取 HTML 文件, 再透過 BeautifulSoup 模組分析 tag 內容, 是常見的處理方式"
   ]
  },
  {
   "cell_type": "markdown",
   "metadata": {},
   "source": [
    "# requests 模組\n",
    "* 存取網站檔案的優秀工具\n",
    "* 網頁檔案常見的存取方式是 Get 和 Post 模式"
   ]
  },
  {
   "cell_type": "code",
   "execution_count": null,
   "metadata": {
    "collapsed": true
   },
   "outputs": [],
   "source": [
    "# 載入模組\n",
    "import requests"
   ]
  },
  {
   "cell_type": "code",
   "execution_count": null,
   "metadata": {
    "collapsed": true
   },
   "outputs": [],
   "source": [
    "# 回傳 Response 物件\n",
    "req = requests.get(\"https://api.github.com/events\")"
   ]
  },
  {
   "cell_type": "code",
   "execution_count": null,
   "metadata": {
    "collapsed": true
   },
   "outputs": [],
   "source": [
    "# 顯示 Response 內容\n",
    "req.text"
   ]
  },
  {
   "cell_type": "code",
   "execution_count": null,
   "metadata": {
    "collapsed": true
   },
   "outputs": [],
   "source": [
    "# 在網址輸入參數\n",
    "payload = {'key1': 'value1', 'key2': 'value2'}\n",
    "req = requests.get('http://httpbin.org/get', params=payload)"
   ]
  },
  {
   "cell_type": "code",
   "execution_count": null,
   "metadata": {
    "collapsed": true
   },
   "outputs": [],
   "source": [
    "print(req.url)"
   ]
  },
  {
   "cell_type": "code",
   "execution_count": null,
   "metadata": {
    "collapsed": true
   },
   "outputs": [],
   "source": [
    "# 參數可以是 List of Strings\n",
    "payload = {'key1': 'value1', 'key2': ['value2', 'value3']}\n",
    "req = requests.get('http://httpbin.org/get', params=payload)"
   ]
  },
  {
   "cell_type": "code",
   "execution_count": null,
   "metadata": {
    "collapsed": true
   },
   "outputs": [],
   "source": [
    "print(req.url)"
   ]
  },
  {
   "cell_type": "markdown",
   "metadata": {},
   "source": [
    "# BeautifulSoup 模組\n",
    "* 用來分析存取 HTML 文件的工具\n",
    "* 輸入的資料預設會使用 Unicode 編碼, 輸出的資料預設使用 UTF-8 編碼"
   ]
  },
  {
   "cell_type": "code",
   "execution_count": null,
   "metadata": {
    "collapsed": true
   },
   "outputs": [],
   "source": [
    "from bs4 import BeautifulSoup\n",
    "import requests\n",
    "\n",
    "url = \"\"\n",
    "req = requests.get(url)\n",
    "data = req.text\n",
    "soup = BeautifulSoup(data)\n",
    "\n",
    "for link in soup.find_all('a'):\n",
    "    print(link.get('href'))"
   ]
  }
 ],
 "metadata": {
  "kernelspec": {
   "display_name": "Python 3",
   "language": "python",
   "name": "python3"
  },
  "language_info": {
   "codemirror_mode": {
    "name": "ipython",
    "version": 3
   },
   "file_extension": ".py",
   "mimetype": "text/x-python",
   "name": "python",
   "nbconvert_exporter": "python",
   "pygments_lexer": "ipython3",
   "version": "3.6.2"
  }
 },
 "nbformat": 4,
 "nbformat_minor": 2
}
