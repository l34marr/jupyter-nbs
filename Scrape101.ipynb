{
 "cells": [
  {
   "cell_type": "markdown",
   "metadata": {},
   "source": [
    "# Web Scraping\n",
    "![Web Scrape](img/web-scrape.png)\n",
    "* 網站使用 HTML 做為預設的文件格式, 由於 HTML 有規範與標準, 瀏覽器可以依據規範來顯示畫面\n",
    "* 有時候 HTML 文件沒有依照規範來編排, 這種狀況被稱為 tag soup\n",
    "* 使用 requests 模組擷取 HTML 文件, 再透過 BeautifulSoup 模組分析 tag 內容, 是常見的處理方式"
   ]
  },
  {
   "cell_type": "markdown",
   "metadata": {},
   "source": [
    "# requests 模組\n",
    "* 存取網站檔案的優秀工具\n",
    "* 網頁檔案常見的存取方式是 Get 和 Post 模式, Get 模式的參數可以從網址看到, Post 模式不會把參數在網址顯示\n",
    "* 正常擷取網頁的話, 回傳值是 200, 其他號碼可參考 [HTTP Status Code](https://en.wikipedia.org/wiki/List_of_HTTP_status_codes) 文件說明"
   ]
  },
  {
   "cell_type": "code",
   "execution_count": null,
   "metadata": {
    "collapsed": true
   },
   "outputs": [],
   "source": [
    "# 載入模組\n",
    "import requests"
   ]
  },
  {
   "cell_type": "code",
   "execution_count": null,
   "metadata": {
    "collapsed": true
   },
   "outputs": [],
   "source": [
    "# 回傳 Response 物件\n",
    "req = requests.get(\"https://api.github.com/events\")"
   ]
  },
  {
   "cell_type": "code",
   "execution_count": null,
   "metadata": {
    "collapsed": true
   },
   "outputs": [],
   "source": [
    "# 檢查 HTTP Status Code 回傳值\n",
    "req"
   ]
  },
  {
   "cell_type": "code",
   "execution_count": null,
   "metadata": {
    "collapsed": true
   },
   "outputs": [],
   "source": [
    "# 顯示網頁內容\n",
    "req.text"
   ]
  },
  {
   "cell_type": "code",
   "execution_count": null,
   "metadata": {
    "collapsed": true
   },
   "outputs": [],
   "source": [
    "# 顯示內容的編碼格式, 預設應是 utf-8\n",
    "req.encoding"
   ]
  },
  {
   "cell_type": "code",
   "execution_count": null,
   "metadata": {
    "collapsed": true
   },
   "outputs": [],
   "source": [
    "# 在網址輸入參數\n",
    "payload = {'key1': 'value1', 'key2': 'value2'}\n",
    "req2 = requests.get('http://httpbin.org/get', params=payload)\n",
    "\n",
    "# 註: httpbin.org 是一個適合測試練習 HTTP 服務的網站"
   ]
  },
  {
   "cell_type": "code",
   "execution_count": null,
   "metadata": {
    "collapsed": true
   },
   "outputs": [],
   "source": [
    "print(req.url)"
   ]
  },
  {
   "cell_type": "code",
   "execution_count": null,
   "metadata": {
    "collapsed": true
   },
   "outputs": [],
   "source": [
    "# 參數可以是 List of Strings\n",
    "payload = {'key1': 'value1', 'key2': ['value2', 'value3']}\n",
    "req2 = requests.get('http://httpbin.org/get', params=payload)"
   ]
  },
  {
   "cell_type": "code",
   "execution_count": null,
   "metadata": {
    "collapsed": true
   },
   "outputs": [],
   "source": [
    "print(req.url)"
   ]
  },
  {
   "cell_type": "code",
   "execution_count": null,
   "metadata": {
    "collapsed": true
   },
   "outputs": [],
   "source": [
    "# Post 範例\n",
    "req3 = requests.post('http://httpbin.org/post', data = {'key': 'value'})"
   ]
  },
  {
   "cell_type": "markdown",
   "metadata": {},
   "source": [
    "## 常見錯誤訊息\n",
    "* SSLError: (\"bad handshake: Error([('SSL routines', 'SSL23_GET_SERVER_HELLO', 'tlsv1 unrecognized name')],)\",) -- Mac User 可能要[檢查 OpenSSL 安裝狀況](https://github.com/requests/requests/issues/2022)\n",
    "* Response [403]: Forbidden -- 可能要求明確的 User-Agent 參數\n",
    "* TypeError: object of type 'Response' has no len() -- 要使用 req.text\n",
    "* UnicodeEncodeError: 'cp950' codec can't encode character '\\xa0' in position 3999: illegal multibyte sequence\n",
    "* [big5 encoding 處理方式](http://sjkou.net/2017/01/06/python-requests-encoding/)"
   ]
  },
  {
   "cell_type": "markdown",
   "metadata": {},
   "source": [
    "# BeautifulSoup 模組\n",
    "* 用來分析存取 HTML 文件的工具, 會將 HTML 文件轉換成 Python Object Tree\n",
    "* 常見的 Object 型別是 Tag\n",
    "* 輸入的資料預設會使用 Unicode 編碼, 輸出的資料預設使用 UTF-8 編碼"
   ]
  },
  {
   "cell_type": "code",
   "execution_count": null,
   "metadata": {
    "collapsed": true
   },
   "outputs": [],
   "source": [
    "import requests\n",
    "from bs4 import BeautifulSoup"
   ]
  },
  {
   "cell_type": "code",
   "execution_count": null,
   "metadata": {
    "collapsed": true
   },
   "outputs": [],
   "source": [
    "# 範例: 最近中文新書清單\n",
    "url = \"http://www.tenlong.com.tw/zh_tw/recent\"\n",
    "tenlong = requests.get(url)"
   ]
  },
  {
   "cell_type": "code",
   "execution_count": null,
   "metadata": {
    "collapsed": true
   },
   "outputs": [],
   "source": [
    "# 建立 BeautifulSoup 物件, 參數指定 'html.parser'\n",
    "soup = BeautifulSoup(tenlong.text, 'html.parser')"
   ]
  },
  {
   "cell_type": "code",
   "execution_count": null,
   "metadata": {
    "collapsed": true
   },
   "outputs": [],
   "source": [
    "# 顯示排版後的 HTML 內容\n",
    "soup.prettify()"
   ]
  },
  {
   "cell_type": "code",
   "execution_count": null,
   "metadata": {
    "collapsed": true
   },
   "outputs": [],
   "source": [
    "# 顯示 Soup 第一階 Object Tree 物件名稱\n",
    "list(soup.children)"
   ]
  },
  {
   "cell_type": "code",
   "execution_count": null,
   "metadata": {
    "collapsed": true
   },
   "outputs": [],
   "source": [
    "# 顯示 Soup 第一階物件的資料型別\n",
    "for item in soup.children:\n",
    "    print(type(item))\n",
    "\n",
    "# Tag Object 是 BeautifulSoup 最常被使用的資料型別"
   ]
  },
  {
   "cell_type": "code",
   "execution_count": null,
   "metadata": {
    "collapsed": true
   },
   "outputs": [],
   "source": [
    "# 顯示所有文字內容\n",
    "soup.get_text()"
   ]
  },
  {
   "cell_type": "markdown",
   "metadata": {},
   "source": [
    "# 認識物件樹\n",
    "![Object Tree](img/object-tree.png)\n",
    "* 最常見是利用 .contents 和 .children 屬性來向下查詢, 如果 Children 裡更底層的 Children 都要存取, 可用 .descendants 屬性\n",
    "* .contents 回傳 List, .children 回傳 Generator"
   ]
  },
  {
   "cell_type": "markdown",
   "metadata": {},
   "source": [
    "# Tag Object\n",
    "* Tag 之間有 Children, Parent, Sibling 的關係\n",
    "* 可以搭配瀏覽器\"檢查元素\"功能, 找出需要的 Tag 規則\n",
    "* 常見技巧: 顯示所有 Link 和文字內容"
   ]
  },
  {
   "cell_type": "code",
   "execution_count": null,
   "metadata": {
    "collapsed": true
   },
   "outputs": [],
   "source": [
    "# 顯示所有 Link 網址\n",
    "for link in soup.find_all('a'):\n",
    "    print(link.get('href'))"
   ]
  },
  {
   "cell_type": "code",
   "execution_count": null,
   "metadata": {
    "collapsed": true
   },
   "outputs": [],
   "source": [
    "# 顯示 p Tag 的文字內容\n",
    "p.get_text()"
   ]
  },
  {
   "cell_type": "markdown",
   "metadata": {},
   "source": [
    "# 利用 find_all() 找出符合條件的資料\n",
    "* 格式: find_all(\"tag_name\", arguments)"
   ]
  },
  {
   "cell_type": "code",
   "execution_count": null,
   "metadata": {
    "collapsed": true
   },
   "outputs": [],
   "source": [
    "# 找出所有 li (List) Tag 的內容\n",
    "soup.find_all(\"li\")"
   ]
  },
  {
   "cell_type": "code",
   "execution_count": null,
   "metadata": {
    "collapsed": true
   },
   "outputs": [],
   "source": [
    "# 指定 class 參數\n",
    "soup.find_all(\"li\", {\"class\": \"single-book\"})"
   ]
  },
  {
   "cell_type": "code",
   "execution_count": null,
   "metadata": {
    "collapsed": true
   },
   "outputs": [],
   "source": [
    "# 找出所有新書 title\n",
    "book_list = soup.find_all(\"li\", {\"class\": \"single-book\"})\n",
    "for book in book_list:\n",
    "    print(book.h3.get_text())\n",
    "\n",
    "# 如果有額外的空白, 可用 strip() 濾除"
   ]
  },
  {
   "cell_type": "code",
   "execution_count": null,
   "metadata": {
    "collapsed": true
   },
   "outputs": [],
   "source": [
    "# 找出所有新書 pricing\n",
    "for book in book_list:\n",
    "    print(list(book.div.children)[-1])"
   ]
  },
  {
   "cell_type": "code",
   "execution_count": null,
   "metadata": {
    "collapsed": true
   },
   "outputs": [],
   "source": [
    "# 找出所有新書 product URL\n",
    "for book in book_list:\n",
    "    print(book.h3.a['href'])\n",
    "\n",
    "# 可能需要補上 prefix 成為完整網址"
   ]
  },
  {
   "cell_type": "markdown",
   "metadata": {},
   "source": [
    "# 利用檔案記錄需要的資料\n",
    "* CSV 是常見的檔案格式, 可用 , 或 \\t 來分隔欄位\n",
    "* 中文內容的檔案, 如果沒有指定 encoding=\"utf-8\" 可能會有亂碼問題"
   ]
  },
  {
   "cell_type": "code",
   "execution_count": null,
   "metadata": {
    "collapsed": true
   },
   "outputs": [],
   "source": [
    "import requests\n",
    "from bs4 import BeautifulSoup\n",
    "\n",
    "tenlong = requests.get(\"http://www.tenlong.com.tw/zh_tw/recent\")\n",
    "soup = BeautifulSoup(tenlong.text, 'html.parser')\n",
    "\n",
    "book_list = soup.find_all(\"li\", {\"class\": \"single-book\"})\n",
    "lines = []\n",
    "for book in book_list:\n",
    "    title = book.h3.get_text().strip()\n",
    "    price = list(book.div.children)[-1].replace('售價:','').strip()\n",
    "    p_url = book.h3.a['href']\n",
    "    lines.append(title + '\\t' + price + '\\t' + p_url + '\\n')\n",
    "with open(\"tenlong-recent.csv\", \"w\", encoding=\"utf-8\") as f:\n",
    "    f.writelines('Title\\tPrice\\tProduct_URL\\n')\n",
    "    f.writelines(lines)"
   ]
  },
  {
   "cell_type": "markdown",
   "metadata": {},
   "source": [
    "# 換頁擷取網頁\n",
    "* 試著找看看網址規則"
   ]
  },
  {
   "cell_type": "code",
   "execution_count": null,
   "metadata": {
    "collapsed": true
   },
   "outputs": [],
   "source": [
    "soup.find_all(\"a\", {\"class\": \"next_page\"})"
   ]
  },
  {
   "cell_type": "markdown",
   "metadata": {},
   "source": [
    "# 指定 User Agent String\n",
    "* 有些網址要求明確的 User Agent 資料, 不然無法透過 requests 存取\n",
    "* 範例網址: http://packtpub.com/packt/offers/free-learning\n",
    "* 利用 Google 查詢 User Agent: what is my user agent string"
   ]
  },
  {
   "cell_type": "code",
   "execution_count": null,
   "metadata": {
    "collapsed": true
   },
   "outputs": [],
   "source": [
    "# 試試直接要求能否成功?\n",
    "url = \"http://packtpub.com/packt/offers/free-learning\"\n",
    "packt = requests.get(url)\n",
    "packt"
   ]
  },
  {
   "cell_type": "code",
   "execution_count": null,
   "metadata": {
    "collapsed": true
   },
   "outputs": [],
   "source": [
    "# 透過 Dictionary 指定 User Agent 資料\n",
    "headers = {'User-Agent': 'Mozilla/5.0 (Windows NT 10.0; Win64; x64; rv:57.0) Gecko/20100101 Firefox/57.0'}"
   ]
  },
  {
   "cell_type": "code",
   "execution_count": null,
   "metadata": {
    "collapsed": true
   },
   "outputs": [],
   "source": [
    "# 加上 headers 參數\n",
    "packt = requests.get(url, headers=headers)"
   ]
  },
  {
   "cell_type": "markdown",
   "metadata": {},
   "source": [
    "# 輸入 Search Keyword 取得查詢結果\n",
    "* 範例網址: http://packtpub.com/all"
   ]
  },
  {
   "cell_type": "code",
   "execution_count": null,
   "metadata": {
    "collapsed": true
   },
   "outputs": [],
   "source": [
    "# 請配合自己的需要修改參數值\n",
    "url = 'http://packtpub.com/all'\n",
    "params = {'search': 'python'}\n",
    "headers = {'User-Agent': 'Mozilla/5.0 (Windows NT 10.0; Win64; x64; rv:57.0) Gecko/20100101 Firefox/57.0'}"
   ]
  },
  {
   "cell_type": "code",
   "execution_count": null,
   "metadata": {
    "collapsed": true
   },
   "outputs": [],
   "source": [
    "packt = requests.get(url, params=params, headers=headers)"
   ]
  },
  {
   "cell_type": "code",
   "execution_count": null,
   "metadata": {
    "collapsed": true
   },
   "outputs": [],
   "source": [
    "soup = BeautifulSoup(packt.text, 'html.parser')"
   ]
  },
  {
   "cell_type": "markdown",
   "metadata": {},
   "source": [
    "# CSS Selector\n",
    "* 使用 select() Method"
   ]
  },
  {
   "cell_type": "code",
   "execution_count": null,
   "metadata": {
    "collapsed": true
   },
   "outputs": [],
   "source": [
    "soup.select(\"div p\")"
   ]
  },
  {
   "cell_type": "markdown",
   "metadata": {},
   "source": [
    "# API\n",
    "* [YouTube Comment](https://developers.google.com/youtube/v3/docs/comments)"
   ]
  },
  {
   "cell_type": "markdown",
   "metadata": {},
   "source": [
    "# 使用 Selenium 模組\n",
    "* HTML 是經由 [JavaScript render](http://pala.tw/python-web-crawler/) 產生時, 就得搭配 [Selenium](http://medium.com/@hoppy/how-to-test-or-scrape-javascript-rendered-websites-with-python-selenium-a-beginner-step-by-c137892216aa) 之類的模組來爬取內容\n",
    "* 先確認是否已安裝 -- [在 Anaconda 環境安裝](https://stackoverflow.com/questions/46137219/how-to-install-selenium-in-a-conda-environment)\n",
    "* conda install -c conda-forge selenium"
   ]
  },
  {
   "cell_type": "code",
   "execution_count": null,
   "metadata": {
    "collapsed": true
   },
   "outputs": [],
   "source": [
    "import selenium\n",
    "\n",
    "browser = selenium.webdriver.Chrome()\n",
    "browser.get(\"http://anaconda.org/\")\n",
    "nav = browser.find_element_by_css_selector('ul.right')"
   ]
  },
  {
   "cell_type": "markdown",
   "metadata": {},
   "source": [
    "# Regular Expression\n",
    "* 中文稱為正規表示式或正則表達式, 英文簡寫成 regex, 常用於字串比對, 例如找出文件裡的電話號碼/身份證號碼/電子郵件地址/網址\n",
    "* 建議使用 [Raw String](http://regexone.com/references/python) 來簡化 \\ 符號的影響\n",
    "![Email Example](https://www.computerhope.com/jargon/r/regular-expression.gif)"
   ]
  },
  {
   "cell_type": "code",
   "execution_count": null,
   "metadata": {},
   "outputs": [],
   "source": [
    "import re\n",
    "re.findall(r'\\S+', re.sub(r'([?.])', r' \\1', 'What are you doing?'))"
   ]
  }
 ],
 "metadata": {
  "kernelspec": {
   "display_name": "Python 3",
   "language": "python",
   "name": "python3"
  },
  "language_info": {
   "codemirror_mode": {
    "name": "ipython",
    "version": 3
   },
   "file_extension": ".py",
   "mimetype": "text/x-python",
   "name": "python",
   "nbconvert_exporter": "python",
   "pygments_lexer": "ipython3",
   "version": "3.6.6"
  }
 },
 "nbformat": 4,
 "nbformat_minor": 2
}
